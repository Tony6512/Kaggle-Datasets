{
  "metadata": {
    "kernelspec": {
      "language": "python",
      "display_name": "Python 3",
      "name": "python3"
    },
    "language_info": {
      "name": "python",
      "version": "3.10.12",
      "mimetype": "text/x-python",
      "codemirror_mode": {
        "name": "ipython",
        "version": 3
      },
      "pygments_lexer": "ipython3",
      "nbconvert_exporter": "python",
      "file_extension": ".py"
    },
    "kaggle": {
      "accelerator": "none",
      "dataSources": [
        {
          "sourceId": 3442322,
          "sourceType": "datasetVersion",
          "datasetId": 2073626
        }
      ],
      "dockerImageVersionId": 30886,
      "isInternetEnabled": true,
      "language": "python",
      "sourceType": "notebook",
      "isGpuEnabled": false
    },
    "colab": {
      "provenance": [],
      "toc_visible": true,
      "include_colab_link": true
    }
  },
  "nbformat_minor": 0,
  "nbformat": 4,
  "cells": [
    {
      "cell_type": "markdown",
      "metadata": {
        "id": "view-in-github",
        "colab_type": "text"
      },
      "source": [
        "<a href=\"https://colab.research.google.com/github/Tony6512/Kaggle-Datasets/blob/main/ford_car_price_prediction.ipynb\" target=\"_parent\"><img src=\"https://colab.research.google.com/assets/colab-badge.svg\" alt=\"Open In Colab\"/></a>"
      ]
    },
    {
      "cell_type": "code",
      "source": [
        "# This Python 3 environment comes with many helpful analytics libraries installed\n",
        "# It is defined by the kaggle/python Docker image: https://github.com/kaggle/docker-python\n",
        "# For example, here's several helpful packages to load\n",
        "\n",
        "import numpy as np # linear algebra\n",
        "import pandas as pd # data processing, CSV file I/O (e.g. pd.read_csv)\n",
        "\n",
        "# Input data files are available in the read-only \"../input/\" directory\n",
        "# For example, running this (by clicking run or pressing Shift+Enter) will list all files under the input directory\n",
        "\n",
        "import os\n",
        "for dirname, _, filenames in os.walk('/kaggle/input'):\n",
        "    for filename in filenames:\n",
        "        print(os.path.join(dirname, filename))\n",
        "\n",
        "# You can write up to 20GB to the current directory (/kaggle/working/) that gets preserved as output when you create a version using \"Save & Run All\"\n",
        "# You can also write temporary files to /kaggle/temp/, but they won't be saved outside of the current session"
      ],
      "metadata": {
        "_uuid": "8f2839f25d086af736a60e9eeb907d3b93b6e0e5",
        "_cell_guid": "b1076dfc-b9ad-4769-8c92-a6c4dae69d19",
        "trusted": true,
        "execution": {
          "iopub.status.busy": "2025-03-01T15:02:47.405556Z",
          "iopub.execute_input": "2025-03-01T15:02:47.405763Z",
          "iopub.status.idle": "2025-03-01T15:02:48.344395Z",
          "shell.execute_reply.started": "2025-03-01T15:02:47.405739Z",
          "shell.execute_reply": "2025-03-01T15:02:48.342960Z"
        },
        "id": "jdlDBU5o6Tm_"
      },
      "outputs": [],
      "execution_count": null
    },
    {
      "cell_type": "markdown",
      "source": [
        "https://www.kaggle.com/datasets/adhurimquku/ford-car-price-prediction/data"
      ],
      "metadata": {
        "id": "exZcMHcR6TnD"
      }
    },
    {
      "cell_type": "markdown",
      "source": [
        "# Intro"
      ],
      "metadata": {
        "id": "HlI1-rZj6TnG"
      }
    },
    {
      "cell_type": "code",
      "source": [
        "# data analysis and wrangling\n",
        "import pandas as pd\n",
        "import numpy as np\n",
        "import random as rnd\n",
        "import scipy\n",
        "import statsmodels.api as sm\n",
        "import time\n",
        "\n",
        "# visualization\n",
        "import seaborn as sns\n",
        "sns.set(style=\"darkgrid\")\n",
        "import matplotlib.pyplot as plt\n",
        "%matplotlib inline\n",
        "\n",
        "import warnings\n",
        "warnings.filterwarnings('ignore')"
      ],
      "metadata": {
        "trusted": true,
        "execution": {
          "iopub.status.busy": "2025-03-01T15:03:22.724768Z",
          "iopub.execute_input": "2025-03-01T15:03:22.725131Z",
          "iopub.status.idle": "2025-03-01T15:03:25.230764Z",
          "shell.execute_reply.started": "2025-03-01T15:03:22.725101Z",
          "shell.execute_reply": "2025-03-01T15:03:25.229302Z"
        },
        "id": "xOJOn5KD6TnI"
      },
      "outputs": [],
      "execution_count": null
    },
    {
      "cell_type": "code",
      "source": [
        "df = pd.read_csv(\"/kaggle/input/ford-car-price-prediction/ford.csv\")"
      ],
      "metadata": {
        "trusted": true,
        "execution": {
          "iopub.status.busy": "2025-03-01T15:03:26.660545Z",
          "iopub.execute_input": "2025-03-01T15:03:26.661182Z",
          "iopub.status.idle": "2025-03-01T15:03:26.713765Z",
          "shell.execute_reply.started": "2025-03-01T15:03:26.661147Z",
          "shell.execute_reply": "2025-03-01T15:03:26.712370Z"
        },
        "id": "itAWz94E6TnK"
      },
      "outputs": [],
      "execution_count": null
    },
    {
      "cell_type": "code",
      "source": [
        "df.shape"
      ],
      "metadata": {
        "trusted": true,
        "execution": {
          "iopub.status.busy": "2025-03-01T15:03:27.132162Z",
          "iopub.execute_input": "2025-03-01T15:03:27.132453Z",
          "iopub.status.idle": "2025-03-01T15:03:27.138802Z",
          "shell.execute_reply.started": "2025-03-01T15:03:27.132430Z",
          "shell.execute_reply": "2025-03-01T15:03:27.137527Z"
        },
        "id": "6UeKcCWY6TnN"
      },
      "outputs": [],
      "execution_count": null
    },
    {
      "cell_type": "code",
      "source": [
        "df.info()"
      ],
      "metadata": {
        "trusted": true,
        "execution": {
          "iopub.status.busy": "2025-03-01T15:03:27.649473Z",
          "iopub.execute_input": "2025-03-01T15:03:27.649830Z",
          "iopub.status.idle": "2025-03-01T15:03:27.683593Z",
          "shell.execute_reply.started": "2025-03-01T15:03:27.649774Z",
          "shell.execute_reply": "2025-03-01T15:03:27.681883Z"
        },
        "id": "la-JQFaI6TnP"
      },
      "outputs": [],
      "execution_count": null
    },
    {
      "cell_type": "code",
      "source": [
        "# Strip extra spaces from all string entries in the DataFrame\n",
        "# df = df.applymap(lambda x: x.strip() if isinstance(x, str) else x)\n",
        "df = df.map(lambda x: x.strip() if isinstance(x, str) else x)"
      ],
      "metadata": {
        "trusted": true,
        "execution": {
          "iopub.status.busy": "2025-03-01T15:03:30.151282Z",
          "iopub.execute_input": "2025-03-01T15:03:30.151601Z",
          "iopub.status.idle": "2025-03-01T15:03:30.197337Z",
          "shell.execute_reply.started": "2025-03-01T15:03:30.151579Z",
          "shell.execute_reply": "2025-03-01T15:03:30.196270Z"
        },
        "id": "Qen9Kw6c6TnQ"
      },
      "outputs": [],
      "execution_count": null
    },
    {
      "cell_type": "code",
      "source": [
        "df.head()"
      ],
      "metadata": {
        "trusted": true,
        "execution": {
          "iopub.status.busy": "2025-03-01T15:03:31.178192Z",
          "iopub.execute_input": "2025-03-01T15:03:31.178506Z",
          "iopub.status.idle": "2025-03-01T15:03:31.200757Z",
          "shell.execute_reply.started": "2025-03-01T15:03:31.178478Z",
          "shell.execute_reply": "2025-03-01T15:03:31.199506Z"
        },
        "id": "WkwupqBB6TnR"
      },
      "outputs": [],
      "execution_count": null
    },
    {
      "cell_type": "code",
      "source": [
        "df.tail()"
      ],
      "metadata": {
        "trusted": true,
        "execution": {
          "iopub.status.busy": "2025-03-01T15:03:31.569609Z",
          "iopub.execute_input": "2025-03-01T15:03:31.570030Z",
          "iopub.status.idle": "2025-03-01T15:03:31.582692Z",
          "shell.execute_reply.started": "2025-03-01T15:03:31.569998Z",
          "shell.execute_reply": "2025-03-01T15:03:31.581814Z"
        },
        "id": "uLWunXM06TnS"
      },
      "outputs": [],
      "execution_count": null
    },
    {
      "cell_type": "code",
      "source": [
        "df.nunique()"
      ],
      "metadata": {
        "trusted": true,
        "execution": {
          "iopub.status.busy": "2025-03-01T15:03:32.662498Z",
          "iopub.execute_input": "2025-03-01T15:03:32.662860Z",
          "iopub.status.idle": "2025-03-01T15:03:32.674884Z",
          "shell.execute_reply.started": "2025-03-01T15:03:32.662825Z",
          "shell.execute_reply": "2025-03-01T15:03:32.673571Z"
        },
        "id": "7GZBm1tu6TnT"
      },
      "outputs": [],
      "execution_count": null
    },
    {
      "cell_type": "code",
      "source": [
        "df.isnull().sum()"
      ],
      "metadata": {
        "trusted": true,
        "execution": {
          "iopub.status.busy": "2025-03-01T15:03:33.021817Z",
          "iopub.execute_input": "2025-03-01T15:03:33.022110Z",
          "iopub.status.idle": "2025-03-01T15:03:33.031202Z",
          "shell.execute_reply.started": "2025-03-01T15:03:33.022084Z",
          "shell.execute_reply": "2025-03-01T15:03:33.030338Z"
        },
        "id": "FQ7bZGVi6TnT"
      },
      "outputs": [],
      "execution_count": null
    },
    {
      "cell_type": "markdown",
      "source": [
        "No missing data."
      ],
      "metadata": {
        "id": "T48cgb0d6TnU"
      }
    },
    {
      "cell_type": "code",
      "source": [
        "df.isna().sum()"
      ],
      "metadata": {
        "trusted": true,
        "execution": {
          "iopub.status.busy": "2025-03-01T15:03:40.113876Z",
          "iopub.execute_input": "2025-03-01T15:03:40.114156Z",
          "iopub.status.idle": "2025-03-01T15:03:40.123022Z",
          "shell.execute_reply.started": "2025-03-01T15:03:40.114135Z",
          "shell.execute_reply": "2025-03-01T15:03:40.121628Z"
        },
        "id": "t4gO_wOt6TnU"
      },
      "outputs": [],
      "execution_count": null
    },
    {
      "cell_type": "markdown",
      "source": [
        "No NA labels."
      ],
      "metadata": {
        "id": "O_b459J16TnV"
      }
    },
    {
      "cell_type": "code",
      "source": [
        "df.duplicated().sum()"
      ],
      "metadata": {
        "trusted": true,
        "execution": {
          "iopub.status.busy": "2025-03-01T15:04:04.037409Z",
          "iopub.execute_input": "2025-03-01T15:04:04.037731Z",
          "iopub.status.idle": "2025-03-01T15:04:04.049095Z",
          "shell.execute_reply.started": "2025-03-01T15:04:04.037699Z",
          "shell.execute_reply": "2025-03-01T15:04:04.047962Z"
        },
        "id": "IwytBx9R6TnV"
      },
      "outputs": [],
      "execution_count": null
    },
    {
      "cell_type": "code",
      "source": [
        "df[df.duplicated(keep = False)]"
      ],
      "metadata": {
        "trusted": true,
        "execution": {
          "iopub.status.busy": "2025-03-01T15:04:06.462956Z",
          "iopub.execute_input": "2025-03-01T15:04:06.463277Z",
          "iopub.status.idle": "2025-03-01T15:04:06.485380Z",
          "shell.execute_reply.started": "2025-03-01T15:04:06.463251Z",
          "shell.execute_reply": "2025-03-01T15:04:06.484325Z"
        },
        "id": "vjSsravU6TnV"
      },
      "outputs": [],
      "execution_count": null
    },
    {
      "cell_type": "code",
      "source": [
        "## remove duplicates\n",
        "df.drop_duplicates(inplace=True)"
      ],
      "metadata": {
        "trusted": true,
        "execution": {
          "iopub.status.busy": "2025-03-01T15:04:08.519233Z",
          "iopub.execute_input": "2025-03-01T15:04:08.519536Z",
          "iopub.status.idle": "2025-03-01T15:04:08.532304Z",
          "shell.execute_reply.started": "2025-03-01T15:04:08.519510Z",
          "shell.execute_reply": "2025-03-01T15:04:08.530929Z"
        },
        "id": "uB86WVgX6TnW"
      },
      "outputs": [],
      "execution_count": null
    },
    {
      "cell_type": "code",
      "source": [
        "df.shape"
      ],
      "metadata": {
        "trusted": true,
        "execution": {
          "iopub.status.busy": "2025-03-01T15:04:08.921126Z",
          "iopub.execute_input": "2025-03-01T15:04:08.921432Z",
          "iopub.status.idle": "2025-03-01T15:04:08.927451Z",
          "shell.execute_reply.started": "2025-03-01T15:04:08.921409Z",
          "shell.execute_reply": "2025-03-01T15:04:08.926594Z"
        },
        "id": "SLfEodE26TnW"
      },
      "outputs": [],
      "execution_count": null
    },
    {
      "cell_type": "code",
      "source": [
        "df.describe()"
      ],
      "metadata": {
        "trusted": true,
        "execution": {
          "iopub.status.busy": "2025-03-01T15:04:09.950043Z",
          "iopub.execute_input": "2025-03-01T15:04:09.950347Z",
          "iopub.status.idle": "2025-03-01T15:04:09.976358Z",
          "shell.execute_reply.started": "2025-03-01T15:04:09.950317Z",
          "shell.execute_reply": "2025-03-01T15:04:09.975605Z"
        },
        "id": "NrwEerlS6TnW"
      },
      "outputs": [],
      "execution_count": null
    },
    {
      "cell_type": "code",
      "source": [
        "df.describe(exclude = [np.number])"
      ],
      "metadata": {
        "trusted": true,
        "execution": {
          "iopub.status.busy": "2025-03-01T15:04:10.355111Z",
          "iopub.execute_input": "2025-03-01T15:04:10.355457Z",
          "iopub.status.idle": "2025-03-01T15:04:10.374535Z",
          "shell.execute_reply.started": "2025-03-01T15:04:10.355421Z",
          "shell.execute_reply": "2025-03-01T15:04:10.373240Z"
        },
        "id": "N615ueQH6TnX"
      },
      "outputs": [],
      "execution_count": null
    },
    {
      "cell_type": "code",
      "source": [
        "cts_feat = df.describe().columns\n",
        "cts_feat"
      ],
      "metadata": {
        "trusted": true,
        "execution": {
          "iopub.status.busy": "2025-03-01T15:04:11.921725Z",
          "iopub.execute_input": "2025-03-01T15:04:11.922088Z",
          "iopub.status.idle": "2025-03-01T15:04:11.938930Z",
          "shell.execute_reply.started": "2025-03-01T15:04:11.922063Z",
          "shell.execute_reply": "2025-03-01T15:04:11.937931Z"
        },
        "id": "hGD0Jq1n6TnX"
      },
      "outputs": [],
      "execution_count": null
    },
    {
      "cell_type": "code",
      "source": [
        "cts_feat.shape"
      ],
      "metadata": {
        "trusted": true,
        "execution": {
          "iopub.status.busy": "2025-03-01T15:04:13.156157Z",
          "iopub.execute_input": "2025-03-01T15:04:13.156464Z",
          "iopub.status.idle": "2025-03-01T15:04:13.162427Z",
          "shell.execute_reply.started": "2025-03-01T15:04:13.156442Z",
          "shell.execute_reply": "2025-03-01T15:04:13.161067Z"
        },
        "id": "0nui58RK6TnX"
      },
      "outputs": [],
      "execution_count": null
    },
    {
      "cell_type": "code",
      "source": [
        "cat_feat = df.describe(exclude = [np.number]).columns\n",
        "cat_feat"
      ],
      "metadata": {
        "trusted": true,
        "execution": {
          "iopub.status.busy": "2025-03-01T15:04:16.156088Z",
          "iopub.execute_input": "2025-03-01T15:04:16.156385Z",
          "iopub.status.idle": "2025-03-01T15:04:16.171597Z",
          "shell.execute_reply.started": "2025-03-01T15:04:16.156360Z",
          "shell.execute_reply": "2025-03-01T15:04:16.170764Z"
        },
        "id": "rZjYvxhg6TnY"
      },
      "outputs": [],
      "execution_count": null
    },
    {
      "cell_type": "code",
      "source": [
        "cat_feat.shape"
      ],
      "metadata": {
        "trusted": true,
        "execution": {
          "iopub.status.busy": "2025-03-01T15:04:18.239078Z",
          "iopub.execute_input": "2025-03-01T15:04:18.239382Z",
          "iopub.status.idle": "2025-03-01T15:04:18.244918Z",
          "shell.execute_reply.started": "2025-03-01T15:04:18.239360Z",
          "shell.execute_reply": "2025-03-01T15:04:18.243718Z"
        },
        "id": "RMqG2itd6TnY"
      },
      "outputs": [],
      "execution_count": null
    },
    {
      "cell_type": "code",
      "source": [],
      "metadata": {
        "trusted": true,
        "id": "XLQtZss_6TnZ"
      },
      "outputs": [],
      "execution_count": null
    },
    {
      "cell_type": "markdown",
      "source": [
        "# Data Exploration and Data Preparation"
      ],
      "metadata": {
        "id": "oFpObo296TnZ"
      }
    },
    {
      "cell_type": "code",
      "source": [
        "sns.heatmap(df.select_dtypes(include=[np.number]).corr(), annot=True, square=True, cmap='coolwarm', annot_kws={'size': 8}, fmt = '.2f')\n",
        "plt.title('Pearson')\n",
        "plt.show()\n",
        "sns.heatmap(df.select_dtypes(include=[np.number]).corr(method = 'spearman'), annot=True, square=True, cmap='coolwarm', annot_kws={'size': 8}, fmt = '.2f')\n",
        "plt.title('Spearman')\n",
        "plt.show()\n",
        "sns.heatmap(df.select_dtypes(include=[np.number]).corr(method = 'kendall'), annot=True, square=True, cmap='coolwarm', annot_kws={'size': 8}, fmt = '.2f')\n",
        "plt.title('Kendall')\n",
        "plt.show()\n",
        "None\n",
        "# Pearson: For linear relationships between continuous variables. linear association\n",
        "# Spearman: For ranked or ordinal data. monoticic association\n",
        "# Kendall: For ordinal data, less sensitive to outliers. ordinal association"
      ],
      "metadata": {
        "trusted": true,
        "execution": {
          "iopub.status.busy": "2025-03-01T15:04:20.716565Z",
          "iopub.execute_input": "2025-03-01T15:04:20.716919Z",
          "iopub.status.idle": "2025-03-01T15:04:21.704471Z",
          "shell.execute_reply.started": "2025-03-01T15:04:20.716892Z",
          "shell.execute_reply": "2025-03-01T15:04:21.703181Z"
        },
        "id": "0rLeIiQ86TnZ"
      },
      "outputs": [],
      "execution_count": null
    },
    {
      "cell_type": "markdown",
      "source": [
        "It seems like year should have a big affect on price."
      ],
      "metadata": {
        "id": "DJrOOXGV6Tna"
      }
    },
    {
      "cell_type": "code",
      "source": [
        "# fig, axs = plt.subplots(nrows=2, figsize=(15, 15))\n",
        "# sns.heatmap(df_train.corr(), ax=axs[0], annot=True, square=True, cmap='coolwarm', annot_kws={'size': 8}, fmt = '.2f')\n",
        "# sns.heatmap(df_test.corr(), ax=axs[1], annot=True, square=True, cmap='coolwarm', annot_kws={'size': 8}, fmt = '.2f')\n",
        "# plt.show()\n",
        "\n",
        "# fig, axs = plt.subplots(nrows=2, figsize=(15, 15))\n",
        "# sns.heatmap(df_train.select_dtypes(include=[np.number]).corr(), ax=axs[0], annot=True, square=True, cmap='coolwarm', annot_kws={'size': 8}, fmt = '.2f')\n",
        "# sns.heatmap(df_test.select_dtypes(include=[np.number]).corr(), ax=axs[1], annot=True, square=True, cmap='coolwarm', annot_kws={'size': 8}, fmt = '.2f')\n",
        "# plt.show()"
      ],
      "metadata": {
        "trusted": true,
        "execution": {
          "iopub.status.busy": "2025-03-01T15:04:55.514512Z",
          "iopub.execute_input": "2025-03-01T15:04:55.514907Z",
          "iopub.status.idle": "2025-03-01T15:04:55.518141Z",
          "shell.execute_reply.started": "2025-03-01T15:04:55.514879Z",
          "shell.execute_reply": "2025-03-01T15:04:55.517339Z"
        },
        "id": "OFzjdqvN6Tnb"
      },
      "outputs": [],
      "execution_count": null
    },
    {
      "cell_type": "markdown",
      "source": [
        "## Continuous Features"
      ],
      "metadata": {
        "id": "cSHgOXDF6Tnb"
      }
    },
    {
      "cell_type": "code",
      "source": [
        "for feat in cts_feat:\n",
        "    sns.histplot(df, x = feat, kde = True)\n",
        "    plt.show()"
      ],
      "metadata": {
        "trusted": true,
        "execution": {
          "iopub.status.busy": "2025-03-01T15:04:57.590138Z",
          "iopub.execute_input": "2025-03-01T15:04:57.590447Z",
          "iopub.status.idle": "2025-03-01T15:05:00.039899Z",
          "shell.execute_reply.started": "2025-03-01T15:04:57.590422Z",
          "shell.execute_reply": "2025-03-01T15:05:00.038614Z"
        },
        "id": "P3grUa5T6Tng"
      },
      "outputs": [],
      "execution_count": null
    },
    {
      "cell_type": "markdown",
      "source": [
        "Some of the later years (such as 2060) are probably typos (more likely 2006)."
      ],
      "metadata": {
        "id": "utcpBK6V6Tnh"
      }
    },
    {
      "cell_type": "code",
      "source": [
        "df[df['year']==2060]"
      ],
      "metadata": {
        "trusted": true,
        "execution": {
          "iopub.status.busy": "2025-03-01T15:05:10.969404Z",
          "iopub.execute_input": "2025-03-01T15:05:10.969709Z",
          "iopub.status.idle": "2025-03-01T15:05:10.980009Z",
          "shell.execute_reply.started": "2025-03-01T15:05:10.969687Z",
          "shell.execute_reply": "2025-03-01T15:05:10.978887Z"
        },
        "id": "9Gcixw-K6Tnh"
      },
      "outputs": [],
      "execution_count": null
    },
    {
      "cell_type": "code",
      "source": [
        "df.loc[17726]"
      ],
      "metadata": {
        "trusted": true,
        "execution": {
          "iopub.status.busy": "2025-03-01T15:05:13.571535Z",
          "iopub.execute_input": "2025-03-01T15:05:13.571895Z",
          "iopub.status.idle": "2025-03-01T15:05:13.579191Z",
          "shell.execute_reply.started": "2025-03-01T15:05:13.571868Z",
          "shell.execute_reply": "2025-03-01T15:05:13.578192Z"
        },
        "id": "SF3gEDKg6Tnh"
      },
      "outputs": [],
      "execution_count": null
    },
    {
      "cell_type": "code",
      "source": [
        "df.loc[df['year']==2060, 'year'] = 2006 ## change 2060 to 2006\n",
        "df.loc[17726]"
      ],
      "metadata": {
        "trusted": true,
        "execution": {
          "iopub.status.busy": "2025-03-01T15:05:14.769522Z",
          "iopub.execute_input": "2025-03-01T15:05:14.769875Z",
          "iopub.status.idle": "2025-03-01T15:05:14.778514Z",
          "shell.execute_reply.started": "2025-03-01T15:05:14.769849Z",
          "shell.execute_reply": "2025-03-01T15:05:14.777610Z"
        },
        "id": "VQe1mrOn6Tni"
      },
      "outputs": [],
      "execution_count": null
    },
    {
      "cell_type": "markdown",
      "source": [
        "Depending on the models used we could transform the target (price) so that it is normal. Here are some qq plots to see how normal the target is."
      ],
      "metadata": {
        "id": "OnSNL2xa6Tni"
      }
    },
    {
      "cell_type": "code",
      "source": [
        "sm.qqplot(df['price'], line='s')\n",
        "plt.title('QQ Plot')\n",
        "plt.show()\n",
        "None"
      ],
      "metadata": {
        "trusted": true,
        "execution": {
          "iopub.status.busy": "2025-03-01T15:05:34.635466Z",
          "iopub.execute_input": "2025-03-01T15:05:34.635858Z",
          "iopub.status.idle": "2025-03-01T15:05:34.883438Z",
          "shell.execute_reply.started": "2025-03-01T15:05:34.635826Z",
          "shell.execute_reply": "2025-03-01T15:05:34.882233Z"
        },
        "id": "82ozGZEZ6Tnj"
      },
      "outputs": [],
      "execution_count": null
    },
    {
      "cell_type": "code",
      "source": [
        "sm.qqplot(np.log(df['price']), line='s')\n",
        "plt.title('QQ Plot')\n",
        "plt.show()\n",
        "None"
      ],
      "metadata": {
        "trusted": true,
        "execution": {
          "iopub.status.busy": "2025-03-01T15:05:36.941368Z",
          "iopub.execute_input": "2025-03-01T15:05:36.941673Z",
          "iopub.status.idle": "2025-03-01T15:05:37.193873Z",
          "shell.execute_reply.started": "2025-03-01T15:05:36.941649Z",
          "shell.execute_reply": "2025-03-01T15:05:37.192910Z"
        },
        "id": "TBzdVxIs6Tnj"
      },
      "outputs": [],
      "execution_count": null
    },
    {
      "cell_type": "code",
      "source": [
        "sm.qqplot(scipy.stats.boxcox(df['price'])[0], line='s')\n",
        "plt.title('QQ Plot')\n",
        "plt.show()\n",
        "None"
      ],
      "metadata": {
        "trusted": true,
        "execution": {
          "iopub.status.busy": "2025-03-01T15:05:39.706468Z",
          "iopub.execute_input": "2025-03-01T15:05:39.706777Z",
          "iopub.status.idle": "2025-03-01T15:05:40.034761Z",
          "shell.execute_reply.started": "2025-03-01T15:05:39.706753Z",
          "shell.execute_reply": "2025-03-01T15:05:40.033579Z"
        },
        "id": "3hmkIra46Tnv"
      },
      "outputs": [],
      "execution_count": null
    },
    {
      "cell_type": "markdown",
      "source": [
        "## Categorical Features"
      ],
      "metadata": {
        "id": "31FR12x_6Tnv"
      }
    },
    {
      "cell_type": "code",
      "source": [
        "for feat in cat_feat:\n",
        "    if feat == 'model':\n",
        "        ax = sns.countplot(df, x = feat,\n",
        "            order = df[feat].value_counts().sort_values(ascending=False).index)\n",
        "        # ax.bar_label(ax.containers[0])\n",
        "        plt.xticks(rotation=45, ha='right')\n",
        "        plt.tight_layout()\n",
        "        plt.show()\n",
        "    else:\n",
        "        ax = sns.countplot(df, x = feat,\n",
        "            order = df[feat].value_counts().sort_values(ascending=False).index)\n",
        "        ax.bar_label(ax.containers[0])\n",
        "        plt.show()"
      ],
      "metadata": {
        "trusted": true,
        "execution": {
          "iopub.status.busy": "2025-03-01T15:08:54.221511Z",
          "iopub.execute_input": "2025-03-01T15:08:54.221905Z",
          "iopub.status.idle": "2025-03-01T15:08:54.872861Z",
          "shell.execute_reply.started": "2025-03-01T15:08:54.221866Z",
          "shell.execute_reply": "2025-03-01T15:08:54.871071Z"
        },
        "id": "B34KVA9O6Tnw"
      },
      "outputs": [],
      "execution_count": null
    },
    {
      "cell_type": "markdown",
      "source": [
        "Interesting that there are so many manual transmission vehicles. Could this by a typo? One would expect lots of manual cars in older models, however, the min year is 1996 and median of 2017."
      ],
      "metadata": {
        "id": "FyZW3HcN6Tnw"
      }
    },
    {
      "cell_type": "markdown",
      "source": [
        "## Price vs Continuous Feature"
      ],
      "metadata": {
        "id": "4FSmsCM_6Tnx"
      }
    },
    {
      "cell_type": "code",
      "source": [
        "for feat in cts_feat:\n",
        "    if feat != 'price':\n",
        "        sns.scatterplot(df, x = feat, y = 'price', alpha = 0.3)\n",
        "        plt.show()"
      ],
      "metadata": {
        "trusted": true,
        "execution": {
          "iopub.status.busy": "2025-03-01T15:09:09.162013Z",
          "iopub.execute_input": "2025-03-01T15:09:09.162325Z",
          "iopub.status.idle": "2025-03-01T15:09:10.245182Z",
          "shell.execute_reply.started": "2025-03-01T15:09:09.162299Z",
          "shell.execute_reply": "2025-03-01T15:09:10.243589Z"
        },
        "id": "ztZbEoCn6Tnx"
      },
      "outputs": [],
      "execution_count": null
    },
    {
      "cell_type": "markdown",
      "source": [
        "201.8 mpg seems like a typo."
      ],
      "metadata": {
        "id": "nE-v2sQV6Tny"
      }
    },
    {
      "cell_type": "code",
      "source": [
        "df[df['mpg'] > 190]"
      ],
      "metadata": {
        "trusted": true,
        "execution": {
          "iopub.status.busy": "2025-03-01T15:09:14.407886Z",
          "iopub.execute_input": "2025-03-01T15:09:14.408234Z",
          "iopub.status.idle": "2025-03-01T15:09:14.420383Z",
          "shell.execute_reply.started": "2025-03-01T15:09:14.408207Z",
          "shell.execute_reply": "2025-03-01T15:09:14.419585Z"
        },
        "id": "wCaKpiyo6Tny"
      },
      "outputs": [],
      "execution_count": null
    },
    {
      "cell_type": "code",
      "source": [
        "df[df['model'] == 'Kuga']\n",
        "# df[df['model'].str.strip() == 'Kuga'] ## eliminated extra space earlier"
      ],
      "metadata": {
        "trusted": true,
        "execution": {
          "iopub.status.busy": "2025-03-01T15:09:16.751021Z",
          "iopub.execute_input": "2025-03-01T15:09:16.751351Z",
          "iopub.status.idle": "2025-03-01T15:09:16.766527Z",
          "shell.execute_reply.started": "2025-03-01T15:09:16.751324Z",
          "shell.execute_reply": "2025-03-01T15:09:16.765551Z"
        },
        "id": "VAp1m5KG6Tny"
      },
      "outputs": [],
      "execution_count": null
    },
    {
      "cell_type": "code",
      "source": [
        "df_Kuga = df[df['model'] == 'Kuga']\n",
        "sns.histplot(df_Kuga, x = 'mpg', kde = True)\n",
        "plt.show()"
      ],
      "metadata": {
        "trusted": true,
        "execution": {
          "iopub.status.busy": "2025-03-01T15:09:18.569774Z",
          "iopub.execute_input": "2025-03-01T15:09:18.570167Z",
          "iopub.status.idle": "2025-03-01T15:09:18.846711Z",
          "shell.execute_reply.started": "2025-03-01T15:09:18.570137Z",
          "shell.execute_reply": "2025-03-01T15:09:18.845543Z"
        },
        "id": "Scu8t2r06Tnz"
      },
      "outputs": [],
      "execution_count": null
    },
    {
      "cell_type": "code",
      "source": [
        "df_Kuga.describe()"
      ],
      "metadata": {
        "trusted": true,
        "execution": {
          "iopub.status.busy": "2025-03-01T15:09:18.973403Z",
          "iopub.execute_input": "2025-03-01T15:09:18.973742Z",
          "iopub.status.idle": "2025-03-01T15:09:18.995592Z",
          "shell.execute_reply.started": "2025-03-01T15:09:18.973714Z",
          "shell.execute_reply": "2025-03-01T15:09:18.994602Z"
        },
        "id": "29V24Pja6Tnz"
      },
      "outputs": [],
      "execution_count": null
    },
    {
      "cell_type": "markdown",
      "source": [
        "Unfortunately, 201.8 -> 21.8 nor 201.8 -> 20.8 probabily do not make sense as the min is 27.4. Though the max value could be replaced by the median, I don't think that was the intended value, so we elect to drop the five rows."
      ],
      "metadata": {
        "id": "X0QGLAMw6Tnz"
      }
    },
    {
      "cell_type": "code",
      "source": [
        "df.drop(df[df['mpg']>190].index, inplace = True)"
      ],
      "metadata": {
        "trusted": true,
        "execution": {
          "iopub.status.busy": "2025-03-01T15:09:22.050446Z",
          "iopub.execute_input": "2025-03-01T15:09:22.050997Z",
          "iopub.status.idle": "2025-03-01T15:09:22.058363Z",
          "shell.execute_reply.started": "2025-03-01T15:09:22.050930Z",
          "shell.execute_reply": "2025-03-01T15:09:22.057137Z"
        },
        "id": "P05kXp4E6Tn0"
      },
      "outputs": [],
      "execution_count": null
    },
    {
      "cell_type": "code",
      "source": [
        "df[df['mpg'] > 190]   ## check to make sure rows are dropped"
      ],
      "metadata": {
        "trusted": true,
        "execution": {
          "iopub.status.busy": "2025-03-01T15:09:23.744892Z",
          "iopub.execute_input": "2025-03-01T15:09:23.745183Z",
          "iopub.status.idle": "2025-03-01T15:09:23.754939Z",
          "shell.execute_reply.started": "2025-03-01T15:09:23.745159Z",
          "shell.execute_reply": "2025-03-01T15:09:23.753891Z"
        },
        "id": "8wY3ij1Q6Tn0"
      },
      "outputs": [],
      "execution_count": null
    },
    {
      "cell_type": "code",
      "source": [
        "for feat in cts_feat:\n",
        "    if feat != 'price':\n",
        "        sns.histplot(df, x = feat, y = 'price')\n",
        "        plt.show()"
      ],
      "metadata": {
        "trusted": true,
        "execution": {
          "iopub.status.busy": "2025-03-01T15:09:24.301102Z",
          "iopub.execute_input": "2025-03-01T15:09:24.301426Z",
          "iopub.status.idle": "2025-03-01T15:09:25.293125Z",
          "shell.execute_reply.started": "2025-03-01T15:09:24.301400Z",
          "shell.execute_reply": "2025-03-01T15:09:25.291924Z"
        },
        "id": "VJafZJKC6Tn0"
      },
      "outputs": [],
      "execution_count": null
    },
    {
      "cell_type": "markdown",
      "source": [
        "It seems that year and mileage are associated with price. It makes sense."
      ],
      "metadata": {
        "id": "F60uNQry6Tn1"
      }
    },
    {
      "cell_type": "markdown",
      "source": [
        "## Price vs Categorical Feature"
      ],
      "metadata": {
        "id": "M0wsRBlX6Tn1"
      }
    },
    {
      "cell_type": "code",
      "source": [
        "for feat in cat_feat:\n",
        "    if feat == 'model':\n",
        "        sns.boxplot(df, x = feat, y = 'price')\n",
        "        plt.xticks(rotation=45, ha='right')\n",
        "        plt.tight_layout()\n",
        "        plt.show()\n",
        "    else:\n",
        "        sns.boxplot(df, x = feat, y = 'price')\n",
        "        plt.show()"
      ],
      "metadata": {
        "trusted": true,
        "execution": {
          "iopub.status.busy": "2025-03-01T15:09:29.967544Z",
          "iopub.execute_input": "2025-03-01T15:09:29.967875Z",
          "iopub.status.idle": "2025-03-01T15:09:30.867426Z",
          "shell.execute_reply.started": "2025-03-01T15:09:29.967847Z",
          "shell.execute_reply": "2025-03-01T15:09:30.866240Z"
        },
        "id": "l8PHFq4T6Tn1"
      },
      "outputs": [],
      "execution_count": null
    },
    {
      "cell_type": "markdown",
      "source": [
        "Hybrid cars tend to cost more than diesel and petrol. Model of car does affect the price (espicially if it is a mustang)."
      ],
      "metadata": {
        "id": "Y0f5jhaO6Tn2"
      }
    },
    {
      "cell_type": "markdown",
      "source": [
        "## Split Data and Data (Feature) Tranformation"
      ],
      "metadata": {
        "id": "STNysxBe6Tn2"
      }
    },
    {
      "cell_type": "code",
      "source": [
        "from sklearn.model_selection import train_test_split\n",
        "from sklearn.preprocessing import OneHotEncoder, LabelEncoder, StandardScaler, MinMaxScaler\n",
        "from sklearn.model_selection import StratifiedKFold, RandomizedSearchCV, GridSearchCV, KFold\n",
        "from sklearn.compose import ColumnTransformer\n",
        "from sklearn.inspection import permutation_importance\n",
        "from sklearn.metrics import roc_curve, auc, r2_score, mean_squared_error\n",
        "SEED = 0"
      ],
      "metadata": {
        "trusted": true,
        "execution": {
          "iopub.status.busy": "2025-03-01T15:10:50.640434Z",
          "iopub.execute_input": "2025-03-01T15:10:50.640782Z",
          "iopub.status.idle": "2025-03-01T15:10:51.347989Z",
          "shell.execute_reply.started": "2025-03-01T15:10:50.640748Z",
          "shell.execute_reply": "2025-03-01T15:10:51.346668Z"
        },
        "id": "AqijU8lq6Tn2"
      },
      "outputs": [],
      "execution_count": null
    },
    {
      "cell_type": "code",
      "source": [
        "y = df['price']\n",
        "X = df.drop(['price'], axis = 1)\n",
        "\n",
        "\n",
        "X_train, X_test, y_train, y_test = train_test_split(X, y, test_size=0.2,\n",
        "                                                    random_state=SEED)"
      ],
      "metadata": {
        "trusted": true,
        "execution": {
          "iopub.status.busy": "2025-03-01T15:10:51.349258Z",
          "iopub.execute_input": "2025-03-01T15:10:51.349630Z",
          "iopub.status.idle": "2025-03-01T15:10:51.362632Z",
          "shell.execute_reply.started": "2025-03-01T15:10:51.349598Z",
          "shell.execute_reply": "2025-03-01T15:10:51.361351Z"
        },
        "id": "o5FaJyK76Tn3"
      },
      "outputs": [],
      "execution_count": null
    },
    {
      "cell_type": "code",
      "source": [
        "cts_feat = X.describe().columns ## exlude target (price)\n",
        "cts_feat"
      ],
      "metadata": {
        "trusted": true,
        "execution": {
          "iopub.status.busy": "2025-03-01T15:10:54.341077Z",
          "iopub.execute_input": "2025-03-01T15:10:54.341392Z",
          "iopub.status.idle": "2025-03-01T15:10:54.360956Z",
          "shell.execute_reply.started": "2025-03-01T15:10:54.341369Z",
          "shell.execute_reply": "2025-03-01T15:10:54.359978Z"
        },
        "id": "IuD20Tob6Tn3"
      },
      "outputs": [],
      "execution_count": null
    },
    {
      "cell_type": "code",
      "source": [
        "ct = ColumnTransformer(\n",
        "    [(\"scaling\", MinMaxScaler(), cts_feat),\n",
        "     (\"onehot\", OneHotEncoder(handle_unknown='ignore'), cat_feat)])"
      ],
      "metadata": {
        "trusted": true,
        "execution": {
          "iopub.status.busy": "2025-03-01T15:10:56.775428Z",
          "iopub.execute_input": "2025-03-01T15:10:56.775830Z",
          "iopub.status.idle": "2025-03-01T15:10:56.780680Z",
          "shell.execute_reply.started": "2025-03-01T15:10:56.775776Z",
          "shell.execute_reply": "2025-03-01T15:10:56.779270Z"
        },
        "id": "-dn821s16Tn4"
      },
      "outputs": [],
      "execution_count": null
    },
    {
      "cell_type": "code",
      "source": [
        "X_train = ct.fit_transform(X_train)"
      ],
      "metadata": {
        "trusted": true,
        "execution": {
          "iopub.status.busy": "2025-03-01T15:11:14.737678Z",
          "iopub.execute_input": "2025-03-01T15:11:14.738002Z",
          "iopub.status.idle": "2025-03-01T15:11:14.766879Z",
          "shell.execute_reply.started": "2025-03-01T15:11:14.737977Z",
          "shell.execute_reply": "2025-03-01T15:11:14.765816Z"
        },
        "id": "e_zdHC0E6Tn4"
      },
      "outputs": [],
      "execution_count": null
    },
    {
      "cell_type": "code",
      "source": [
        "ct.get_feature_names_out()"
      ],
      "metadata": {
        "trusted": true,
        "execution": {
          "iopub.status.busy": "2025-03-01T15:11:15.425627Z",
          "iopub.execute_input": "2025-03-01T15:11:15.426013Z",
          "iopub.status.idle": "2025-03-01T15:11:15.432613Z",
          "shell.execute_reply.started": "2025-03-01T15:11:15.425985Z",
          "shell.execute_reply": "2025-03-01T15:11:15.431355Z"
        },
        "id": "JxXe7R466Tn4"
      },
      "outputs": [],
      "execution_count": null
    },
    {
      "cell_type": "code",
      "source": [
        "ct.get_feature_names_out().shape"
      ],
      "metadata": {
        "trusted": true,
        "execution": {
          "iopub.status.busy": "2025-03-01T15:11:17.401913Z",
          "iopub.execute_input": "2025-03-01T15:11:17.402218Z",
          "iopub.status.idle": "2025-03-01T15:11:17.407240Z",
          "shell.execute_reply.started": "2025-03-01T15:11:17.402196Z",
          "shell.execute_reply": "2025-03-01T15:11:17.406177Z"
        },
        "id": "rvugw56Y6Tn5"
      },
      "outputs": [],
      "execution_count": null
    },
    {
      "cell_type": "code",
      "source": [
        "X_train.shape"
      ],
      "metadata": {
        "trusted": true,
        "execution": {
          "iopub.status.busy": "2025-03-01T15:11:18.699977Z",
          "iopub.execute_input": "2025-03-01T15:11:18.700302Z",
          "iopub.status.idle": "2025-03-01T15:11:18.705000Z",
          "shell.execute_reply.started": "2025-03-01T15:11:18.700275Z",
          "shell.execute_reply": "2025-03-01T15:11:18.704157Z"
        },
        "id": "0K30_XQS6Tn5"
      },
      "outputs": [],
      "execution_count": null
    },
    {
      "cell_type": "code",
      "source": [
        "X_test = ct.transform(X_test)"
      ],
      "metadata": {
        "trusted": true,
        "execution": {
          "iopub.status.busy": "2025-03-01T15:11:19.215014Z",
          "iopub.execute_input": "2025-03-01T15:11:19.215303Z",
          "iopub.status.idle": "2025-03-01T15:11:19.232107Z",
          "shell.execute_reply.started": "2025-03-01T15:11:19.215279Z",
          "shell.execute_reply": "2025-03-01T15:11:19.230969Z"
        },
        "id": "nTpTtanY6Tn5"
      },
      "outputs": [],
      "execution_count": null
    },
    {
      "cell_type": "markdown",
      "source": [
        "# Single Model"
      ],
      "metadata": {
        "id": "190icHh_6Tn6"
      }
    },
    {
      "cell_type": "code",
      "source": [
        "from sklearn.ensemble import (RandomForestRegressor, AdaBoostRegressor, GradientBoostingRegressor,\n",
        "BaggingRegressor, HistGradientBoostingRegressor, ExtraTreesRegressor, VotingRegressor, StackingRegressor)\n",
        "from sklearn.multioutput import MultiOutputRegressor\n",
        "import xgboost as xgb\n",
        "from xgboost import XGBRegressor"
      ],
      "metadata": {
        "trusted": true,
        "execution": {
          "iopub.status.busy": "2025-03-01T15:11:52.896163Z",
          "iopub.execute_input": "2025-03-01T15:11:52.896493Z",
          "iopub.status.idle": "2025-03-01T15:11:53.188399Z",
          "shell.execute_reply.started": "2025-03-01T15:11:52.896464Z",
          "shell.execute_reply": "2025-03-01T15:11:53.187347Z"
        },
        "id": "NynKYZDz6Tn6"
      },
      "outputs": [],
      "execution_count": null
    },
    {
      "cell_type": "code",
      "source": [
        "def time_perf(model, X_train, y_train):\n",
        "    tic = time.perf_counter()\n",
        "    model.fit(X_train, y_train)\n",
        "    toc = time.perf_counter()\n",
        "    elapsed_time = toc = tic\n",
        "    print(f'{model} elapsed time: {(toc-tic):.2f} [sec]')\n",
        "    print(f'{model} elapsed time: {((toc-tic)/60):.2f} [min]')\n",
        "    return model"
      ],
      "metadata": {
        "trusted": true,
        "execution": {
          "iopub.status.busy": "2025-03-01T15:11:54.381109Z",
          "iopub.execute_input": "2025-03-01T15:11:54.381566Z",
          "iopub.status.idle": "2025-03-01T15:11:54.390417Z",
          "shell.execute_reply.started": "2025-03-01T15:11:54.381524Z",
          "shell.execute_reply": "2025-03-01T15:11:54.388283Z"
        },
        "id": "i1-FNtHQ6Tn6"
      },
      "outputs": [],
      "execution_count": null
    },
    {
      "cell_type": "code",
      "source": [
        "rf = RandomForestRegressor()\n",
        "\n",
        "\n",
        "param_dist = {'n_estimators': [100,250], 'max_depth':[3,6,9,12]}\n",
        "\n",
        "rf_search = RandomizedSearchCV(estimator=rf, param_distributions=param_dist,\n",
        "                               n_iter = 5, cv=3, verbose = 4, random_state=SEED)\n",
        "\n",
        "\n",
        "rf_search.fit(X_train, y_train)\n",
        "\n",
        "\n",
        "y_pred = rf_search.predict(X_test)\n",
        "\n",
        "\n",
        "mse = mean_squared_error(y_test, y_pred)\n",
        "r2 = r2_score(y_test, y_pred)"
      ],
      "metadata": {
        "trusted": true,
        "execution": {
          "iopub.status.busy": "2025-03-01T15:11:56.830664Z",
          "iopub.execute_input": "2025-03-01T15:11:56.831025Z",
          "iopub.status.idle": "2025-03-01T15:13:56.926418Z",
          "shell.execute_reply.started": "2025-03-01T15:11:56.830999Z",
          "shell.execute_reply": "2025-03-01T15:13:56.925388Z"
        },
        "id": "cgTQBkMB6Tn7"
      },
      "outputs": [],
      "execution_count": null
    },
    {
      "cell_type": "code",
      "source": [
        "rf_search.best_estimator_"
      ],
      "metadata": {
        "trusted": true,
        "execution": {
          "iopub.status.busy": "2025-03-01T15:13:56.927967Z",
          "iopub.execute_input": "2025-03-01T15:13:56.928299Z",
          "iopub.status.idle": "2025-03-01T15:13:56.939387Z",
          "shell.execute_reply.started": "2025-03-01T15:13:56.928271Z",
          "shell.execute_reply": "2025-03-01T15:13:56.938519Z"
        },
        "id": "BuvPYnNP6Tn7"
      },
      "outputs": [],
      "execution_count": null
    },
    {
      "cell_type": "code",
      "source": [
        "r2"
      ],
      "metadata": {
        "trusted": true,
        "execution": {
          "iopub.status.busy": "2025-03-01T15:13:56.940706Z",
          "iopub.execute_input": "2025-03-01T15:13:56.940964Z",
          "iopub.status.idle": "2025-03-01T15:13:56.959918Z",
          "shell.execute_reply.started": "2025-03-01T15:13:56.940939Z",
          "shell.execute_reply": "2025-03-01T15:13:56.958911Z"
        },
        "id": "feBhUodc6Tn8"
      },
      "outputs": [],
      "execution_count": null
    },
    {
      "cell_type": "code",
      "source": [
        "mse"
      ],
      "metadata": {
        "trusted": true,
        "execution": {
          "iopub.status.busy": "2025-03-01T15:13:56.961312Z",
          "iopub.execute_input": "2025-03-01T15:13:56.961566Z",
          "iopub.status.idle": "2025-03-01T15:13:56.983268Z",
          "shell.execute_reply.started": "2025-03-01T15:13:56.961546Z",
          "shell.execute_reply": "2025-03-01T15:13:56.982076Z"
        },
        "id": "YdqIizOW6Tn8"
      },
      "outputs": [],
      "execution_count": null
    },
    {
      "cell_type": "code",
      "source": [
        "normalized_mse = (mse / (np.mean(y_test) ** 2))\n",
        "normalized_mse"
      ],
      "metadata": {
        "trusted": true,
        "execution": {
          "iopub.status.busy": "2025-03-01T15:13:56.984440Z",
          "iopub.execute_input": "2025-03-01T15:13:56.984933Z",
          "iopub.status.idle": "2025-03-01T15:13:57.007024Z",
          "shell.execute_reply.started": "2025-03-01T15:13:56.984907Z",
          "shell.execute_reply": "2025-03-01T15:13:57.006113Z"
        },
        "id": "JwNCzPAb6Tn_"
      },
      "outputs": [],
      "execution_count": null
    },
    {
      "cell_type": "code",
      "source": [
        "# Calculate residuals\n",
        "residuals = y_test - y_pred\n",
        "\n",
        "# Residual plot\n",
        "plt.figure(figsize=(10, 6))\n",
        "plt.scatter(y_pred, residuals, color='blue')\n",
        "plt.axhline(0, color='red', linestyle='--', lw=2)\n",
        "plt.xlabel('Predicted Values')\n",
        "plt.ylabel('Residuals')\n",
        "plt.title('Residual Plot')\n",
        "plt.grid()\n",
        "plt.show()"
      ],
      "metadata": {
        "trusted": true,
        "execution": {
          "iopub.status.busy": "2025-03-01T15:13:57.007993Z",
          "iopub.execute_input": "2025-03-01T15:13:57.008389Z",
          "iopub.status.idle": "2025-03-01T15:13:57.232749Z",
          "shell.execute_reply.started": "2025-03-01T15:13:57.008359Z",
          "shell.execute_reply": "2025-03-01T15:13:57.231750Z"
        },
        "id": "SWA-5Nmn6Tn_"
      },
      "outputs": [],
      "execution_count": null
    },
    {
      "cell_type": "code",
      "source": [
        "# from sklearn.model_selection import learning_curve\n",
        "\n",
        "# # Generate learning curve data\n",
        "# train_sizes, train_scores, test_scores = learning_curve(\n",
        "#     rf_search.best_estimator_, X_train, y_train,\n",
        "#     train_sizes=np.linspace(0.1, 1.0, 7),\n",
        "#     cv=3,\n",
        "#     scoring='neg_mean_squared_error')\n",
        "\n",
        "# # Calculate mean and standard deviation\n",
        "# train_scores_mean = -np.mean(train_scores, axis=1)\n",
        "# test_scores_mean = -np.mean(test_scores, axis=1)\n",
        "\n",
        "# # Plot learning curve\n",
        "# plt.figure(figsize=(10, 6))\n",
        "# plt.plot(train_sizes, train_scores_mean, 'o-', color='r', label='Training MSE')\n",
        "# plt.plot(train_sizes, test_scores_mean, 'o-', color='g', label='Validation MSE')\n",
        "# plt.xlabel('Training Size')\n",
        "# plt.ylabel('Mean Squared Error')\n",
        "# plt.title('Learning Curve')\n",
        "# plt.legend(loc='best')\n",
        "# plt.grid()\n",
        "# plt.show()\n"
      ],
      "metadata": {
        "trusted": true,
        "execution": {
          "iopub.status.busy": "2025-03-01T15:19:41.083362Z",
          "iopub.execute_input": "2025-03-01T15:19:41.083781Z",
          "iopub.status.idle": "2025-03-01T15:19:41.087285Z",
          "shell.execute_reply.started": "2025-03-01T15:19:41.083749Z",
          "shell.execute_reply": "2025-03-01T15:19:41.086370Z"
        },
        "id": "0gB-upvg6ToA"
      },
      "outputs": [],
      "execution_count": null
    },
    {
      "cell_type": "markdown",
      "source": [
        "# Ensemble  Model (Stacking)"
      ],
      "metadata": {
        "id": "PNS0yqzv6ToA"
      }
    },
    {
      "cell_type": "code",
      "source": [
        "estimators = [('rf', RandomForestRegressor()),\n",
        "              ('gb', GradientBoostingRegressor())]\n",
        "parameters = {'rf': {'n_estimators': [100,250], 'max_depth':[3,6,9,12]},\n",
        "              'gb':{'n_estimators':[100, 150, 200]} }\n",
        "best_estimators = [0]*len(estimators)"
      ],
      "metadata": {
        "trusted": true,
        "execution": {
          "iopub.status.busy": "2025-03-01T15:21:08.719191Z",
          "iopub.execute_input": "2025-03-01T15:21:08.719534Z",
          "iopub.status.idle": "2025-03-01T15:21:08.724550Z",
          "shell.execute_reply.started": "2025-03-01T15:21:08.719508Z",
          "shell.execute_reply": "2025-03-01T15:21:08.723161Z"
        },
        "id": "9cfqJteA6ToB"
      },
      "outputs": [],
      "execution_count": null
    },
    {
      "cell_type": "code",
      "source": [
        "for i, (name, est) in enumerate(estimators):\n",
        "    est_search = RandomizedSearchCV(est, parameters[name],\n",
        "                                    n_iter = 5, cv = 3, verbose = 4).fit(X_train, y_train)\n",
        "    best_estimators[i] = (name, est_search.best_estimator_)"
      ],
      "metadata": {
        "trusted": true,
        "execution": {
          "iopub.status.busy": "2025-03-01T15:21:10.359074Z",
          "iopub.execute_input": "2025-03-01T15:21:10.359358Z",
          "iopub.status.idle": "2025-03-01T15:23:44.459904Z",
          "shell.execute_reply.started": "2025-03-01T15:21:10.359335Z",
          "shell.execute_reply": "2025-03-01T15:23:44.458751Z"
        },
        "id": "ZE0tvNTS6ToB"
      },
      "outputs": [],
      "execution_count": null
    },
    {
      "cell_type": "code",
      "source": [
        "## RidgeCV default for meta estimator\n",
        "est_stacking = StackingRegressor(estimators = best_estimators, final_estimator = None, cv = 5, verbose = 4)"
      ],
      "metadata": {
        "trusted": true,
        "execution": {
          "iopub.status.busy": "2025-03-01T15:23:44.460946Z",
          "iopub.execute_input": "2025-03-01T15:23:44.461190Z",
          "iopub.status.idle": "2025-03-01T15:23:44.465198Z",
          "shell.execute_reply.started": "2025-03-01T15:23:44.461169Z",
          "shell.execute_reply": "2025-03-01T15:23:44.463891Z"
        },
        "id": "X8Dj6Zb06ToB"
      },
      "outputs": [],
      "execution_count": null
    },
    {
      "cell_type": "code",
      "source": [
        "est_stacking.fit(X_train, y_train)"
      ],
      "metadata": {
        "trusted": true,
        "execution": {
          "iopub.status.busy": "2025-03-01T15:23:44.467283Z",
          "iopub.execute_input": "2025-03-01T15:23:44.467630Z",
          "iopub.status.idle": "2025-03-01T15:26:05.492541Z",
          "shell.execute_reply.started": "2025-03-01T15:23:44.467601Z",
          "shell.execute_reply": "2025-03-01T15:26:05.491508Z"
        },
        "id": "7RQfAxuX6ToC"
      },
      "outputs": [],
      "execution_count": null
    },
    {
      "cell_type": "code",
      "source": [
        "est_stacking.score(X_train, y_train)"
      ],
      "metadata": {
        "trusted": true,
        "execution": {
          "iopub.status.busy": "2025-03-01T15:26:05.493757Z",
          "iopub.execute_input": "2025-03-01T15:26:05.494051Z",
          "iopub.status.idle": "2025-03-01T15:26:05.823034Z",
          "shell.execute_reply.started": "2025-03-01T15:26:05.494029Z",
          "shell.execute_reply": "2025-03-01T15:26:05.821907Z"
        },
        "id": "KnD17qsr6ToC"
      },
      "outputs": [],
      "execution_count": null
    },
    {
      "cell_type": "code",
      "source": [
        "y_pred = est_stacking.predict(X_test)"
      ],
      "metadata": {
        "trusted": true,
        "execution": {
          "iopub.status.busy": "2025-03-01T15:26:05.823854Z",
          "iopub.execute_input": "2025-03-01T15:26:05.824139Z",
          "iopub.status.idle": "2025-03-01T15:26:05.925779Z",
          "shell.execute_reply.started": "2025-03-01T15:26:05.824116Z",
          "shell.execute_reply": "2025-03-01T15:26:05.925013Z"
        },
        "id": "2jj_YSVD6ToC"
      },
      "outputs": [],
      "execution_count": null
    },
    {
      "cell_type": "code",
      "source": [
        "mse = mean_squared_error(y_test, y_pred)\n",
        "r2 = r2_score(y_test, y_pred)"
      ],
      "metadata": {
        "trusted": true,
        "execution": {
          "iopub.status.busy": "2025-03-01T15:26:05.926485Z",
          "iopub.execute_input": "2025-03-01T15:26:05.926707Z",
          "iopub.status.idle": "2025-03-01T15:26:05.931948Z",
          "shell.execute_reply.started": "2025-03-01T15:26:05.926675Z",
          "shell.execute_reply": "2025-03-01T15:26:05.930625Z"
        },
        "id": "p4tUzuoL6ToD"
      },
      "outputs": [],
      "execution_count": null
    },
    {
      "cell_type": "code",
      "source": [
        "# est_stacking.best_estimator_"
      ],
      "metadata": {
        "trusted": true,
        "execution": {
          "iopub.status.busy": "2025-03-01T15:26:05.933132Z",
          "iopub.execute_input": "2025-03-01T15:26:05.933435Z",
          "iopub.status.idle": "2025-03-01T15:26:05.937453Z",
          "shell.execute_reply.started": "2025-03-01T15:26:05.933403Z",
          "shell.execute_reply": "2025-03-01T15:26:05.935945Z"
        },
        "id": "k0zjBi6r6ToD"
      },
      "outputs": [],
      "execution_count": null
    },
    {
      "cell_type": "code",
      "source": [
        "r2"
      ],
      "metadata": {
        "trusted": true,
        "execution": {
          "iopub.status.busy": "2025-03-01T15:26:05.939705Z",
          "iopub.execute_input": "2025-03-01T15:26:05.940000Z",
          "iopub.status.idle": "2025-03-01T15:26:05.944899Z",
          "shell.execute_reply.started": "2025-03-01T15:26:05.939976Z",
          "shell.execute_reply": "2025-03-01T15:26:05.943874Z"
        },
        "id": "u6ljtpkw6ToD"
      },
      "outputs": [],
      "execution_count": null
    },
    {
      "cell_type": "code",
      "source": [
        "mse"
      ],
      "metadata": {
        "trusted": true,
        "execution": {
          "iopub.status.busy": "2025-03-01T15:26:05.945762Z",
          "iopub.execute_input": "2025-03-01T15:26:05.946012Z",
          "iopub.status.idle": "2025-03-01T15:26:05.951135Z",
          "shell.execute_reply.started": "2025-03-01T15:26:05.945995Z",
          "shell.execute_reply": "2025-03-01T15:26:05.950069Z"
        },
        "id": "6p4l2D1c6ToE"
      },
      "outputs": [],
      "execution_count": null
    },
    {
      "cell_type": "code",
      "source": [
        "normalized_mse = (mse / (np.mean(y_test) ** 2))\n",
        "normalized_mse"
      ],
      "metadata": {
        "trusted": true,
        "execution": {
          "iopub.status.busy": "2025-03-01T15:26:05.951932Z",
          "iopub.execute_input": "2025-03-01T15:26:05.952164Z",
          "iopub.status.idle": "2025-03-01T15:26:05.956913Z",
          "shell.execute_reply.started": "2025-03-01T15:26:05.952143Z",
          "shell.execute_reply": "2025-03-01T15:26:05.956168Z"
        },
        "id": "A2uCqdo56ToE"
      },
      "outputs": [],
      "execution_count": null
    },
    {
      "cell_type": "code",
      "source": [
        "# Calculate residuals\n",
        "residuals = y_test - y_pred\n",
        "\n",
        "# Residual plot\n",
        "plt.figure(figsize=(10, 6))\n",
        "plt.scatter(y_pred, residuals, color='blue')\n",
        "plt.axhline(0, color='red', linestyle='--', lw=2)\n",
        "plt.xlabel('Predicted Values')\n",
        "plt.ylabel('Residuals')\n",
        "plt.title('Residual Plot')\n",
        "plt.grid()\n",
        "plt.show()"
      ],
      "metadata": {
        "trusted": true,
        "execution": {
          "iopub.status.busy": "2025-03-01T15:26:05.957504Z",
          "iopub.execute_input": "2025-03-01T15:26:05.957706Z",
          "iopub.status.idle": "2025-03-01T15:26:06.169031Z",
          "shell.execute_reply.started": "2025-03-01T15:26:05.957688Z",
          "shell.execute_reply": "2025-03-01T15:26:06.167568Z"
        },
        "id": "jgKD6kpZ6ToE"
      },
      "outputs": [],
      "execution_count": null
    },
    {
      "cell_type": "markdown",
      "source": [
        "## Save model"
      ],
      "metadata": {
        "id": "hqmpxPoQ6ToF"
      }
    },
    {
      "cell_type": "code",
      "source": [
        "## for scikit learn\n",
        "import pickle\n",
        "model = est_stacking\n",
        "## Save the model\n",
        "with open('model.pkl', 'wb') as file:\n",
        "    pickle.dump(model, file)\n",
        "\n",
        "# ## Load the model\n",
        "# with open('model.pkl', 'rb') as file:\n",
        "#     loaded_model = pickle.load(file)\n"
      ],
      "metadata": {
        "trusted": true,
        "execution": {
          "iopub.status.busy": "2025-03-01T15:26:25.000374Z",
          "iopub.execute_input": "2025-03-01T15:26:25.000713Z",
          "iopub.status.idle": "2025-03-01T15:26:25.161369Z",
          "shell.execute_reply.started": "2025-03-01T15:26:25.000685Z",
          "shell.execute_reply": "2025-03-01T15:26:25.160163Z"
        },
        "id": "PjThggiE6ToF"
      },
      "outputs": [],
      "execution_count": null
    },
    {
      "cell_type": "code",
      "source": [
        "## for tensorflow/keras\n",
        "\n",
        "# # Save the entire model\n",
        "# model.save('model.h5')\n",
        "\n",
        "# # Load the model\n",
        "# from tensorflow.keras.models import load_model\n",
        "# loaded_model = load_model('model.h5')\n"
      ],
      "metadata": {
        "trusted": true,
        "execution": {
          "iopub.status.busy": "2025-03-01T15:26:28.662531Z",
          "iopub.execute_input": "2025-03-01T15:26:28.662893Z",
          "iopub.status.idle": "2025-03-01T15:26:28.666343Z",
          "shell.execute_reply.started": "2025-03-01T15:26:28.662864Z",
          "shell.execute_reply": "2025-03-01T15:26:28.665161Z"
        },
        "id": "69Osk7yk6ToF"
      },
      "outputs": [],
      "execution_count": null
    },
    {
      "cell_type": "markdown",
      "source": [
        "# Load model"
      ],
      "metadata": {
        "id": "wKwIPaVd6ToG"
      }
    },
    {
      "cell_type": "code",
      "source": [
        "## for scikit learn\n",
        "import pickle\n",
        "\n",
        "# # Save the model\n",
        "# with open('model.pkl', 'wb') as file:\n",
        "#     pickle.dump(model, file)\n",
        "\n",
        "# Load the model\n",
        "with open('model.pkl', 'rb') as file:\n",
        "    loaded_model = pickle.load(file)\n",
        "est_stacking = loaded_model"
      ],
      "metadata": {
        "trusted": true,
        "execution": {
          "iopub.status.busy": "2025-03-01T15:26:29.582255Z",
          "iopub.execute_input": "2025-03-01T15:26:29.582597Z",
          "iopub.status.idle": "2025-03-01T15:26:29.722211Z",
          "shell.execute_reply.started": "2025-03-01T15:26:29.582570Z",
          "shell.execute_reply": "2025-03-01T15:26:29.721205Z"
        },
        "id": "OuTTarXs6ToG"
      },
      "outputs": [],
      "execution_count": null
    },
    {
      "cell_type": "code",
      "source": [
        "## for tensorflow/keras\n",
        "\n",
        "# # Save the entire model\n",
        "# model.save('model.h5')\n",
        "\n",
        "# # Load the model\n",
        "# from tensorflow.keras.models import load_model\n",
        "# loaded_model = load_model('model.h5')\n"
      ],
      "metadata": {
        "trusted": true,
        "execution": {
          "iopub.status.busy": "2025-03-01T15:26:31.325454Z",
          "iopub.execute_input": "2025-03-01T15:26:31.325768Z",
          "iopub.status.idle": "2025-03-01T15:26:31.328410Z",
          "shell.execute_reply.started": "2025-03-01T15:26:31.325743Z",
          "shell.execute_reply": "2025-03-01T15:26:31.327704Z"
        },
        "id": "j_VuWcLy6ToG"
      },
      "outputs": [],
      "execution_count": null
    },
    {
      "cell_type": "code",
      "source": [
        "y_pred = est_stacking.predict(X_test)"
      ],
      "metadata": {
        "trusted": true,
        "execution": {
          "iopub.status.busy": "2025-03-01T15:26:32.670612Z",
          "iopub.execute_input": "2025-03-01T15:26:32.670968Z",
          "iopub.status.idle": "2025-03-01T15:26:32.773020Z",
          "shell.execute_reply.started": "2025-03-01T15:26:32.670945Z",
          "shell.execute_reply": "2025-03-01T15:26:32.772175Z"
        },
        "id": "OyHT4jvr6ToH"
      },
      "outputs": [],
      "execution_count": null
    },
    {
      "cell_type": "code",
      "source": [
        "mse = mean_squared_error(y_test, y_pred)\n",
        "r2 = r2_score(y_test, y_pred)\n",
        "normalized_mse = (mse / (np.mean(y_test) ** 2))\n",
        "print(f'mse: {mse}')\n",
        "print(f'r2: {r2}')\n",
        "print(f'normalized_mse: {normalized_mse}')"
      ],
      "metadata": {
        "trusted": true,
        "execution": {
          "iopub.status.busy": "2025-03-01T15:26:36.516850Z",
          "iopub.execute_input": "2025-03-01T15:26:36.517134Z",
          "iopub.status.idle": "2025-03-01T15:26:36.523421Z",
          "shell.execute_reply.started": "2025-03-01T15:26:36.517112Z",
          "shell.execute_reply": "2025-03-01T15:26:36.522308Z"
        },
        "id": "RqflAcME6ToH"
      },
      "outputs": [],
      "execution_count": null
    },
    {
      "cell_type": "markdown",
      "source": [
        "We have good r2 and normalized mse scores."
      ],
      "metadata": {
        "id": "BENywey86ToH"
      }
    },
    {
      "cell_type": "code",
      "source": [
        "# Calculate residuals\n",
        "residuals = y_test - y_pred\n",
        "\n",
        "# Residual plot\n",
        "plt.figure(figsize=(10, 6))\n",
        "plt.scatter(y_pred, residuals, color='blue')\n",
        "plt.axhline(0, color='red', linestyle='--', lw=2)\n",
        "plt.xlabel('Predicted Values')\n",
        "plt.ylabel('Residuals')\n",
        "plt.title('Residual Plot')\n",
        "plt.grid()\n",
        "plt.show()"
      ],
      "metadata": {
        "trusted": true,
        "execution": {
          "iopub.status.busy": "2025-03-01T15:26:38.685334Z",
          "iopub.execute_input": "2025-03-01T15:26:38.685633Z",
          "iopub.status.idle": "2025-03-01T15:26:38.895025Z",
          "shell.execute_reply.started": "2025-03-01T15:26:38.685610Z",
          "shell.execute_reply": "2025-03-01T15:26:38.893560Z"
        },
        "id": "XE_g2U506ToI"
      },
      "outputs": [],
      "execution_count": null
    },
    {
      "cell_type": "code",
      "source": [],
      "metadata": {
        "trusted": true,
        "id": "Q_-dlTzd6ToI"
      },
      "outputs": [],
      "execution_count": null
    },
    {
      "cell_type": "code",
      "source": [],
      "metadata": {
        "trusted": true,
        "id": "HxE-KyVt6ToI"
      },
      "outputs": [],
      "execution_count": null
    },
    {
      "cell_type": "markdown",
      "source": [
        "# Explainability and Discussion"
      ],
      "metadata": {
        "id": "5M4sfMu56ToI"
      }
    },
    {
      "cell_type": "code",
      "source": [
        "X_test.shape"
      ],
      "metadata": {
        "trusted": true,
        "execution": {
          "iopub.status.busy": "2025-03-01T15:26:45.424210Z",
          "iopub.execute_input": "2025-03-01T15:26:45.424530Z",
          "iopub.status.idle": "2025-03-01T15:26:45.429930Z",
          "shell.execute_reply.started": "2025-03-01T15:26:45.424504Z",
          "shell.execute_reply": "2025-03-01T15:26:45.428547Z"
        },
        "id": "flGHYUN46ToJ"
      },
      "outputs": [],
      "execution_count": null
    },
    {
      "cell_type": "code",
      "source": [
        "feature_names = ct.get_feature_names_out()\n",
        "feature_names"
      ],
      "metadata": {
        "trusted": true,
        "execution": {
          "iopub.status.busy": "2025-03-01T15:26:46.256393Z",
          "iopub.execute_input": "2025-03-01T15:26:46.256746Z",
          "iopub.status.idle": "2025-03-01T15:26:46.262450Z",
          "shell.execute_reply.started": "2025-03-01T15:26:46.256718Z",
          "shell.execute_reply": "2025-03-01T15:26:46.261527Z"
        },
        "id": "HLxgotyn6ToJ"
      },
      "outputs": [],
      "execution_count": null
    },
    {
      "cell_type": "code",
      "source": [
        "importance_stacking = permutation_importance(estimator = est_stacking, X = X_test.toarray(), y = y_test,\n",
        "                                         n_repeats = 20, random_state= SEED)"
      ],
      "metadata": {
        "trusted": true,
        "execution": {
          "iopub.status.busy": "2025-03-01T15:26:47.183407Z",
          "iopub.execute_input": "2025-03-01T15:26:47.183734Z",
          "iopub.status.idle": "2025-03-01T15:27:53.592812Z",
          "shell.execute_reply.started": "2025-03-01T15:26:47.183709Z",
          "shell.execute_reply": "2025-03-01T15:27:53.591387Z"
        },
        "id": "KB8FNQhP6ToJ"
      },
      "outputs": [],
      "execution_count": null
    },
    {
      "cell_type": "code",
      "source": [
        "plt.figure(figsize=(10, 6))\n",
        "sorted_idx = np.argsort(importance_stacking.importances_mean)\n",
        "plt.barh(y = np.linspace(0, 1,len(feature_names)) , width = importance_stacking.importances_mean[sorted_idx],\n",
        "         height = 1 / len(feature_names), tick_label = feature_names[sorted_idx],\n",
        "     xerr = importance_stacking.importances_std[sorted_idx])\n",
        "plt.title(f'Permutation Importance (test error)')\n",
        "plt.tight_layout()\n",
        "plt.show()"
      ],
      "metadata": {
        "trusted": true,
        "execution": {
          "iopub.status.busy": "2025-03-01T15:27:53.594180Z",
          "iopub.execute_input": "2025-03-01T15:27:53.594439Z",
          "iopub.status.idle": "2025-03-01T15:27:54.023453Z",
          "shell.execute_reply.started": "2025-03-01T15:27:53.594415Z",
          "shell.execute_reply": "2025-03-01T15:27:54.022205Z"
        },
        "id": "ffmBWYfl6ToK"
      },
      "outputs": [],
      "execution_count": null
    },
    {
      "cell_type": "markdown",
      "source": [
        "Year is the most important feature in the model. The next three are engine size, mileage, and mpg."
      ],
      "metadata": {
        "id": "fyO3INHQ6ToK"
      }
    },
    {
      "cell_type": "code",
      "source": [],
      "metadata": {
        "trusted": true,
        "id": "yZf2IdFa6ToK"
      },
      "outputs": [],
      "execution_count": null
    },
    {
      "cell_type": "markdown",
      "source": [
        "# Neural Network"
      ],
      "metadata": {
        "id": "2QmubqUM6ToL"
      }
    },
    {
      "cell_type": "code",
      "source": [
        "from sklearn.model_selection import train_test_split\n",
        "from sklearn.preprocessing import StandardScaler, OneHotEncoder\n",
        "from sklearn.impute import SimpleImputer\n",
        "from sklearn.pipeline import make_pipeline\n",
        "from sklearn.compose import make_column_transformer\n",
        "from sklearn.ensemble import BaggingClassifier\n",
        "\n",
        "from tensorflow import keras\n",
        "from tensorflow.keras import layers\n",
        "import keras_tuner"
      ],
      "metadata": {
        "trusted": true,
        "execution": {
          "iopub.status.busy": "2025-03-01T15:27:54.024850Z",
          "iopub.execute_input": "2025-03-01T15:27:54.025125Z",
          "iopub.status.idle": "2025-03-01T15:28:11.126009Z",
          "shell.execute_reply.started": "2025-03-01T15:27:54.025102Z",
          "shell.execute_reply": "2025-03-01T15:28:11.124770Z"
        },
        "id": "h-YyzxI86ToL"
      },
      "outputs": [],
      "execution_count": null
    },
    {
      "cell_type": "code",
      "source": [
        "# pip install eli5"
      ],
      "metadata": {
        "trusted": true,
        "execution": {
          "iopub.status.busy": "2025-03-01T15:29:03.984695Z",
          "iopub.execute_input": "2025-03-01T15:29:03.985349Z",
          "iopub.status.idle": "2025-03-01T15:29:03.988869Z",
          "shell.execute_reply.started": "2025-03-01T15:29:03.985318Z",
          "shell.execute_reply": "2025-03-01T15:29:03.987896Z"
        },
        "id": "NlTjuR3y6ToL"
      },
      "outputs": [],
      "execution_count": null
    },
    {
      "cell_type": "code",
      "source": [
        "# def build_model(hp):\n",
        "#     \"\"\"\n",
        "#     functional (API) model that is wide (simple rules) and deep (complex rules).\n",
        "#     Note: cannot use selu b/c network contains skip connections.\n",
        "#     More tuning hyperparameters.\n",
        "#     \"\"\"\n",
        "#     lr = hp.Float('lr', min_value = 1e-4, max_value = 1e-2, sampling = 'log')\n",
        "#     units = hp.Int(\"units\", min_value=32, max_value=512, step=32, default = 64)\n",
        "#     hidden_layers = hp.Int(\"layers\", min_value=1, max_value=4, step=1, default = 2)\n",
        "#     dropout = hp.Float('do', min_value = 0.2, max_value = 0.5, step = 0.05, default = 0.3)\n",
        "\n",
        "#     initializer = keras.initializers.HeNormal(seed = SEED)\n",
        "#     regularizer = None #keras.regularizers.L1(l1=0.001)\n",
        "#     activation = 'relu'  #'relu', 'elu'\n",
        "#     loss =  'mean_squared_error' # 'mean_absolute_error'  #'mean_squared_error' # 'huber_loss'\n",
        "#     metrics = [keras.metrics.RootMeanSquaredError()]\n",
        "\n",
        "#     input = keras.layers.Input(shape=(X_train.shape[1],))\n",
        "#     BN0 = layers.BatchNormalization()(input)\n",
        "#     layer_names = [BN0, 'HL1', 'HL2', 'HL3', 'HL4']\n",
        "#     for layer in range(1,hidden_layers+1):\n",
        "#         layer_names[layer] = layers.Dense(units, activation = activation,\n",
        "#                     kernel_initializer = initializer,\n",
        "#                     kernel_regularizer = regularizer)(layer_names[layer - 1])\n",
        "#         BN = layers.BatchNormalization()(layer_names[layer])\n",
        "#         layer_names[layer] = layers.Dropout(dropout)(BN)\n",
        "\n",
        "\n",
        "#     concat = keras.layers.Concatenate()([input, layer_names[layer]])\n",
        "#     output = layers.Dense(1, activation = 'linear')(concat)\n",
        "#     model = keras.models.Model(inputs=[input], outputs=[output])\n",
        "\n",
        "#     learning_sched = keras.optimizers.schedules.ExponentialDecay(\n",
        "#         initial_learning_rate = lr,\n",
        "#         decay_steps=100000,\n",
        "#         decay_rate=0.96,\n",
        "#         staircase=True)\n",
        "#     model.compile(\n",
        "#         optimizer=keras.optimizers.Nadam(learning_rate= learning_sched),#'Nadam',\n",
        "#         loss= loss,\n",
        "#         metrics=metrics,\n",
        "#     )\n",
        "\n",
        "#     return model\n",
        "# # build_model(keras_tuner.HyperParameters())\n",
        "# # model.summary()"
      ],
      "metadata": {
        "trusted": true,
        "execution": {
          "iopub.status.busy": "2025-03-01T15:29:28.924277Z",
          "iopub.execute_input": "2025-03-01T15:29:28.925095Z",
          "iopub.status.idle": "2025-03-01T15:29:28.932841Z",
          "shell.execute_reply.started": "2025-03-01T15:29:28.925060Z",
          "shell.execute_reply": "2025-03-01T15:29:28.931852Z"
        },
        "id": "dGe4fUSU6ToR"
      },
      "outputs": [],
      "execution_count": null
    },
    {
      "cell_type": "code",
      "source": [
        "import tensorflow as tf\n",
        "from tensorflow import keras\n",
        "from tensorflow.keras import layers\n",
        "\n",
        "def build_model(hp):\n",
        "    \"\"\"\n",
        "    Functional (API) model that is wide (simple rules) and deep (complex rules).\n",
        "    Note: cannot use SELU because the network contains skip connections.\n",
        "    More tuning hyperparameters.\n",
        "    \"\"\"\n",
        "    lr = hp.Float('lr', min_value=1e-4, max_value=1e-2, sampling='log')\n",
        "    units = hp.Int(\"units\", min_value=32, max_value=512, step=32)\n",
        "    hidden_layers = hp.Int(\"layers\", min_value=1, max_value=6, step=1)\n",
        "    dropout = hp.Float('do', min_value=0.2, max_value=0.5, step=0.05)\n",
        "\n",
        "    initializer = keras.initializers.HeNormal(seed=SEED)  # Use a fixed seed for reproducibility\n",
        "    regularizer = keras.regularizers.L1(l1=0.001) # None\n",
        "    activation =  'elu' #'relu'\n",
        "    loss = 'mean_squared_error'\n",
        "    metrics = [keras.metrics.RootMeanSquaredError()]\n",
        "\n",
        "    input_layer = keras.layers.Input(shape=(X_train.shape[1],))\n",
        "\n",
        "    x = layers.BatchNormalization()(input_layer)\n",
        "    for layer in range(hidden_layers):\n",
        "        x = layers.Dense(units, activation=activation,\n",
        "                         kernel_initializer=initializer,\n",
        "                        kernel_regularizer = regularizer)(x)\n",
        "        x = layers.BatchNormalization()(x)\n",
        "        x = layers.Dropout(dropout)(x)\n",
        "\n",
        "    # Residual connection/skip connection\n",
        "    x_res = layers.Dense(units, activation=activation, kernel_initializer=initializer)(input_layer)\n",
        "    x = layers.add([x, x_res])  # Adding the residual connection\n",
        "\n",
        "    # Concatenate the input with the last hidden layer\n",
        "    concat = keras.layers.Concatenate()([input_layer, x])\n",
        "    output = layers.Dense(1, activation='linear')(concat)\n",
        "\n",
        "    # Create the model\n",
        "    model = keras.models.Model(inputs=[input_layer], outputs=[output])\n",
        "\n",
        "    # Learning rate schedule\n",
        "    learning_sched = keras.optimizers.schedules.ExponentialDecay(\n",
        "        initial_learning_rate=lr,\n",
        "        decay_steps=100000,\n",
        "        decay_rate=0.96,\n",
        "        staircase=True\n",
        "    )\n",
        "\n",
        "    # Compile the model\n",
        "    model.compile(\n",
        "        optimizer=keras.optimizers.Nadam(learning_rate=learning_sched),\n",
        "        loss=loss,\n",
        "        metrics=metrics,\n",
        "    )\n",
        "\n",
        "    return model\n"
      ],
      "metadata": {
        "trusted": true,
        "execution": {
          "iopub.status.busy": "2025-03-01T16:58:32.875033Z",
          "iopub.execute_input": "2025-03-01T16:58:32.875359Z",
          "iopub.status.idle": "2025-03-01T16:58:32.884939Z",
          "shell.execute_reply.started": "2025-03-01T16:58:32.875331Z",
          "shell.execute_reply": "2025-03-01T16:58:32.883593Z"
        },
        "id": "g5CwdiUv6ToR"
      },
      "outputs": [],
      "execution_count": null
    },
    {
      "cell_type": "code",
      "source": [
        "tuner = keras_tuner.BayesianOptimization(\n",
        "    hypermodel= build_model,\n",
        "    objective='val_loss',\n",
        "    max_trials=20,\n",
        "    # if True, overwrite above directory if search is run again - i.e. don't resume\n",
        "    overwrite = True\n",
        "    # ,directory='my_dir',  # Specify a directory to save the results\n",
        "    # project_name='wide_and_deep'\n",
        ")"
      ],
      "metadata": {
        "trusted": true,
        "execution": {
          "iopub.status.busy": "2025-03-01T16:58:42.882484Z",
          "iopub.execute_input": "2025-03-01T16:58:42.882840Z",
          "iopub.status.idle": "2025-03-01T16:58:42.948211Z",
          "shell.execute_reply.started": "2025-03-01T16:58:42.882779Z",
          "shell.execute_reply": "2025-03-01T16:58:42.946907Z"
        },
        "id": "URNZzM8v6ToS"
      },
      "outputs": [],
      "execution_count": null
    },
    {
      "cell_type": "code",
      "source": [
        "tuner.search_space_summary()"
      ],
      "metadata": {
        "trusted": true,
        "execution": {
          "iopub.status.busy": "2025-03-01T16:58:44.523654Z",
          "iopub.execute_input": "2025-03-01T16:58:44.524010Z",
          "iopub.status.idle": "2025-03-01T16:58:44.529496Z",
          "shell.execute_reply.started": "2025-03-01T16:58:44.523985Z",
          "shell.execute_reply": "2025-03-01T16:58:44.527759Z"
        },
        "id": "yBIevF276ToS"
      },
      "outputs": [],
      "execution_count": null
    },
    {
      "cell_type": "code",
      "source": [
        "early_stopping = keras.callbacks.EarlyStopping(\n",
        "    monitor = 'val_loss', ## validation loss\n",
        "    patience=5,\n",
        "    min_delta=0.001,\n",
        "    restore_best_weights=True,\n",
        "    start_from_epoch = 20,\n",
        ")"
      ],
      "metadata": {
        "trusted": true,
        "execution": {
          "iopub.status.busy": "2025-03-01T16:58:46.367418Z",
          "iopub.execute_input": "2025-03-01T16:58:46.367831Z",
          "iopub.status.idle": "2025-03-01T16:58:46.372487Z",
          "shell.execute_reply.started": "2025-03-01T16:58:46.367779Z",
          "shell.execute_reply": "2025-03-01T16:58:46.371324Z"
        },
        "id": "Ts5hhtNc6ToT"
      },
      "outputs": [],
      "execution_count": null
    },
    {
      "cell_type": "code",
      "source": [
        "# tuner.search(x_train, y_train, epochs=2, validation_data=(x_val, y_val))\n",
        "tuner.search(X_train, y_train, validation_split=0.2, callbacks=[early_stopping])"
      ],
      "metadata": {
        "trusted": true,
        "execution": {
          "iopub.status.busy": "2025-03-01T16:58:47.647281Z",
          "iopub.execute_input": "2025-03-01T16:58:47.647654Z",
          "iopub.status.idle": "2025-03-01T17:01:39.390098Z",
          "shell.execute_reply.started": "2025-03-01T16:58:47.647620Z",
          "shell.execute_reply": "2025-03-01T17:01:39.388818Z"
        },
        "id": "UVF_RkNl6ToT"
      },
      "outputs": [],
      "execution_count": null
    },
    {
      "cell_type": "code",
      "source": [
        "tuner.results_summary()"
      ],
      "metadata": {
        "trusted": true,
        "execution": {
          "iopub.status.busy": "2025-03-01T17:01:39.391603Z",
          "iopub.execute_input": "2025-03-01T17:01:39.391935Z",
          "iopub.status.idle": "2025-03-01T17:01:39.408399Z",
          "shell.execute_reply.started": "2025-03-01T17:01:39.391911Z",
          "shell.execute_reply": "2025-03-01T17:01:39.407028Z"
        },
        "id": "1d1B2nPU6ToU"
      },
      "outputs": [],
      "execution_count": null
    },
    {
      "cell_type": "code",
      "source": [
        "# Get the top  models.\n",
        "models = tuner.get_best_models(num_models=5)\n",
        "# for model in models:\n",
        "#     model.build(input_shape = [None, X_train.shape[1]])\n",
        "#     model.summary()\n",
        "best_model = models[0]\n",
        "# Build the model.\n",
        "# Needed for `Sequential` without specified `input_shape`.\n",
        "# input_shape = [None, X_train.shape[1]]\n",
        "best_model.build(input_shape = [None, X_train.shape[1]])\n",
        "best_model.summary()"
      ],
      "metadata": {
        "trusted": true,
        "execution": {
          "iopub.status.busy": "2025-03-01T17:01:39.409866Z",
          "iopub.execute_input": "2025-03-01T17:01:39.410136Z",
          "iopub.status.idle": "2025-03-01T17:01:56.513094Z",
          "shell.execute_reply.started": "2025-03-01T17:01:39.410113Z",
          "shell.execute_reply": "2025-03-01T17:01:56.511863Z"
        },
        "id": "Q4LJs4b06ToU"
      },
      "outputs": [],
      "execution_count": null
    },
    {
      "cell_type": "code",
      "source": [
        "keras.utils.plot_model(best_model, \"multi_input_and_output_model.png\", show_shapes=True)"
      ],
      "metadata": {
        "trusted": true,
        "execution": {
          "iopub.status.busy": "2025-03-01T17:01:56.514000Z",
          "iopub.execute_input": "2025-03-01T17:01:56.514233Z",
          "iopub.status.idle": "2025-03-01T17:01:57.043729Z",
          "shell.execute_reply.started": "2025-03-01T17:01:56.514214Z",
          "shell.execute_reply": "2025-03-01T17:01:57.042842Z"
        },
        "id": "XGrvqHJO6ToZ"
      },
      "outputs": [],
      "execution_count": null
    },
    {
      "cell_type": "markdown",
      "source": [
        "## Save Model"
      ],
      "metadata": {
        "id": "OXvDof8L6Toa"
      }
    },
    {
      "cell_type": "code",
      "source": [
        "## for tensorflow/keras\n",
        "model = best_model\n",
        "## Save the entire model\n",
        "model.save('model.h5')\n",
        "\n",
        "# ## Load the model\n",
        "# from tensorflow.keras.models import load_model\n",
        "# loaded_model = load_model('model.h5')"
      ],
      "metadata": {
        "trusted": true,
        "execution": {
          "iopub.status.busy": "2025-03-01T15:37:44.716055Z",
          "iopub.execute_input": "2025-03-01T15:37:44.716367Z",
          "iopub.status.idle": "2025-03-01T15:37:44.750279Z",
          "shell.execute_reply.started": "2025-03-01T15:37:44.716339Z",
          "shell.execute_reply": "2025-03-01T15:37:44.749239Z"
        },
        "id": "SjD2EJyL6Toa"
      },
      "outputs": [],
      "execution_count": null
    },
    {
      "cell_type": "markdown",
      "source": [
        "## Load Model"
      ],
      "metadata": {
        "id": "LfQkoH_G6Tob"
      }
    },
    {
      "cell_type": "code",
      "source": [
        "## for tensorflow/keras\n",
        "\n",
        "# ## Save the entire model\n",
        "# model.save('model.h5')\n",
        "\n",
        "# ## Load the model\n",
        "from tensorflow.keras.models import load_model\n",
        "loaded_model = load_model('model.h5')\n",
        "best_model = loaded_model\n",
        "best_model.summary()"
      ],
      "metadata": {
        "trusted": true,
        "execution": {
          "iopub.status.busy": "2025-03-01T15:37:47.444351Z",
          "iopub.execute_input": "2025-03-01T15:37:47.444704Z",
          "iopub.status.idle": "2025-03-01T15:37:47.548466Z",
          "shell.execute_reply.started": "2025-03-01T15:37:47.444674Z",
          "shell.execute_reply": "2025-03-01T15:37:47.547663Z"
        },
        "id": "ceVPKCrz6Tob"
      },
      "outputs": [],
      "execution_count": null
    },
    {
      "cell_type": "code",
      "source": [
        "# Get the top 5 hyperparameters.\n",
        "best_hps = tuner.get_best_hyperparameters(5)\n",
        "# Build the model with the best hp.\n",
        "model = build_model(best_hps[0])\n",
        "# Fit with the entire dataset.\n",
        "# model.fit(X_train, y_train, epochs=1)\n",
        "# tensorboard_callback = keras.callbacks.TensorBoard(histogram_freq=1)\n",
        "history = model.fit(\n",
        "    X_train, y_train,\n",
        "#     validation_data=(X_val, y_val),\n",
        "    validation_split = 0.2,\n",
        "    batch_size=32,\n",
        "    epochs=100,\n",
        "    callbacks=[early_stopping]#, tensorboard_callback],\n",
        ")"
      ],
      "metadata": {
        "execution": {
          "iopub.status.busy": "2025-03-01T15:37:51.764558Z",
          "iopub.execute_input": "2025-03-01T15:37:51.765663Z",
          "iopub.status.idle": "2025-03-01T15:38:57.525440Z",
          "shell.execute_reply.started": "2025-03-01T15:37:51.765604Z",
          "shell.execute_reply": "2025-03-01T15:38:57.524316Z"
        },
        "trusted": true,
        "id": "xEWXDgcm6Toc"
      },
      "outputs": [],
      "execution_count": null
    },
    {
      "cell_type": "code",
      "source": [
        "history_df = pd.DataFrame(history.history)"
      ],
      "metadata": {
        "trusted": true,
        "execution": {
          "iopub.status.busy": "2025-03-01T15:38:57.527892Z",
          "iopub.execute_input": "2025-03-01T15:38:57.528142Z",
          "iopub.status.idle": "2025-03-01T15:38:57.531990Z",
          "shell.execute_reply.started": "2025-03-01T15:38:57.528120Z",
          "shell.execute_reply": "2025-03-01T15:38:57.531206Z"
        },
        "id": "_u6ePGqb6Tod"
      },
      "outputs": [],
      "execution_count": null
    },
    {
      "cell_type": "code",
      "source": [
        "history_df"
      ],
      "metadata": {
        "trusted": true,
        "execution": {
          "iopub.status.busy": "2025-03-01T15:38:57.533225Z",
          "iopub.execute_input": "2025-03-01T15:38:57.533450Z",
          "iopub.status.idle": "2025-03-01T15:38:57.546309Z",
          "shell.execute_reply.started": "2025-03-01T15:38:57.533431Z",
          "shell.execute_reply": "2025-03-01T15:38:57.545426Z"
        },
        "id": "34LDb5WU6Toe"
      },
      "outputs": [],
      "execution_count": null
    },
    {
      "cell_type": "code",
      "source": [
        "## regularization only on training data => makes training lc larger than val lc\n",
        "# history_df = pd.DataFrame(history.history)\n",
        "history_df.loc[:, ['loss', 'val_loss']].plot(title=\"Loss\")\n",
        "history_df.loc[:, ['root_mean_squared_error', 'val_root_mean_squared_error']].plot(title=\"Metric\")\n",
        "# history_df.loc[:, ['loss']].plot(title=\"Cross-entropy\")\n",
        "# history_df.loc[:, ['binary_accuracy']].plot(title=\"Accuracy\")"
      ],
      "metadata": {
        "trusted": true,
        "execution": {
          "iopub.status.busy": "2025-03-01T16:20:12.022445Z",
          "iopub.execute_input": "2025-03-01T16:20:12.022826Z",
          "iopub.status.idle": "2025-03-01T16:20:12.553245Z",
          "shell.execute_reply.started": "2025-03-01T16:20:12.022759Z",
          "shell.execute_reply": "2025-03-01T16:20:12.550998Z"
        },
        "id": "I1HjgFre6Tof"
      },
      "outputs": [],
      "execution_count": null
    },
    {
      "cell_type": "code",
      "source": [
        "y_pred = model.predict(X_test)"
      ],
      "metadata": {
        "trusted": true,
        "execution": {
          "iopub.status.busy": "2025-03-01T17:26:34.260627Z",
          "iopub.execute_input": "2025-03-01T17:26:34.261040Z",
          "iopub.status.idle": "2025-03-01T17:26:34.936384Z",
          "shell.execute_reply.started": "2025-03-01T17:26:34.261008Z",
          "shell.execute_reply": "2025-03-01T17:26:34.934544Z"
        },
        "id": "UZ4zPPzJ6Tof"
      },
      "outputs": [],
      "execution_count": null
    },
    {
      "cell_type": "code",
      "source": [
        "mse = mean_squared_error(y_test, y_pred)\n",
        "r2 = r2_score(y_test, y_pred)\n",
        "normalized_mse = (mse / (np.mean(y_test) ** 2))\n",
        "print(f'mse: {mse}')\n",
        "print(f'r2: {r2}')\n",
        "print(f'normalized_mse: {normalized_mse}')"
      ],
      "metadata": {
        "trusted": true,
        "execution": {
          "iopub.status.busy": "2025-03-01T17:26:39.745305Z",
          "iopub.execute_input": "2025-03-01T17:26:39.745671Z",
          "iopub.status.idle": "2025-03-01T17:26:39.753954Z",
          "shell.execute_reply.started": "2025-03-01T17:26:39.745629Z",
          "shell.execute_reply": "2025-03-01T17:26:39.752727Z"
        },
        "id": "VHyliH3w6Tog"
      },
      "outputs": [],
      "execution_count": null
    },
    {
      "cell_type": "code",
      "source": [
        "keras.utils.plot_model(model, \"multi_input_and_output_model.png\", show_shapes=True)"
      ],
      "metadata": {
        "trusted": true,
        "execution": {
          "iopub.status.busy": "2025-03-01T15:38:58.771066Z",
          "iopub.execute_input": "2025-03-01T15:38:58.771289Z",
          "iopub.status.idle": "2025-03-01T15:38:59.406032Z",
          "shell.execute_reply.started": "2025-03-01T15:38:58.771270Z",
          "shell.execute_reply": "2025-03-01T15:38:59.405041Z"
        },
        "id": "Qn915vMe6Tog"
      },
      "outputs": [],
      "execution_count": null
    },
    {
      "cell_type": "code",
      "source": [
        "import eli5\n",
        "from eli5.sklearn import PermutationImportance\n",
        "# from keras.wrappers.scikit_learn import KerasClassifier, KerasRegressor"
      ],
      "metadata": {
        "trusted": true,
        "execution": {
          "iopub.status.busy": "2025-03-01T16:00:51.391255Z",
          "iopub.execute_input": "2025-03-01T16:00:51.391577Z",
          "iopub.status.idle": "2025-03-01T16:00:51.395645Z",
          "shell.execute_reply.started": "2025-03-01T16:00:51.391551Z",
          "shell.execute_reply": "2025-03-01T16:00:51.394376Z"
        },
        "id": "zqJWLJVv6Toh"
      },
      "outputs": [],
      "execution_count": null
    },
    {
      "cell_type": "code",
      "source": [
        "perm = PermutationImportance(model, scoring='neg_mean_squared_error',\n",
        "                random_state= SEED, n_iter = 20).fit(X_test.toarray(),y_test)"
      ],
      "metadata": {
        "trusted": true,
        "execution": {
          "iopub.status.busy": "2025-03-01T16:01:33.763316Z",
          "iopub.execute_input": "2025-03-01T16:01:33.763631Z",
          "iopub.status.idle": "2025-03-01T16:05:06.884823Z",
          "shell.execute_reply.started": "2025-03-01T16:01:33.763604Z",
          "shell.execute_reply": "2025-03-01T16:05:06.883868Z"
        },
        "id": "w8lewyKC6Toh"
      },
      "outputs": [],
      "execution_count": null
    },
    {
      "cell_type": "code",
      "source": [
        "plt.figure(figsize=(10, 6))\n",
        "sorted_idx = np.argsort(perm.feature_importances_)\n",
        "plt.barh(y = np.linspace(0, 1,len(feature_names)) , width = perm.feature_importances_[sorted_idx],\n",
        "         height = 1 / len(feature_names), tick_label = feature_names[sorted_idx],\n",
        "         xerr = perm.feature_importances_std_[sorted_idx])\n",
        "plt.title('Permutation Importance (test error)')\n",
        "plt.tight_layout()\n",
        "None"
      ],
      "metadata": {
        "trusted": true,
        "execution": {
          "iopub.status.busy": "2025-03-01T16:15:20.746143Z",
          "iopub.execute_input": "2025-03-01T16:15:20.746496Z",
          "iopub.status.idle": "2025-03-01T16:15:21.296833Z",
          "shell.execute_reply.started": "2025-03-01T16:15:20.746463Z",
          "shell.execute_reply": "2025-03-01T16:15:21.295457Z"
        },
        "id": "jWRg82OL6Toi"
      },
      "outputs": [],
      "execution_count": null
    },
    {
      "cell_type": "code",
      "source": [],
      "metadata": {
        "trusted": true,
        "id": "TJfU3mMC6Toi"
      },
      "outputs": [],
      "execution_count": null
    },
    {
      "cell_type": "markdown",
      "source": [
        "# End"
      ],
      "metadata": {
        "id": "vDr4-zfk6Toj"
      }
    },
    {
      "cell_type": "code",
      "source": [],
      "metadata": {
        "trusted": true,
        "id": "ENKVlAQ36Toj"
      },
      "outputs": [],
      "execution_count": null
    }
  ]
}