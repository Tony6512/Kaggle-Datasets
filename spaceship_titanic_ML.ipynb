{
  "metadata": {
    "kernelspec": {
      "language": "python",
      "display_name": "Python 3",
      "name": "python3"
    },
    "language_info": {
      "name": "python",
      "version": "3.7.12",
      "mimetype": "text/x-python",
      "codemirror_mode": {
        "name": "ipython",
        "version": 3
      },
      "pygments_lexer": "ipython3",
      "nbconvert_exporter": "python",
      "file_extension": ".py"
    },
    "kaggle": {
      "accelerator": "none",
      "dataSources": [
        {
          "sourceId": 34377,
          "databundleVersionId": 3220602,
          "sourceType": "competition"
        }
      ],
      "dockerImageVersionId": 30407,
      "isInternetEnabled": true,
      "language": "python",
      "sourceType": "notebook",
      "isGpuEnabled": false
    },
    "colab": {
      "provenance": [],
      "include_colab_link": true
    }
  },
  "nbformat_minor": 0,
  "nbformat": 4,
  "cells": [
    {
      "cell_type": "markdown",
      "metadata": {
        "id": "view-in-github",
        "colab_type": "text"
      },
      "source": [
        "<a href=\"https://colab.research.google.com/github/Tony6512/Kaggle-Datasets/blob/main/spaceship_titanic_ML.ipynb\" target=\"_parent\"><img src=\"https://colab.research.google.com/assets/colab-badge.svg\" alt=\"Open In Colab\"/></a>"
      ]
    },
    {
      "cell_type": "code",
      "source": [
        "# This Python 3 environment comes with many helpful analytics libraries installed\n",
        "# It is defined by the kaggle/python Docker image: https://github.com/kaggle/docker-python\n",
        "# For example, here's several helpful packages to load\n",
        "\n",
        "import numpy as np # linear algebra\n",
        "import pandas as pd # data processing, CSV file I/O (e.g. pd.read_csv)\n",
        "\n",
        "# Input data files are available in the read-only \"../input/\" directory\n",
        "# For example, running this (by clicking run or pressing Shift+Enter) will list all files under the input directory\n",
        "\n",
        "import os\n",
        "for dirname, _, filenames in os.walk('/kaggle/input'):\n",
        "    for filename in filenames:\n",
        "        print(os.path.join(dirname, filename))\n",
        "\n",
        "# You can write up to 20GB to the current directory (/kaggle/working/) that gets preserved as output when you create a version using \"Save & Run All\"\n",
        "# You can also write temporary files to /kaggle/temp/, but they won't be saved outside of the current session"
      ],
      "metadata": {
        "_uuid": "8f2839f25d086af736a60e9eeb907d3b93b6e0e5",
        "_cell_guid": "b1076dfc-b9ad-4769-8c92-a6c4dae69d19",
        "execution": {
          "iopub.status.busy": "2024-07-03T16:00:24.186255Z",
          "iopub.execute_input": "2024-07-03T16:00:24.187683Z",
          "iopub.status.idle": "2024-07-03T16:00:24.197828Z",
          "shell.execute_reply.started": "2024-07-03T16:00:24.187596Z",
          "shell.execute_reply": "2024-07-03T16:00:24.196146Z"
        },
        "trusted": true,
        "id": "HC6rT8N2Cs13"
      },
      "execution_count": null,
      "outputs": []
    },
    {
      "cell_type": "markdown",
      "source": [
        "https://www.kaggle.com/competitions/spaceship-titanic"
      ],
      "metadata": {
        "id": "34zbhPyxCs2B"
      }
    },
    {
      "cell_type": "markdown",
      "source": [
        "# Intro / Get Data"
      ],
      "metadata": {
        "id": "UPjzqSfqCs2F"
      }
    },
    {
      "cell_type": "code",
      "source": [
        "# data analysis and wrangling\n",
        "import pandas as pd\n",
        "import numpy as np\n",
        "import random as rnd\n",
        "\n",
        "# visualization\n",
        "import seaborn as sns\n",
        "sns.set(style=\"darkgrid\")\n",
        "import matplotlib.pyplot as plt\n",
        "%matplotlib inline\n",
        "\n",
        "import warnings\n",
        "warnings.filterwarnings('ignore')\n",
        "\n",
        "# machine learning\n",
        "from sklearn.linear_model import LogisticRegression\n",
        "from sklearn.svm import SVC, LinearSVC\n",
        "from sklearn.ensemble import RandomForestClassifier\n",
        "from sklearn.neighbors import KNeighborsClassifier\n",
        "from sklearn.naive_bayes import GaussianNB\n",
        "from sklearn.linear_model import Perceptron\n",
        "from sklearn.linear_model import SGDClassifier\n",
        "from sklearn.tree import DecisionTreeClassifier\n",
        "\n",
        "from sklearn.model_selection import KFold\n",
        "from sklearn.ensemble import (RandomForestClassifier, AdaBoostClassifier,\n",
        "                              GradientBoostingClassifier, ExtraTreesClassifier)\n",
        "\n",
        "from sklearn.preprocessing import OneHotEncoder, LabelEncoder, StandardScaler, MinMaxScaler\n",
        "from sklearn.metrics import roc_curve, auc\n",
        "from sklearn.model_selection import StratifiedKFold\n",
        "from sklearn.compose import ColumnTransformer\n",
        "\n",
        "SEED = 0\n"
      ],
      "metadata": {
        "execution": {
          "iopub.status.busy": "2024-07-03T16:00:24.203568Z",
          "iopub.execute_input": "2024-07-03T16:00:24.204981Z",
          "iopub.status.idle": "2024-07-03T16:00:25.619163Z",
          "shell.execute_reply.started": "2024-07-03T16:00:24.204911Z",
          "shell.execute_reply": "2024-07-03T16:00:25.617703Z"
        },
        "trusted": true,
        "id": "JAsmFucVCs2G"
      },
      "execution_count": null,
      "outputs": []
    },
    {
      "cell_type": "code",
      "source": [
        "df_train = pd.read_csv(\"/kaggle/input/spaceship-titanic/train.csv\")\n",
        "df_train.head()"
      ],
      "metadata": {
        "execution": {
          "iopub.status.busy": "2024-07-03T16:00:25.621309Z",
          "iopub.execute_input": "2024-07-03T16:00:25.621742Z",
          "iopub.status.idle": "2024-07-03T16:00:25.721350Z",
          "shell.execute_reply.started": "2024-07-03T16:00:25.621700Z",
          "shell.execute_reply": "2024-07-03T16:00:25.719939Z"
        },
        "trusted": true,
        "id": "AHw81ZscCs2H"
      },
      "execution_count": null,
      "outputs": []
    },
    {
      "cell_type": "code",
      "source": [
        "df_test = pd.read_csv(\"/kaggle/input/spaceship-titanic/test.csv\")\n",
        "df_test.head()"
      ],
      "metadata": {
        "execution": {
          "iopub.status.busy": "2024-07-03T16:00:25.722766Z",
          "iopub.execute_input": "2024-07-03T16:00:25.723139Z",
          "iopub.status.idle": "2024-07-03T16:00:25.770087Z",
          "shell.execute_reply.started": "2024-07-03T16:00:25.723105Z",
          "shell.execute_reply": "2024-07-03T16:00:25.768661Z"
        },
        "trusted": true,
        "id": "c-EZpBDWCs2H"
      },
      "execution_count": null,
      "outputs": []
    },
    {
      "cell_type": "code",
      "source": [
        "df_train.describe()"
      ],
      "metadata": {
        "execution": {
          "iopub.status.busy": "2024-07-03T16:00:25.772919Z",
          "iopub.execute_input": "2024-07-03T16:00:25.773384Z",
          "iopub.status.idle": "2024-07-03T16:00:25.832980Z",
          "shell.execute_reply.started": "2024-07-03T16:00:25.773339Z",
          "shell.execute_reply": "2024-07-03T16:00:25.831054Z"
        },
        "trusted": true,
        "id": "SNEpKrgvCs2I"
      },
      "execution_count": null,
      "outputs": []
    },
    {
      "cell_type": "code",
      "source": [
        "# df_test.describe()"
      ],
      "metadata": {
        "execution": {
          "iopub.status.busy": "2024-07-03T16:00:25.834929Z",
          "iopub.execute_input": "2024-07-03T16:00:25.836352Z",
          "iopub.status.idle": "2024-07-03T16:00:25.843054Z",
          "shell.execute_reply.started": "2024-07-03T16:00:25.836280Z",
          "shell.execute_reply": "2024-07-03T16:00:25.841204Z"
        },
        "trusted": true,
        "id": "AY3zO6pCCs2K"
      },
      "execution_count": null,
      "outputs": []
    },
    {
      "cell_type": "markdown",
      "source": [
        "Let us seperate categorical features and continuous features."
      ],
      "metadata": {
        "id": "HOtYd58SCs2L"
      }
    },
    {
      "cell_type": "code",
      "source": [
        "cts_features = df_train.describe().columns\n",
        "cts_features"
      ],
      "metadata": {
        "execution": {
          "iopub.status.busy": "2024-07-03T16:00:25.845359Z",
          "iopub.execute_input": "2024-07-03T16:00:25.845823Z",
          "iopub.status.idle": "2024-07-03T16:00:25.885697Z",
          "shell.execute_reply.started": "2024-07-03T16:00:25.845777Z",
          "shell.execute_reply": "2024-07-03T16:00:25.883600Z"
        },
        "trusted": true,
        "id": "pFFu-HVGCs2M"
      },
      "execution_count": null,
      "outputs": []
    },
    {
      "cell_type": "code",
      "source": [
        "df_train.describe(exclude = [np.number])  ## non numeric"
      ],
      "metadata": {
        "execution": {
          "iopub.status.busy": "2024-07-03T16:00:25.887536Z",
          "iopub.execute_input": "2024-07-03T16:00:25.888716Z",
          "iopub.status.idle": "2024-07-03T16:00:25.953531Z",
          "shell.execute_reply.started": "2024-07-03T16:00:25.888388Z",
          "shell.execute_reply": "2024-07-03T16:00:25.951991Z"
        },
        "trusted": true,
        "id": "G2EW4JaPCs2N"
      },
      "execution_count": null,
      "outputs": []
    },
    {
      "cell_type": "code",
      "source": [
        "cat_features = df_train.drop(['PassengerId', 'Transported'], axis = 1).describe(exclude = [np.number]).columns\n",
        "cat_features"
      ],
      "metadata": {
        "execution": {
          "iopub.status.busy": "2024-07-03T16:00:25.955342Z",
          "iopub.execute_input": "2024-07-03T16:00:25.955774Z",
          "iopub.status.idle": "2024-07-03T16:00:26.004697Z",
          "shell.execute_reply.started": "2024-07-03T16:00:25.955732Z",
          "shell.execute_reply": "2024-07-03T16:00:26.002538Z"
        },
        "trusted": true,
        "id": "o2oTk3PsCs2O"
      },
      "execution_count": null,
      "outputs": []
    },
    {
      "cell_type": "code",
      "source": [
        "# df_all = concat_df(df_train, df_test)\n",
        "df_train.name = 'Training Set'\n",
        "df_test.name = 'Test Set'\n",
        "# df_all.name = 'All Set'\n",
        "PassengerId_test = df_test['PassengerId'] ## for submission\n",
        "dfs = [df_train, df_test]\n",
        "\n",
        "print(f'Training X Shape = {df_train.shape}')\n",
        "print(f'Training y Shape = {df_train.shape[0]}')\n",
        "print(f'Test X Shape = {df_test.shape}')\n",
        "print(f'Test y Shape = {df_test.shape[0]}')\n",
        "print(df_train.columns)\n",
        "print(df_test.columns)"
      ],
      "metadata": {
        "execution": {
          "iopub.status.busy": "2024-07-03T16:00:26.007133Z",
          "iopub.execute_input": "2024-07-03T16:00:26.007774Z",
          "iopub.status.idle": "2024-07-03T16:00:26.019850Z",
          "shell.execute_reply.started": "2024-07-03T16:00:26.007709Z",
          "shell.execute_reply": "2024-07-03T16:00:26.018149Z"
        },
        "trusted": true,
        "id": "aAJwRbBJCs2P"
      },
      "execution_count": null,
      "outputs": []
    },
    {
      "cell_type": "code",
      "source": [
        "for df in dfs:\n",
        "    df.info()\n",
        "    print('-'*50)"
      ],
      "metadata": {
        "execution": {
          "iopub.status.busy": "2024-07-03T16:00:26.026015Z",
          "iopub.execute_input": "2024-07-03T16:00:26.028475Z",
          "iopub.status.idle": "2024-07-03T16:00:26.073800Z",
          "shell.execute_reply.started": "2024-07-03T16:00:26.028397Z",
          "shell.execute_reply": "2024-07-03T16:00:26.068810Z"
        },
        "trusted": true,
        "id": "bqOCNKKBCs2P"
      },
      "execution_count": null,
      "outputs": []
    },
    {
      "cell_type": "code",
      "source": [
        "def display_missing(df):\n",
        "    for col in df.columns.tolist():\n",
        "        print(f'{col} column missing values: {df[col].isnull().sum()}')\n",
        "    print('\\n')"
      ],
      "metadata": {
        "execution": {
          "iopub.status.busy": "2024-07-03T16:00:26.078788Z",
          "iopub.execute_input": "2024-07-03T16:00:26.079278Z",
          "iopub.status.idle": "2024-07-03T16:00:26.089810Z",
          "shell.execute_reply.started": "2024-07-03T16:00:26.079222Z",
          "shell.execute_reply": "2024-07-03T16:00:26.086789Z"
        },
        "trusted": true,
        "id": "rNnklhVKCs2Q"
      },
      "execution_count": null,
      "outputs": []
    },
    {
      "cell_type": "code",
      "source": [
        "for df in dfs:\n",
        "    print(f'{df.name}')\n",
        "    display_missing(df)"
      ],
      "metadata": {
        "execution": {
          "iopub.status.busy": "2024-07-03T16:00:26.092256Z",
          "iopub.execute_input": "2024-07-03T16:00:26.092823Z",
          "iopub.status.idle": "2024-07-03T16:00:26.121831Z",
          "shell.execute_reply.started": "2024-07-03T16:00:26.092737Z",
          "shell.execute_reply": "2024-07-03T16:00:26.119680Z"
        },
        "trusted": true,
        "id": "qkafvZ2PCs2Q"
      },
      "execution_count": null,
      "outputs": []
    },
    {
      "cell_type": "markdown",
      "source": [
        "# Visualize Data"
      ],
      "metadata": {
        "id": "uH4tX0aVCs2R"
      }
    },
    {
      "cell_type": "code",
      "source": [
        "fig, axs = plt.subplots(nrows=2, figsize=(15, 15))\n",
        "\n",
        "sns.heatmap(df_train.corr(), ax=axs[0], annot=True, square=True, cmap='coolwarm', annot_kws={'size': 14})\n",
        "sns.heatmap(df_test.corr(), ax=axs[1], annot=True, square=True, cmap='coolwarm', annot_kws={'size': 14})\n",
        "plt.show()"
      ],
      "metadata": {
        "execution": {
          "iopub.status.busy": "2024-07-03T16:00:26.124091Z",
          "iopub.execute_input": "2024-07-03T16:00:26.125090Z",
          "iopub.status.idle": "2024-07-03T16:00:27.364130Z",
          "shell.execute_reply.started": "2024-07-03T16:00:26.125029Z",
          "shell.execute_reply": "2024-07-03T16:00:27.362737Z"
        },
        "trusted": true,
        "id": "JG6Zfcq0Cs2R"
      },
      "execution_count": null,
      "outputs": []
    },
    {
      "cell_type": "markdown",
      "source": [
        "Let us look at the target feature against some of the categorical and continuous features."
      ],
      "metadata": {
        "id": "dD47Z5D2Cs2R"
      }
    },
    {
      "cell_type": "code",
      "source": [
        "sns.histplot(x='Age', hue='Transported', data=df_train, kde = True)\n",
        "None"
      ],
      "metadata": {
        "execution": {
          "iopub.status.busy": "2024-07-03T16:00:27.365877Z",
          "iopub.execute_input": "2024-07-03T16:00:27.366271Z",
          "iopub.status.idle": "2024-07-03T16:00:28.018754Z",
          "shell.execute_reply.started": "2024-07-03T16:00:27.366234Z",
          "shell.execute_reply": "2024-07-03T16:00:28.017367Z"
        },
        "trusted": true,
        "id": "_CoEnBp1Cs2S"
      },
      "execution_count": null,
      "outputs": []
    },
    {
      "cell_type": "code",
      "source": [
        "sns.kdeplot(x='Age', hue='Transported', data=df_train, shade = True)\n",
        "None"
      ],
      "metadata": {
        "execution": {
          "iopub.status.busy": "2024-07-03T16:00:28.020169Z",
          "iopub.execute_input": "2024-07-03T16:00:28.020648Z",
          "iopub.status.idle": "2024-07-03T16:00:28.390726Z",
          "shell.execute_reply.started": "2024-07-03T16:00:28.020575Z",
          "shell.execute_reply": "2024-07-03T16:00:28.389157Z"
        },
        "trusted": true,
        "id": "iLSALcLqCs2S"
      },
      "execution_count": null,
      "outputs": []
    },
    {
      "cell_type": "code",
      "source": [
        "for feat in cts_features:\n",
        "    if feat != 'Age':\n",
        "        sns.histplot(x= feat, hue='Transported', data=df_train, bins = 10, multiple = 'dodge', shrink = 0.8)\n",
        "    else:\n",
        "        sns.histplot(x= feat, hue='Transported', data=df_train, kde = True)\n",
        "    plt.show()"
      ],
      "metadata": {
        "execution": {
          "iopub.status.busy": "2024-07-03T16:00:28.392661Z",
          "iopub.execute_input": "2024-07-03T16:00:28.393079Z",
          "iopub.status.idle": "2024-07-03T16:00:30.933551Z",
          "shell.execute_reply.started": "2024-07-03T16:00:28.393036Z",
          "shell.execute_reply": "2024-07-03T16:00:30.931980Z"
        },
        "trusted": true,
        "id": "O9hfdf-QCs2T"
      },
      "execution_count": null,
      "outputs": []
    },
    {
      "cell_type": "markdown",
      "source": [
        "We might want to bin most of the numerical data since the majority of it is just 0."
      ],
      "metadata": {
        "id": "zpCr9VEHCs2T"
      }
    },
    {
      "cell_type": "code",
      "source": [
        "for feat in cts_features:\n",
        "    if feat == 'Age':\n",
        "        pass\n",
        "    else:\n",
        "        sns.scatterplot(data=df_train, x= feat, y = 'Transported' , hue= 'Transported')\n",
        "        plt.show()\n"
      ],
      "metadata": {
        "execution": {
          "iopub.status.busy": "2024-07-03T16:00:30.935204Z",
          "iopub.execute_input": "2024-07-03T16:00:30.935706Z",
          "iopub.status.idle": "2024-07-03T16:00:33.751469Z",
          "shell.execute_reply.started": "2024-07-03T16:00:30.935658Z",
          "shell.execute_reply": "2024-07-03T16:00:33.749833Z"
        },
        "trusted": true,
        "id": "q65fB_UNCs2T"
      },
      "execution_count": null,
      "outputs": []
    },
    {
      "cell_type": "code",
      "source": [
        "sns.countplot(x='Transported', data=df_train)\n",
        "None"
      ],
      "metadata": {
        "execution": {
          "iopub.status.busy": "2024-07-03T16:00:33.753453Z",
          "iopub.execute_input": "2024-07-03T16:00:33.754322Z",
          "iopub.status.idle": "2024-07-03T16:00:33.987168Z",
          "shell.execute_reply.started": "2024-07-03T16:00:33.754270Z",
          "shell.execute_reply": "2024-07-03T16:00:33.985607Z"
        },
        "trusted": true,
        "id": "S7t4c7_YCs2U"
      },
      "execution_count": null,
      "outputs": []
    },
    {
      "cell_type": "code",
      "source": [
        "# cat_features\n",
        "for feat in ['HomePlanet', 'Destination', 'CryoSleep']:\n",
        "    sns.countplot(x= feat, hue='Transported', data=df_train)\n",
        "    plt.show()"
      ],
      "metadata": {
        "execution": {
          "iopub.status.busy": "2024-07-03T16:00:33.989057Z",
          "iopub.execute_input": "2024-07-03T16:00:33.989545Z",
          "iopub.status.idle": "2024-07-03T16:00:34.744350Z",
          "shell.execute_reply.started": "2024-07-03T16:00:33.989482Z",
          "shell.execute_reply": "2024-07-03T16:00:34.742882Z"
        },
        "trusted": true,
        "id": "Xd3GB2c6Cs2U"
      },
      "execution_count": null,
      "outputs": []
    },
    {
      "cell_type": "markdown",
      "source": [
        "Many people who are not transported (to another dimension) are from Earth (home planet). There is a nice relation between cryosleep and transported."
      ],
      "metadata": {
        "id": "QqAlIj2jCs2U"
      }
    },
    {
      "cell_type": "code",
      "source": [],
      "metadata": {
        "id": "-IbFER5JCs2U"
      },
      "execution_count": null,
      "outputs": []
    },
    {
      "cell_type": "markdown",
      "source": [
        "# Clean Data"
      ],
      "metadata": {
        "id": "Vs3jF4dCCs2V"
      }
    },
    {
      "cell_type": "markdown",
      "source": [
        "## Age"
      ],
      "metadata": {
        "id": "A2W393oPCs2V"
      }
    },
    {
      "cell_type": "code",
      "source": [
        "sns.histplot(x='Age', data=df_train, kde = True)\n",
        "None"
      ],
      "metadata": {
        "execution": {
          "iopub.status.busy": "2024-07-03T16:00:34.746100Z",
          "iopub.execute_input": "2024-07-03T16:00:34.746752Z",
          "iopub.status.idle": "2024-07-03T16:00:35.164048Z",
          "shell.execute_reply.started": "2024-07-03T16:00:34.746705Z",
          "shell.execute_reply": "2024-07-03T16:00:35.162705Z"
        },
        "trusted": true,
        "id": "GGuTRgu6Cs2V"
      },
      "execution_count": null,
      "outputs": []
    },
    {
      "cell_type": "code",
      "source": [
        "df_train['Age'].mean()"
      ],
      "metadata": {
        "execution": {
          "iopub.status.busy": "2024-07-03T16:00:35.165532Z",
          "iopub.execute_input": "2024-07-03T16:00:35.165930Z",
          "iopub.status.idle": "2024-07-03T16:00:35.174562Z",
          "shell.execute_reply.started": "2024-07-03T16:00:35.165892Z",
          "shell.execute_reply": "2024-07-03T16:00:35.173414Z"
        },
        "trusted": true,
        "id": "m_h3SXtVCs2W"
      },
      "execution_count": null,
      "outputs": []
    },
    {
      "cell_type": "code",
      "source": [
        "df_train['Age'].median()"
      ],
      "metadata": {
        "execution": {
          "iopub.status.busy": "2024-07-03T16:00:35.176343Z",
          "iopub.execute_input": "2024-07-03T16:00:35.176879Z",
          "iopub.status.idle": "2024-07-03T16:00:35.189778Z",
          "shell.execute_reply.started": "2024-07-03T16:00:35.176834Z",
          "shell.execute_reply": "2024-07-03T16:00:35.187715Z"
        },
        "trusted": true,
        "id": "9GybxXyvCs2X"
      },
      "execution_count": null,
      "outputs": []
    },
    {
      "cell_type": "code",
      "source": [
        "## missing values are filled in by median\n",
        "for df in dfs:\n",
        "    df['Age'] = df['Age'].fillna( df['Age'].median())"
      ],
      "metadata": {
        "execution": {
          "iopub.status.busy": "2024-07-03T16:00:35.191782Z",
          "iopub.execute_input": "2024-07-03T16:00:35.192309Z",
          "iopub.status.idle": "2024-07-03T16:00:35.201234Z",
          "shell.execute_reply.started": "2024-07-03T16:00:35.192253Z",
          "shell.execute_reply": "2024-07-03T16:00:35.199717Z"
        },
        "trusted": true,
        "id": "EkWCB7jyCs2X"
      },
      "execution_count": null,
      "outputs": []
    },
    {
      "cell_type": "markdown",
      "source": [
        "## Other cts features"
      ],
      "metadata": {
        "id": "sDHquf-ICs2X"
      }
    },
    {
      "cell_type": "code",
      "source": [
        "## given that 'RoomService', 'FoodCourt', 'ShoppingMall', 'Spa', 'VRDeck' are mostly zero, that is the value we use to fill\n",
        "df_train.describe()"
      ],
      "metadata": {
        "execution": {
          "iopub.status.busy": "2024-07-03T16:00:35.202896Z",
          "iopub.execute_input": "2024-07-03T16:00:35.203265Z",
          "iopub.status.idle": "2024-07-03T16:00:35.242054Z",
          "shell.execute_reply.started": "2024-07-03T16:00:35.203230Z",
          "shell.execute_reply": "2024-07-03T16:00:35.240789Z"
        },
        "trusted": true,
        "id": "DvaTNWS4Cs2Y"
      },
      "execution_count": null,
      "outputs": []
    },
    {
      "cell_type": "markdown",
      "source": [
        "Most of the continuous data is 0, so filling in the median is equivalent to filling in 0."
      ],
      "metadata": {
        "id": "zBP24dTOCs2Y"
      }
    },
    {
      "cell_type": "code",
      "source": [
        "## given that 'RoomService', 'FoodCourt', 'ShoppingMall', 'Spa', 'VRDeck' are mostly zero, that is the value we use to fill\n",
        "for df in dfs:\n",
        "    for feat in ['RoomService', 'FoodCourt', 'ShoppingMall', 'Spa', 'VRDeck']:\n",
        "        df[feat] = df[feat].fillna( df[feat].median())"
      ],
      "metadata": {
        "execution": {
          "iopub.status.busy": "2024-07-03T16:00:35.243808Z",
          "iopub.execute_input": "2024-07-03T16:00:35.244162Z",
          "iopub.status.idle": "2024-07-03T16:00:35.260301Z",
          "shell.execute_reply.started": "2024-07-03T16:00:35.244129Z",
          "shell.execute_reply": "2024-07-03T16:00:35.259064Z"
        },
        "trusted": true,
        "id": "lONxVPwGCs2Y"
      },
      "execution_count": null,
      "outputs": []
    },
    {
      "cell_type": "code",
      "source": [
        "## check features with missing values\n",
        "for df in dfs:\n",
        "    print(f'{df.name}')\n",
        "    display_missing(df)"
      ],
      "metadata": {
        "execution": {
          "iopub.status.busy": "2024-07-03T16:00:35.262395Z",
          "iopub.execute_input": "2024-07-03T16:00:35.262832Z",
          "iopub.status.idle": "2024-07-03T16:00:35.283589Z",
          "shell.execute_reply.started": "2024-07-03T16:00:35.262791Z",
          "shell.execute_reply": "2024-07-03T16:00:35.282257Z"
        },
        "trusted": true,
        "id": "xhF5s3MfCs2Y"
      },
      "execution_count": null,
      "outputs": []
    },
    {
      "cell_type": "markdown",
      "source": [
        "## Categorical features"
      ],
      "metadata": {
        "id": "fiJx8Xr9Cs2k"
      }
    },
    {
      "cell_type": "code",
      "source": [
        "cat_features"
      ],
      "metadata": {
        "execution": {
          "iopub.status.busy": "2024-07-03T16:00:35.285924Z",
          "iopub.execute_input": "2024-07-03T16:00:35.286537Z",
          "iopub.status.idle": "2024-07-03T16:00:35.300308Z",
          "shell.execute_reply.started": "2024-07-03T16:00:35.286474Z",
          "shell.execute_reply": "2024-07-03T16:00:35.298580Z"
        },
        "trusted": true,
        "id": "bbIcDEA7Cs2k"
      },
      "execution_count": null,
      "outputs": []
    },
    {
      "cell_type": "code",
      "source": [
        "df_train.describe(exclude = [np.number])  ## non numeric"
      ],
      "metadata": {
        "execution": {
          "iopub.status.busy": "2024-07-03T16:00:35.311325Z",
          "iopub.execute_input": "2024-07-03T16:00:35.311801Z",
          "iopub.status.idle": "2024-07-03T16:00:35.358017Z",
          "shell.execute_reply.started": "2024-07-03T16:00:35.311755Z",
          "shell.execute_reply": "2024-07-03T16:00:35.356608Z"
        },
        "trusted": true,
        "id": "KNvnrGYuCs2l"
      },
      "execution_count": null,
      "outputs": []
    },
    {
      "cell_type": "code",
      "source": [
        "for df in dfs:\n",
        "    df['VIP'] = df['VIP'].fillna( df['VIP'].mode()[0])"
      ],
      "metadata": {
        "execution": {
          "iopub.status.busy": "2024-07-03T16:00:35.359383Z",
          "iopub.execute_input": "2024-07-03T16:00:35.359798Z",
          "iopub.status.idle": "2024-07-03T16:00:35.372048Z",
          "shell.execute_reply.started": "2024-07-03T16:00:35.359757Z",
          "shell.execute_reply": "2024-07-03T16:00:35.370373Z"
        },
        "trusted": true,
        "id": "P4bW-zSrCs2l"
      },
      "execution_count": null,
      "outputs": []
    },
    {
      "cell_type": "code",
      "source": [
        "for df in dfs:\n",
        "    print(f'{df.name}')\n",
        "    display_missing(df)"
      ],
      "metadata": {
        "execution": {
          "iopub.status.busy": "2024-07-03T16:00:35.373762Z",
          "iopub.execute_input": "2024-07-03T16:00:35.374319Z",
          "iopub.status.idle": "2024-07-03T16:00:35.397987Z",
          "shell.execute_reply.started": "2024-07-03T16:00:35.374251Z",
          "shell.execute_reply": "2024-07-03T16:00:35.396424Z"
        },
        "trusted": true,
        "id": "hopq2i97Cs2l"
      },
      "execution_count": null,
      "outputs": []
    },
    {
      "cell_type": "code",
      "source": [
        "sns.countplot(data = df_train, x = 'HomePlanet', hue = 'Destination')\n",
        "None"
      ],
      "metadata": {
        "execution": {
          "iopub.status.busy": "2024-07-03T16:00:35.399992Z",
          "iopub.execute_input": "2024-07-03T16:00:35.400906Z",
          "iopub.status.idle": "2024-07-03T16:00:35.715052Z",
          "shell.execute_reply.started": "2024-07-03T16:00:35.400845Z",
          "shell.execute_reply": "2024-07-03T16:00:35.713677Z"
        },
        "trusted": true,
        "id": "vjbzuOo_Cs2m"
      },
      "execution_count": null,
      "outputs": []
    },
    {
      "cell_type": "code",
      "source": [
        "sns.countplot(data = df_train, x = 'HomePlanet', hue = 'CryoSleep')\n",
        "None"
      ],
      "metadata": {
        "execution": {
          "iopub.status.busy": "2024-07-03T16:00:35.716920Z",
          "iopub.execute_input": "2024-07-03T16:00:35.717439Z",
          "iopub.status.idle": "2024-07-03T16:00:36.008181Z",
          "shell.execute_reply.started": "2024-07-03T16:00:35.717381Z",
          "shell.execute_reply": "2024-07-03T16:00:36.006871Z"
        },
        "trusted": true,
        "id": "Cu2aZc5qCs2m"
      },
      "execution_count": null,
      "outputs": []
    },
    {
      "cell_type": "code",
      "source": [
        "sns.countplot(data = df_train, hue = 'CryoSleep', x = 'Destination')\n",
        "None"
      ],
      "metadata": {
        "execution": {
          "iopub.status.busy": "2024-07-03T16:00:36.010269Z",
          "iopub.execute_input": "2024-07-03T16:00:36.010818Z",
          "iopub.status.idle": "2024-07-03T16:00:36.331733Z",
          "shell.execute_reply.started": "2024-07-03T16:00:36.010765Z",
          "shell.execute_reply": "2024-07-03T16:00:36.330313Z"
        },
        "trusted": true,
        "id": "7D1x8yKRCs2m"
      },
      "execution_count": null,
      "outputs": []
    },
    {
      "cell_type": "code",
      "source": [
        "# sns.heatmap(data = df_train, annot = True)"
      ],
      "metadata": {
        "execution": {
          "iopub.status.busy": "2024-07-03T16:00:36.333123Z",
          "iopub.execute_input": "2024-07-03T16:00:36.333472Z",
          "iopub.status.idle": "2024-07-03T16:00:36.339090Z",
          "shell.execute_reply.started": "2024-07-03T16:00:36.333438Z",
          "shell.execute_reply": "2024-07-03T16:00:36.337731Z"
        },
        "trusted": true,
        "id": "C7C5DKDBCs2m"
      },
      "execution_count": null,
      "outputs": []
    },
    {
      "cell_type": "code",
      "source": [
        "df_train.groupby(['HomePlanet', 'Destination']).count()"
      ],
      "metadata": {
        "execution": {
          "iopub.status.busy": "2024-07-03T16:00:36.341034Z",
          "iopub.execute_input": "2024-07-03T16:00:36.341559Z",
          "iopub.status.idle": "2024-07-03T16:00:36.374789Z",
          "shell.execute_reply.started": "2024-07-03T16:00:36.341504Z",
          "shell.execute_reply": "2024-07-03T16:00:36.373538Z"
        },
        "trusted": true,
        "id": "smGKlvkgCs2n"
      },
      "execution_count": null,
      "outputs": []
    },
    {
      "cell_type": "code",
      "source": [
        "df_train.groupby(['HomePlanet', 'Destination']).CryoSleep.count()['Earth']['TRAPPIST-1e']"
      ],
      "metadata": {
        "execution": {
          "iopub.status.busy": "2024-07-03T16:00:36.376079Z",
          "iopub.execute_input": "2024-07-03T16:00:36.376433Z",
          "iopub.status.idle": "2024-07-03T16:00:36.390734Z",
          "shell.execute_reply.started": "2024-07-03T16:00:36.376399Z",
          "shell.execute_reply": "2024-07-03T16:00:36.389119Z"
        },
        "trusted": true,
        "id": "TSHUgVcTCs2n"
      },
      "execution_count": null,
      "outputs": []
    },
    {
      "cell_type": "code",
      "source": [
        "df_train.groupby(['HomePlanet', 'Destination', 'CryoSleep']).count()"
      ],
      "metadata": {
        "execution": {
          "iopub.status.busy": "2024-07-03T16:00:36.392500Z",
          "iopub.execute_input": "2024-07-03T16:00:36.393403Z",
          "iopub.status.idle": "2024-07-03T16:00:36.422226Z",
          "shell.execute_reply.started": "2024-07-03T16:00:36.393344Z",
          "shell.execute_reply": "2024-07-03T16:00:36.420933Z"
        },
        "trusted": true,
        "id": "Y6N5RS4QCs2n"
      },
      "execution_count": null,
      "outputs": []
    },
    {
      "cell_type": "code",
      "source": [
        "df_train.groupby(['HomePlanet', 'CryoSleep', 'Destination']).count()"
      ],
      "metadata": {
        "execution": {
          "iopub.status.busy": "2024-07-03T16:00:36.424235Z",
          "iopub.execute_input": "2024-07-03T16:00:36.424757Z",
          "iopub.status.idle": "2024-07-03T16:00:36.456146Z",
          "shell.execute_reply.started": "2024-07-03T16:00:36.424703Z",
          "shell.execute_reply": "2024-07-03T16:00:36.454701Z"
        },
        "trusted": true,
        "id": "_88YszovCs2o"
      },
      "execution_count": null,
      "outputs": []
    },
    {
      "cell_type": "code",
      "source": [
        "sns.catplot(data = df_train, x = 'HomePlanet', hue = 'Destination', col = 'CryoSleep', kind = 'count')\n",
        "None"
      ],
      "metadata": {
        "execution": {
          "iopub.status.busy": "2024-07-03T16:00:36.457780Z",
          "iopub.execute_input": "2024-07-03T16:00:36.458461Z",
          "iopub.status.idle": "2024-07-03T16:00:37.380284Z",
          "shell.execute_reply.started": "2024-07-03T16:00:36.458416Z",
          "shell.execute_reply": "2024-07-03T16:00:37.377710Z"
        },
        "trusted": true,
        "id": "RdhW_yW3Cs2o"
      },
      "execution_count": null,
      "outputs": []
    },
    {
      "cell_type": "markdown",
      "source": [
        "### Attempt to fill in missing data by percentages later"
      ],
      "metadata": {
        "id": "MLfyaXMZCs2p"
      }
    },
    {
      "cell_type": "code",
      "source": [
        "## make distributions of situations and get percentages"
      ],
      "metadata": {
        "execution": {
          "iopub.status.busy": "2024-11-05T20:43:31.527098Z",
          "iopub.execute_input": "2024-11-05T20:43:31.528174Z",
          "iopub.status.idle": "2024-11-05T20:43:31.533846Z",
          "shell.execute_reply.started": "2024-11-05T20:43:31.528127Z",
          "shell.execute_reply": "2024-11-05T20:43:31.532439Z"
        },
        "trusted": true,
        "id": "47MGHUk1Cs2p"
      },
      "execution_count": null,
      "outputs": []
    },
    {
      "cell_type": "code",
      "source": [
        "df['HomePlanet'].unique()[0:3]"
      ],
      "metadata": {
        "execution": {
          "iopub.status.busy": "2024-07-03T16:00:37.389238Z",
          "iopub.execute_input": "2024-07-03T16:00:37.389601Z",
          "iopub.status.idle": "2024-07-03T16:00:37.403290Z",
          "shell.execute_reply.started": "2024-07-03T16:00:37.389566Z",
          "shell.execute_reply": "2024-07-03T16:00:37.401717Z"
        },
        "trusted": true,
        "id": "sOMxlUN5Cs2q"
      },
      "execution_count": null,
      "outputs": []
    },
    {
      "cell_type": "code",
      "source": [
        "# for df in dfs:\n",
        "#     for home in df['HomePlanet'].unique()[0:3]:\n",
        "#         for destin df['Destination'].unique()[0:3]:\n",
        "#             null_count = df[]"
      ],
      "metadata": {
        "execution": {
          "iopub.status.busy": "2024-07-03T16:00:37.405704Z",
          "iopub.execute_input": "2024-07-03T16:00:37.406234Z",
          "iopub.status.idle": "2024-07-03T16:00:37.412590Z",
          "shell.execute_reply.started": "2024-07-03T16:00:37.406180Z",
          "shell.execute_reply": "2024-07-03T16:00:37.411208Z"
        },
        "trusted": true,
        "id": "sGqdYOtnCs2r"
      },
      "execution_count": null,
      "outputs": []
    },
    {
      "cell_type": "code",
      "source": [
        "df_train.groupby(['HomePlanet', 'Destination']).count()"
      ],
      "metadata": {
        "execution": {
          "iopub.status.busy": "2024-07-03T16:00:37.414975Z",
          "iopub.execute_input": "2024-07-03T16:00:37.415577Z",
          "iopub.status.idle": "2024-07-03T16:00:37.443015Z",
          "shell.execute_reply.started": "2024-07-03T16:00:37.415520Z",
          "shell.execute_reply": "2024-07-03T16:00:37.441717Z"
        },
        "trusted": true,
        "id": "0ZYWnZRuCs2r"
      },
      "execution_count": null,
      "outputs": []
    },
    {
      "cell_type": "code",
      "source": [
        "df_train.loc[(df_train.HomePlanet == 'Earth') & (df_train.Destination == 'TRAPPIST-1e')].CryoSleep"
      ],
      "metadata": {
        "execution": {
          "iopub.status.busy": "2024-07-03T16:00:37.444574Z",
          "iopub.execute_input": "2024-07-03T16:00:37.445060Z",
          "iopub.status.idle": "2024-07-03T16:00:37.462459Z",
          "shell.execute_reply.started": "2024-07-03T16:00:37.445010Z",
          "shell.execute_reply": "2024-07-03T16:00:37.461131Z"
        },
        "trusted": true,
        "id": "tGIHXCKFCs2s"
      },
      "execution_count": null,
      "outputs": []
    },
    {
      "cell_type": "code",
      "source": [
        "df_train.loc[(df_train.HomePlanet == 'Earth') & (df_train.Destination == 'TRAPPIST-1e') & (df_train.CryoSleep == False)]"
      ],
      "metadata": {
        "execution": {
          "iopub.status.busy": "2024-07-03T16:00:37.464015Z",
          "iopub.execute_input": "2024-07-03T16:00:37.464485Z",
          "iopub.status.idle": "2024-07-03T16:00:37.505163Z",
          "shell.execute_reply.started": "2024-07-03T16:00:37.464431Z",
          "shell.execute_reply": "2024-07-03T16:00:37.503834Z"
        },
        "trusted": true,
        "id": "KQT0_OYaCs2s"
      },
      "execution_count": null,
      "outputs": []
    },
    {
      "cell_type": "code",
      "source": [
        "df_train.loc[(df_train.HomePlanet == 'Earth') & (df_train.Destination == 'TRAPPIST-1e') & (df_train.CryoSleep == False)].shape[0]"
      ],
      "metadata": {
        "execution": {
          "iopub.status.busy": "2024-07-03T16:00:37.506829Z",
          "iopub.execute_input": "2024-07-03T16:00:37.507554Z",
          "iopub.status.idle": "2024-07-03T16:00:37.522347Z",
          "shell.execute_reply.started": "2024-07-03T16:00:37.507497Z",
          "shell.execute_reply": "2024-07-03T16:00:37.521032Z"
        },
        "trusted": true,
        "id": "-SF5IUtACs2t"
      },
      "execution_count": null,
      "outputs": []
    },
    {
      "cell_type": "code",
      "source": [
        "df_train.loc[(df_train.HomePlanet == 'Earth') & (df_train.Destination == 'TRAPPIST-1e')].CryoSleep"
      ],
      "metadata": {
        "execution": {
          "iopub.status.busy": "2024-07-03T16:00:37.524598Z",
          "iopub.execute_input": "2024-07-03T16:00:37.525456Z",
          "iopub.status.idle": "2024-07-03T16:00:37.542603Z",
          "shell.execute_reply.started": "2024-07-03T16:00:37.525401Z",
          "shell.execute_reply": "2024-07-03T16:00:37.541086Z"
        },
        "trusted": true,
        "id": "h-ifmpnOCs2t"
      },
      "execution_count": null,
      "outputs": []
    },
    {
      "cell_type": "code",
      "source": [
        "def fill_in(df, Home, Dest, Cryo):\n",
        "    return df.loc[(df.HomePlanet == Home) & (df.Destination == Dest) & (df.CryoSleep == Cryo)].shape[0]"
      ],
      "metadata": {
        "execution": {
          "iopub.status.busy": "2024-07-03T16:00:37.543903Z",
          "iopub.execute_input": "2024-07-03T16:00:37.544251Z",
          "iopub.status.idle": "2024-07-03T16:00:37.551197Z",
          "shell.execute_reply.started": "2024-07-03T16:00:37.544216Z",
          "shell.execute_reply": "2024-07-03T16:00:37.549527Z"
        },
        "trusted": true,
        "id": "8gWyf7INCs2t"
      },
      "execution_count": null,
      "outputs": []
    },
    {
      "cell_type": "code",
      "source": [
        "fill_in(df = df_train, Home = 'Earth', Dest = 'TRAPPIST-1e', Cryo = False)"
      ],
      "metadata": {
        "execution": {
          "iopub.status.busy": "2024-07-03T16:00:37.552987Z",
          "iopub.execute_input": "2024-07-03T16:00:37.553372Z",
          "iopub.status.idle": "2024-07-03T16:00:37.568202Z",
          "shell.execute_reply.started": "2024-07-03T16:00:37.553330Z",
          "shell.execute_reply": "2024-07-03T16:00:37.566738Z"
        },
        "trusted": true,
        "id": "mJd2STKiCs2u"
      },
      "execution_count": null,
      "outputs": []
    },
    {
      "cell_type": "markdown",
      "source": [
        "### Fill in missing data with mode (easier method)"
      ],
      "metadata": {
        "id": "XUp3PdEECs2u"
      }
    },
    {
      "cell_type": "code",
      "source": [
        "for df in dfs:\n",
        "    for feat in ['HomePlanet', 'Destination', 'CryoSleep']:\n",
        "        df[feat] = df[feat].fillna(df[feat].mode()[0])"
      ],
      "metadata": {
        "execution": {
          "iopub.status.busy": "2024-07-03T16:00:37.569914Z",
          "iopub.execute_input": "2024-07-03T16:00:37.570967Z",
          "iopub.status.idle": "2024-07-03T16:00:37.594621Z",
          "shell.execute_reply.started": "2024-07-03T16:00:37.570920Z",
          "shell.execute_reply": "2024-07-03T16:00:37.593309Z"
        },
        "trusted": true,
        "id": "HIRE9DHgCs2v"
      },
      "execution_count": null,
      "outputs": []
    },
    {
      "cell_type": "code",
      "source": [
        "for df in dfs: ## drop features\n",
        "    df.drop(['Name', 'Cabin'], inplace = True, axis=1)"
      ],
      "metadata": {
        "execution": {
          "iopub.status.busy": "2024-07-03T16:00:37.596151Z",
          "iopub.execute_input": "2024-07-03T16:00:37.596579Z",
          "iopub.status.idle": "2024-07-03T16:00:37.606877Z",
          "shell.execute_reply.started": "2024-07-03T16:00:37.596538Z",
          "shell.execute_reply": "2024-07-03T16:00:37.605560Z"
        },
        "trusted": true,
        "id": "rUnCfO1_Cs2v"
      },
      "execution_count": null,
      "outputs": []
    },
    {
      "cell_type": "code",
      "source": [
        "for df in dfs: ## drop features\n",
        "    df.drop(['PassengerId'], inplace = True, axis=1)"
      ],
      "metadata": {
        "execution": {
          "iopub.status.busy": "2024-07-03T16:00:37.609226Z",
          "iopub.execute_input": "2024-07-03T16:00:37.610277Z",
          "iopub.status.idle": "2024-07-03T16:00:37.619781Z",
          "shell.execute_reply.started": "2024-07-03T16:00:37.610220Z",
          "shell.execute_reply": "2024-07-03T16:00:37.618429Z"
        },
        "trusted": true,
        "id": "BDyNm5oaCs2v"
      },
      "execution_count": null,
      "outputs": []
    },
    {
      "cell_type": "code",
      "source": [
        "for df in dfs:\n",
        "    print(f'{df.name}')\n",
        "    display_missing(df)"
      ],
      "metadata": {
        "execution": {
          "iopub.status.busy": "2024-07-03T16:00:37.621707Z",
          "iopub.execute_input": "2024-07-03T16:00:37.622248Z",
          "iopub.status.idle": "2024-07-03T16:00:37.640923Z",
          "shell.execute_reply.started": "2024-07-03T16:00:37.622125Z",
          "shell.execute_reply": "2024-07-03T16:00:37.639467Z"
        },
        "trusted": true,
        "id": "l1iMjwEyCs2v"
      },
      "execution_count": null,
      "outputs": []
    },
    {
      "cell_type": "markdown",
      "source": [
        "## Feature Transformation"
      ],
      "metadata": {
        "id": "ihiIL58uCs2w"
      }
    },
    {
      "cell_type": "code",
      "source": [
        "df_train.head(5)"
      ],
      "metadata": {
        "execution": {
          "iopub.status.busy": "2024-07-03T16:00:37.642468Z",
          "iopub.execute_input": "2024-07-03T16:00:37.643069Z",
          "iopub.status.idle": "2024-07-03T16:00:37.669485Z",
          "shell.execute_reply.started": "2024-07-03T16:00:37.643027Z",
          "shell.execute_reply": "2024-07-03T16:00:37.667910Z"
        },
        "trusted": true,
        "id": "Q1Npw0O3Cs2w"
      },
      "execution_count": null,
      "outputs": []
    },
    {
      "cell_type": "code",
      "source": [
        "cts_features = df_train.describe().columns\n",
        "cts_features"
      ],
      "metadata": {
        "execution": {
          "iopub.status.busy": "2024-07-03T16:00:37.671021Z",
          "iopub.execute_input": "2024-07-03T16:00:37.671412Z",
          "iopub.status.idle": "2024-07-03T16:00:37.701986Z",
          "shell.execute_reply.started": "2024-07-03T16:00:37.671365Z",
          "shell.execute_reply": "2024-07-03T16:00:37.700574Z"
        },
        "trusted": true,
        "id": "Pi_mwMyECs2x"
      },
      "execution_count": null,
      "outputs": []
    },
    {
      "cell_type": "code",
      "source": [
        "cat_features = df_train.drop(['Transported'], axis = 1).describe(exclude = [np.number]).columns\n",
        "cat_features"
      ],
      "metadata": {
        "execution": {
          "iopub.status.busy": "2024-07-03T16:00:37.703541Z",
          "iopub.execute_input": "2024-07-03T16:00:37.704026Z",
          "iopub.status.idle": "2024-07-03T16:00:37.729907Z",
          "shell.execute_reply.started": "2024-07-03T16:00:37.703975Z",
          "shell.execute_reply": "2024-07-03T16:00:37.727921Z"
        },
        "trusted": true,
        "id": "6Fz9XRhkCs2x"
      },
      "execution_count": null,
      "outputs": []
    },
    {
      "cell_type": "code",
      "source": [
        "y_train = df_train['Transported'].values"
      ],
      "metadata": {
        "execution": {
          "iopub.status.busy": "2024-07-03T16:00:37.731966Z",
          "iopub.execute_input": "2024-07-03T16:00:37.732814Z",
          "iopub.status.idle": "2024-07-03T16:00:37.739777Z",
          "shell.execute_reply.started": "2024-07-03T16:00:37.732750Z",
          "shell.execute_reply": "2024-07-03T16:00:37.738100Z"
        },
        "trusted": true,
        "id": "nKhDmY1eCs2x"
      },
      "execution_count": null,
      "outputs": []
    },
    {
      "cell_type": "code",
      "source": [
        "y_train"
      ],
      "metadata": {
        "execution": {
          "iopub.status.busy": "2024-07-03T16:00:37.741698Z",
          "iopub.execute_input": "2024-07-03T16:00:37.742495Z",
          "iopub.status.idle": "2024-07-03T16:00:37.753009Z",
          "shell.execute_reply.started": "2024-07-03T16:00:37.742431Z",
          "shell.execute_reply": "2024-07-03T16:00:37.751415Z"
        },
        "trusted": true,
        "id": "GC_ioevBCs2y"
      },
      "execution_count": null,
      "outputs": []
    },
    {
      "cell_type": "code",
      "source": [
        "# X_train = df_train.drop(['Transported'], axis=1)\n",
        "# X_test = df_test.copy()"
      ],
      "metadata": {
        "execution": {
          "iopub.status.busy": "2024-07-03T16:00:37.755442Z",
          "iopub.execute_input": "2024-07-03T16:00:37.756353Z",
          "iopub.status.idle": "2024-07-03T16:00:37.763343Z",
          "shell.execute_reply.started": "2024-07-03T16:00:37.756291Z",
          "shell.execute_reply": "2024-07-03T16:00:37.761997Z"
        },
        "trusted": true,
        "id": "J-p6n43lCs2y"
      },
      "execution_count": null,
      "outputs": []
    },
    {
      "cell_type": "code",
      "source": [
        "# ct = ColumnTransformer(\n",
        "#     [(\"scaling\", StandardScaler(), cts_features),\n",
        "#      (\"onehot\", OneHotEncoder(), cat_features)])\n",
        "ct = ColumnTransformer(\n",
        "    [(\"scaling\", MinMaxScaler(), cts_features),\n",
        "     (\"onehot\", OneHotEncoder(), cat_features)])"
      ],
      "metadata": {
        "execution": {
          "iopub.status.busy": "2024-07-03T16:00:37.765121Z",
          "iopub.execute_input": "2024-07-03T16:00:37.765515Z",
          "iopub.status.idle": "2024-07-03T16:00:37.773114Z",
          "shell.execute_reply.started": "2024-07-03T16:00:37.765467Z",
          "shell.execute_reply": "2024-07-03T16:00:37.771854Z"
        },
        "trusted": true,
        "id": "knggYG6hCs2y"
      },
      "execution_count": null,
      "outputs": []
    },
    {
      "cell_type": "code",
      "source": [
        "X_train = ct.fit_transform(df_train.drop(['Transported'], axis=1))"
      ],
      "metadata": {
        "execution": {
          "iopub.status.busy": "2024-07-03T16:00:37.775009Z",
          "iopub.execute_input": "2024-07-03T16:00:37.775478Z",
          "iopub.status.idle": "2024-07-03T16:00:37.810116Z",
          "shell.execute_reply.started": "2024-07-03T16:00:37.775434Z",
          "shell.execute_reply": "2024-07-03T16:00:37.808557Z"
        },
        "trusted": true,
        "id": "iL6BcLKlCs20"
      },
      "execution_count": null,
      "outputs": []
    },
    {
      "cell_type": "code",
      "source": [
        "ct.get_feature_names_out()"
      ],
      "metadata": {
        "execution": {
          "iopub.status.busy": "2024-07-03T16:00:37.811732Z",
          "iopub.execute_input": "2024-07-03T16:00:37.812202Z",
          "iopub.status.idle": "2024-07-03T16:00:37.821015Z",
          "shell.execute_reply.started": "2024-07-03T16:00:37.812158Z",
          "shell.execute_reply": "2024-07-03T16:00:37.819731Z"
        },
        "trusted": true,
        "id": "YY8D38OlCs20"
      },
      "execution_count": null,
      "outputs": []
    },
    {
      "cell_type": "code",
      "source": [
        "X_train"
      ],
      "metadata": {
        "execution": {
          "iopub.status.busy": "2024-07-03T16:00:37.822788Z",
          "iopub.execute_input": "2024-07-03T16:00:37.823574Z",
          "iopub.status.idle": "2024-07-03T16:00:37.835045Z",
          "shell.execute_reply.started": "2024-07-03T16:00:37.823520Z",
          "shell.execute_reply": "2024-07-03T16:00:37.833604Z"
        },
        "trusted": true,
        "id": "AV3akHCiCs21"
      },
      "execution_count": null,
      "outputs": []
    },
    {
      "cell_type": "code",
      "source": [
        "X_train"
      ],
      "metadata": {
        "execution": {
          "iopub.status.busy": "2024-07-03T16:00:37.836798Z",
          "iopub.execute_input": "2024-07-03T16:00:37.837649Z",
          "iopub.status.idle": "2024-07-03T16:00:37.847331Z",
          "shell.execute_reply.started": "2024-07-03T16:00:37.837573Z",
          "shell.execute_reply": "2024-07-03T16:00:37.845947Z"
        },
        "trusted": true,
        "id": "ZrSs3IGnCs21"
      },
      "execution_count": null,
      "outputs": []
    },
    {
      "cell_type": "code",
      "source": [
        "X_test = ct.transform(df_test)"
      ],
      "metadata": {
        "execution": {
          "iopub.status.busy": "2024-07-03T16:00:37.848971Z",
          "iopub.execute_input": "2024-07-03T16:00:37.849428Z",
          "iopub.status.idle": "2024-07-03T16:00:37.867932Z",
          "shell.execute_reply.started": "2024-07-03T16:00:37.849381Z",
          "shell.execute_reply": "2024-07-03T16:00:37.866682Z"
        },
        "trusted": true,
        "id": "atNYEFDGCs21"
      },
      "execution_count": null,
      "outputs": []
    },
    {
      "cell_type": "code",
      "source": [
        "X_test"
      ],
      "metadata": {
        "execution": {
          "iopub.status.busy": "2024-07-03T16:00:37.870068Z",
          "iopub.execute_input": "2024-07-03T16:00:37.870721Z",
          "iopub.status.idle": "2024-07-03T16:00:37.881034Z",
          "shell.execute_reply.started": "2024-07-03T16:00:37.870663Z",
          "shell.execute_reply": "2024-07-03T16:00:37.879365Z"
        },
        "trusted": true,
        "id": "9LmCXFktCs22"
      },
      "execution_count": null,
      "outputs": []
    },
    {
      "cell_type": "code",
      "source": [
        "X_train[0,:]"
      ],
      "metadata": {
        "execution": {
          "iopub.status.busy": "2024-07-03T16:00:37.882806Z",
          "iopub.execute_input": "2024-07-03T16:00:37.884033Z",
          "iopub.status.idle": "2024-07-03T16:00:37.898126Z",
          "shell.execute_reply.started": "2024-07-03T16:00:37.883979Z",
          "shell.execute_reply": "2024-07-03T16:00:37.896681Z"
        },
        "trusted": true,
        "id": "oanLxMzDCs22"
      },
      "execution_count": null,
      "outputs": []
    },
    {
      "cell_type": "code",
      "source": [
        "X_train[:,1]"
      ],
      "metadata": {
        "execution": {
          "iopub.status.busy": "2024-07-03T16:00:37.900041Z",
          "iopub.execute_input": "2024-07-03T16:00:37.900928Z",
          "iopub.status.idle": "2024-07-03T16:00:37.910198Z",
          "shell.execute_reply.started": "2024-07-03T16:00:37.900872Z",
          "shell.execute_reply": "2024-07-03T16:00:37.908656Z"
        },
        "trusted": true,
        "id": "dKWvWhg8Cs23"
      },
      "execution_count": null,
      "outputs": []
    },
    {
      "cell_type": "markdown",
      "source": [
        "## Modeling"
      ],
      "metadata": {
        "id": "0_BU-p5FCs23"
      }
    },
    {
      "cell_type": "code",
      "source": [
        "import time"
      ],
      "metadata": {
        "execution": {
          "iopub.status.busy": "2024-07-03T16:00:37.911980Z",
          "iopub.execute_input": "2024-07-03T16:00:37.912458Z",
          "iopub.status.idle": "2024-07-03T16:00:37.918548Z",
          "shell.execute_reply.started": "2024-07-03T16:00:37.912408Z",
          "shell.execute_reply": "2024-07-03T16:00:37.916990Z"
        },
        "trusted": true,
        "id": "CurDlE5uCs24"
      },
      "execution_count": null,
      "outputs": []
    },
    {
      "cell_type": "code",
      "source": [
        "# tic = time.perf_counter()\n",
        "# toc = time.perf_counter()\n",
        "# print((\"Elapsed time: %.2f [sec]\" % ((toc-tic))))\n",
        "# print((\"Elapsed time: %.2f [min]\" % ((toc-tic)/60)))"
      ],
      "metadata": {
        "execution": {
          "iopub.status.busy": "2024-07-03T16:00:37.919711Z",
          "iopub.execute_input": "2024-07-03T16:00:37.920100Z",
          "iopub.status.idle": "2024-07-03T16:00:37.930638Z",
          "shell.execute_reply.started": "2024-07-03T16:00:37.920062Z",
          "shell.execute_reply": "2024-07-03T16:00:37.928957Z"
        },
        "trusted": true,
        "id": "R3qxperrCs24"
      },
      "execution_count": null,
      "outputs": []
    },
    {
      "cell_type": "code",
      "source": [
        "from sklearn.metrics import r2_score\n",
        "from sklearn.model_selection import GridSearchCV, RandomizedSearchCV\n",
        "from sklearn.inspection import permutation_importance\n",
        "# machine learning\n",
        "from sklearn.linear_model import LogisticRegression\n",
        "from sklearn.svm import SVC, LinearSVC\n",
        "from sklearn.neighbors import KNeighborsClassifier\n",
        "from sklearn.naive_bayes import GaussianNB\n",
        "# from sklearn.linear_model import Perceptron\n",
        "from sklearn.linear_model import SGDClassifier\n",
        "from sklearn.tree import DecisionTreeClassifier\n",
        "\n",
        "from sklearn.neural_network import MLPClassifier\n",
        "from sklearn.model_selection import KFold\n",
        "from sklearn.ensemble import (RandomForestClassifier, AdaBoostClassifier, GradientBoostingClassifier, BaggingClassifier,\n",
        "                              HistGradientBoostingClassifier, ExtraTreesClassifier, VotingClassifier, StackingClassifier)\n",
        "import xgboost as xgb"
      ],
      "metadata": {
        "execution": {
          "iopub.status.busy": "2024-07-03T16:00:37.932687Z",
          "iopub.execute_input": "2024-07-03T16:00:37.933388Z",
          "iopub.status.idle": "2024-07-03T16:00:38.080493Z",
          "shell.execute_reply.started": "2024-07-03T16:00:37.933248Z",
          "shell.execute_reply": "2024-07-03T16:00:38.078754Z"
        },
        "trusted": true,
        "id": "dQ1iGGeoCs24"
      },
      "execution_count": null,
      "outputs": []
    },
    {
      "cell_type": "markdown",
      "source": [
        "### Voting"
      ],
      "metadata": {
        "id": "eJrJx5u8Cs25"
      }
    },
    {
      "cell_type": "code",
      "source": [
        "# # estimators_voting = [('lr', LogisticRegression()),('dt', DecisionTreeClassifier()), ('svc', SVC()), ('lsvc', LinearSVC()),\n",
        "# #                      ('knn', KNeighborsClassifier()), ('gnb', GaussianNB()), ('sgd', SGDClassifier())]\n",
        "\n",
        "# estimators_voting = [('lr', LogisticRegression()),('dt', DecisionTreeClassifier()), ('knn', KNeighborsClassifier())]\n",
        "# parameters = {'lr': {'C': [1,10,100]}, 'dt':{'max_depth': [3, 6, 9, 12]}, 'knn':{'n_neighbors': [5,25,50,100]} }"
      ],
      "metadata": {
        "execution": {
          "iopub.status.busy": "2024-07-03T13:57:57.237236Z",
          "iopub.execute_input": "2024-07-03T13:57:57.237759Z",
          "iopub.status.idle": "2024-07-03T13:57:57.244797Z",
          "shell.execute_reply.started": "2024-07-03T13:57:57.237690Z",
          "shell.execute_reply": "2024-07-03T13:57:57.243166Z"
        },
        "trusted": true,
        "id": "rHbJEHGiCs25"
      },
      "execution_count": null,
      "outputs": []
    },
    {
      "cell_type": "code",
      "source": [
        "# estimators_voting_para = [0]*len(estimators_voting)\n",
        "# for i, (name, clf) in enumerate(estimators_voting):\n",
        "#     clf_search = RandomizedSearchCV(clf, parameters[name], cv = 5).fit(X_train, y_train)\n",
        "#     estimators_voting_para[i] = (name, clf_search.best_estimator_)"
      ],
      "metadata": {
        "execution": {
          "iopub.status.busy": "2024-07-03T13:57:57.246714Z",
          "iopub.execute_input": "2024-07-03T13:57:57.247201Z",
          "iopub.status.idle": "2024-07-03T13:57:57.258886Z",
          "shell.execute_reply.started": "2024-07-03T13:57:57.247147Z",
          "shell.execute_reply": "2024-07-03T13:57:57.257513Z"
        },
        "trusted": true,
        "id": "DzUVVC5bCs25"
      },
      "execution_count": null,
      "outputs": []
    },
    {
      "cell_type": "code",
      "source": [
        "# estimators_voting_para"
      ],
      "metadata": {
        "execution": {
          "iopub.status.busy": "2024-07-03T13:57:57.260600Z",
          "iopub.execute_input": "2024-07-03T13:57:57.261107Z",
          "iopub.status.idle": "2024-07-03T13:57:57.272561Z",
          "shell.execute_reply.started": "2024-07-03T13:57:57.261049Z",
          "shell.execute_reply": "2024-07-03T13:57:57.271154Z"
        },
        "trusted": true,
        "id": "gPiwWu-_Cs26"
      },
      "execution_count": null,
      "outputs": []
    },
    {
      "cell_type": "code",
      "source": [
        "# clf_voting = VotingClassifier(estimators = estimators_voting_para)"
      ],
      "metadata": {
        "execution": {
          "iopub.status.busy": "2024-07-03T13:57:57.274543Z",
          "iopub.execute_input": "2024-07-03T13:57:57.275519Z",
          "iopub.status.idle": "2024-07-03T13:57:57.286619Z",
          "shell.execute_reply.started": "2024-07-03T13:57:57.275456Z",
          "shell.execute_reply": "2024-07-03T13:57:57.285221Z"
        },
        "trusted": true,
        "id": "9ohzffc3Cs26"
      },
      "execution_count": null,
      "outputs": []
    },
    {
      "cell_type": "code",
      "source": [
        "# clf_voting.fit(X_train, y_train)"
      ],
      "metadata": {
        "execution": {
          "iopub.status.busy": "2024-07-03T13:57:57.288309Z",
          "iopub.execute_input": "2024-07-03T13:57:57.288937Z",
          "iopub.status.idle": "2024-07-03T13:57:57.299189Z",
          "shell.execute_reply.started": "2024-07-03T13:57:57.288883Z",
          "shell.execute_reply": "2024-07-03T13:57:57.297892Z"
        },
        "trusted": true,
        "id": "WCvsHDT4Cs26"
      },
      "execution_count": null,
      "outputs": []
    },
    {
      "cell_type": "code",
      "source": [
        "# pred_voting = clf_voting.predict(X_test)"
      ],
      "metadata": {
        "execution": {
          "iopub.status.busy": "2024-07-03T13:57:57.301373Z",
          "iopub.execute_input": "2024-07-03T13:57:57.301877Z",
          "iopub.status.idle": "2024-07-03T13:57:57.311509Z",
          "shell.execute_reply.started": "2024-07-03T13:57:57.301827Z",
          "shell.execute_reply": "2024-07-03T13:57:57.309978Z"
        },
        "trusted": true,
        "id": "6AWLwa7VCs26"
      },
      "execution_count": null,
      "outputs": []
    },
    {
      "cell_type": "code",
      "source": [
        "# clf_voting.score(X_train, y_train)"
      ],
      "metadata": {
        "execution": {
          "iopub.status.busy": "2024-07-03T13:57:57.316112Z",
          "iopub.execute_input": "2024-07-03T13:57:57.316525Z",
          "iopub.status.idle": "2024-07-03T13:57:57.325838Z",
          "shell.execute_reply.started": "2024-07-03T13:57:57.316475Z",
          "shell.execute_reply": "2024-07-03T13:57:57.324100Z"
        },
        "trusted": true,
        "id": "Lu0m__aUCs27"
      },
      "execution_count": null,
      "outputs": []
    },
    {
      "cell_type": "code",
      "source": [],
      "metadata": {
        "trusted": true,
        "id": "aVaCbzhWCs27"
      },
      "execution_count": null,
      "outputs": []
    },
    {
      "cell_type": "markdown",
      "source": [
        "### Stacking"
      ],
      "metadata": {
        "id": "anFMhTubCs27"
      }
    },
    {
      "cell_type": "code",
      "source": [
        "estimators_stacking = [('rf', RandomForestClassifier()), ('ada', AdaBoostClassifier()), ('gb', HistGradientBoostingClassifier()),\n",
        "                      ('et', ExtraTreesClassifier()), ('lr', LogisticRegression()),('dt', DecisionTreeClassifier()),\n",
        "                       ('knn', KNeighborsClassifier()), ('xgboost', xgb.XGBClassifier()), ('MLP', MLPClassifier())\n",
        "                      ]"
      ],
      "metadata": {
        "execution": {
          "iopub.status.busy": "2024-07-03T16:09:49.929456Z",
          "iopub.execute_input": "2024-07-03T16:09:49.930620Z",
          "iopub.status.idle": "2024-07-03T16:09:49.937212Z",
          "shell.execute_reply.started": "2024-07-03T16:09:49.930569Z",
          "shell.execute_reply": "2024-07-03T16:09:49.935812Z"
        },
        "trusted": true,
        "id": "mUzcXs8MCs27"
      },
      "execution_count": null,
      "outputs": []
    },
    {
      "cell_type": "code",
      "source": [
        "parameters = {'rf': {'n_estimators': [100,250,500], 'max_depth':[3,6,9,12]}, 'ada':{'n_estimators': [100,250,500], 'learning_rate': [1, 0,75]},\n",
        "              'gb':{'max_iter':[100, 150, 200]}, 'et' :{'n_estimators': [100,250,500], 'max_depth':[3,6,9,12]},\n",
        "             'lr': {'C': [1,10,100]}, 'dt':{'max_depth': [3, 6, 9, 12]}, 'knn':{'n_neighbors': [5,25,50,100]},\n",
        "             'xgboost':{'n_estimators':[100,250,500]}, 'MLP':{'hidden_layer_sizes':[(100,100,100)]}    }"
      ],
      "metadata": {
        "execution": {
          "iopub.status.busy": "2024-07-03T16:09:50.134598Z",
          "iopub.execute_input": "2024-07-03T16:09:50.135515Z",
          "iopub.status.idle": "2024-07-03T16:09:50.144260Z",
          "shell.execute_reply.started": "2024-07-03T16:09:50.135454Z",
          "shell.execute_reply": "2024-07-03T16:09:50.142560Z"
        },
        "trusted": true,
        "id": "LvNz00s0Cs28"
      },
      "execution_count": null,
      "outputs": []
    },
    {
      "cell_type": "code",
      "source": [
        "estimators_stacking_para = [0]*len(estimators_stacking)\n",
        "for i, (name, clf) in enumerate(estimators_stacking):\n",
        "    if name != 'v':\n",
        "        clf_search = RandomizedSearchCV(clf, parameters[name], cv = 5).fit(X_train, y_train)\n",
        "        estimators_stacking_para[i] = (name, clf_search.best_estimator_)\n",
        "    else:\n",
        "        estimators_stacking_para[i] = estimators_stacking[i]"
      ],
      "metadata": {
        "execution": {
          "iopub.status.busy": "2024-07-03T16:09:50.847218Z",
          "iopub.execute_input": "2024-07-03T16:09:50.847683Z",
          "iopub.status.idle": "2024-07-03T16:14:37.149281Z",
          "shell.execute_reply.started": "2024-07-03T16:09:50.847640Z",
          "shell.execute_reply": "2024-07-03T16:14:37.147596Z"
        },
        "trusted": true,
        "id": "n-PvkM-RCs28"
      },
      "execution_count": null,
      "outputs": []
    },
    {
      "cell_type": "code",
      "source": [
        "clf_stacking = StackingClassifier(estimators = estimators_stacking_para, final_estimator = None, cv = 5)"
      ],
      "metadata": {
        "execution": {
          "iopub.status.busy": "2024-07-03T16:14:37.152095Z",
          "iopub.execute_input": "2024-07-03T16:14:37.152988Z",
          "iopub.status.idle": "2024-07-03T16:14:37.160377Z",
          "shell.execute_reply.started": "2024-07-03T16:14:37.152929Z",
          "shell.execute_reply": "2024-07-03T16:14:37.158894Z"
        },
        "trusted": true,
        "id": "agEdmnf0Cs28"
      },
      "execution_count": null,
      "outputs": []
    },
    {
      "cell_type": "code",
      "source": [
        "clf_stacking.fit(X_train, y_train)"
      ],
      "metadata": {
        "execution": {
          "iopub.status.busy": "2024-07-03T16:14:37.162607Z",
          "iopub.execute_input": "2024-07-03T16:14:37.163611Z",
          "iopub.status.idle": "2024-07-03T16:16:26.660576Z",
          "shell.execute_reply.started": "2024-07-03T16:14:37.163540Z",
          "shell.execute_reply": "2024-07-03T16:16:26.658998Z"
        },
        "trusted": true,
        "id": "lQiBwhQFCs29"
      },
      "execution_count": null,
      "outputs": []
    },
    {
      "cell_type": "code",
      "source": [
        "clf_stacking.score(X_train, y_train)"
      ],
      "metadata": {
        "execution": {
          "iopub.status.busy": "2024-07-03T16:16:26.664712Z",
          "iopub.execute_input": "2024-07-03T16:16:26.665891Z",
          "iopub.status.idle": "2024-07-03T16:16:28.927847Z",
          "shell.execute_reply.started": "2024-07-03T16:16:26.665823Z",
          "shell.execute_reply": "2024-07-03T16:16:28.926182Z"
        },
        "trusted": true,
        "id": "gfIGzgMvCs29"
      },
      "execution_count": null,
      "outputs": []
    },
    {
      "cell_type": "code",
      "source": [
        "clf_stacking.predict_proba(X_train)"
      ],
      "metadata": {
        "execution": {
          "iopub.status.busy": "2024-07-03T16:16:28.931203Z",
          "iopub.execute_input": "2024-07-03T16:16:28.932498Z",
          "iopub.status.idle": "2024-07-03T16:16:31.134063Z",
          "shell.execute_reply.started": "2024-07-03T16:16:28.932422Z",
          "shell.execute_reply": "2024-07-03T16:16:31.132688Z"
        },
        "trusted": true,
        "id": "z6dRGStbCs2-"
      },
      "execution_count": null,
      "outputs": []
    },
    {
      "cell_type": "code",
      "source": [
        "pred_stacking = clf_stacking.predict(X_test)"
      ],
      "metadata": {
        "execution": {
          "iopub.status.busy": "2024-07-03T16:16:31.136422Z",
          "iopub.execute_input": "2024-07-03T16:16:31.137496Z",
          "iopub.status.idle": "2024-07-03T16:16:32.159075Z",
          "shell.execute_reply.started": "2024-07-03T16:16:31.137433Z",
          "shell.execute_reply": "2024-07-03T16:16:32.157702Z"
        },
        "trusted": true,
        "id": "JzbyVII-Cs2_"
      },
      "execution_count": null,
      "outputs": []
    },
    {
      "cell_type": "markdown",
      "source": [
        "# Explainability"
      ],
      "metadata": {
        "id": "exml5Y1FCs2_"
      }
    },
    {
      "cell_type": "code",
      "source": [
        "X_train.shape"
      ],
      "metadata": {
        "execution": {
          "iopub.status.busy": "2024-07-03T16:16:32.161476Z",
          "iopub.execute_input": "2024-07-03T16:16:32.162509Z",
          "iopub.status.idle": "2024-07-03T16:16:32.170543Z",
          "shell.execute_reply.started": "2024-07-03T16:16:32.162449Z",
          "shell.execute_reply": "2024-07-03T16:16:32.168760Z"
        },
        "trusted": true,
        "id": "BQMs_xOsCs2_"
      },
      "execution_count": null,
      "outputs": []
    },
    {
      "cell_type": "code",
      "source": [
        "importance_stacking = permutation_importance(estimator = clf_stacking, X = X_train[0:2000], y = y_train[0:2000], n_repeats = 5)"
      ],
      "metadata": {
        "execution": {
          "iopub.status.busy": "2024-07-03T16:16:32.172717Z",
          "iopub.execute_input": "2024-07-03T16:16:32.173220Z",
          "iopub.status.idle": "2024-07-03T16:17:18.371177Z",
          "shell.execute_reply.started": "2024-07-03T16:16:32.173172Z",
          "shell.execute_reply": "2024-07-03T16:17:18.369591Z"
        },
        "trusted": true,
        "id": "OMgjZPAVCs3A"
      },
      "execution_count": null,
      "outputs": []
    },
    {
      "cell_type": "code",
      "source": [
        "importance_stacking"
      ],
      "metadata": {
        "execution": {
          "iopub.status.busy": "2024-07-03T16:17:18.372993Z",
          "iopub.execute_input": "2024-07-03T16:17:18.373482Z",
          "iopub.status.idle": "2024-07-03T16:17:18.395893Z",
          "shell.execute_reply.started": "2024-07-03T16:17:18.373435Z",
          "shell.execute_reply": "2024-07-03T16:17:18.394425Z"
        },
        "trusted": true,
        "id": "xmxtirbOCs3A"
      },
      "execution_count": null,
      "outputs": []
    },
    {
      "cell_type": "code",
      "source": [
        "importance_stacking.importances_mean"
      ],
      "metadata": {
        "execution": {
          "iopub.status.busy": "2024-07-03T16:17:18.401386Z",
          "iopub.execute_input": "2024-07-03T16:17:18.402326Z",
          "iopub.status.idle": "2024-07-03T16:17:18.413105Z",
          "shell.execute_reply.started": "2024-07-03T16:17:18.402253Z",
          "shell.execute_reply": "2024-07-03T16:17:18.411123Z"
        },
        "trusted": true,
        "id": "UEEfHTguCs3A"
      },
      "execution_count": null,
      "outputs": []
    },
    {
      "cell_type": "code",
      "source": [
        "importance_stacking.importances_std"
      ],
      "metadata": {
        "execution": {
          "iopub.status.busy": "2024-07-03T16:17:18.415524Z",
          "iopub.execute_input": "2024-07-03T16:17:18.416794Z",
          "iopub.status.idle": "2024-07-03T16:17:18.426603Z",
          "shell.execute_reply.started": "2024-07-03T16:17:18.416735Z",
          "shell.execute_reply": "2024-07-03T16:17:18.424902Z"
        },
        "trusted": true,
        "id": "boXjdSWBCs3A"
      },
      "execution_count": null,
      "outputs": []
    },
    {
      "cell_type": "code",
      "source": [
        "ct.get_feature_names_out()"
      ],
      "metadata": {
        "execution": {
          "iopub.status.busy": "2024-07-03T16:17:18.429092Z",
          "iopub.execute_input": "2024-07-03T16:17:18.430066Z",
          "iopub.status.idle": "2024-07-03T16:17:18.440320Z",
          "shell.execute_reply.started": "2024-07-03T16:17:18.430010Z",
          "shell.execute_reply": "2024-07-03T16:17:18.438603Z"
        },
        "trusted": true,
        "id": "QXQtbInlCs3B"
      },
      "execution_count": null,
      "outputs": []
    },
    {
      "cell_type": "code",
      "source": [
        "plt.barh(ct.get_feature_names_out(), importance_stacking.importances_mean, xerr = importance_stacking.importances_std)\n",
        "# plt.xticks(rotation='vertical')\n",
        "None"
      ],
      "metadata": {
        "execution": {
          "iopub.status.busy": "2024-07-03T16:17:18.442688Z",
          "iopub.execute_input": "2024-07-03T16:17:18.443909Z",
          "iopub.status.idle": "2024-07-03T16:17:18.845203Z",
          "shell.execute_reply.started": "2024-07-03T16:17:18.443854Z",
          "shell.execute_reply": "2024-07-03T16:17:18.843945Z"
        },
        "trusted": true,
        "id": "lwAHC16zCs3B"
      },
      "execution_count": null,
      "outputs": []
    },
    {
      "cell_type": "code",
      "source": [
        "# pred_stacking = clf_stacking.predict(X_test)"
      ],
      "metadata": {
        "execution": {
          "iopub.status.busy": "2024-07-03T16:17:18.846958Z",
          "iopub.execute_input": "2024-07-03T16:17:18.847454Z",
          "iopub.status.idle": "2024-07-03T16:17:18.853136Z",
          "shell.execute_reply.started": "2024-07-03T16:17:18.847399Z",
          "shell.execute_reply": "2024-07-03T16:17:18.851873Z"
        },
        "trusted": true,
        "id": "YOy3n2yxCs3B"
      },
      "execution_count": null,
      "outputs": []
    },
    {
      "cell_type": "code",
      "source": [
        "from sklearn.inspection import PartialDependenceDisplay"
      ],
      "metadata": {
        "execution": {
          "iopub.status.busy": "2024-07-03T16:17:18.854718Z",
          "iopub.execute_input": "2024-07-03T16:17:18.855176Z",
          "iopub.status.idle": "2024-07-03T16:17:18.864732Z",
          "shell.execute_reply.started": "2024-07-03T16:17:18.855127Z",
          "shell.execute_reply": "2024-07-03T16:17:18.863450Z"
        },
        "trusted": true,
        "id": "rCEXOVd8Cs3B"
      },
      "execution_count": null,
      "outputs": []
    },
    {
      "cell_type": "code",
      "source": [
        "X_train_df = pd.DataFrame(X_train, columns = ct.get_feature_names_out())"
      ],
      "metadata": {
        "execution": {
          "iopub.status.busy": "2024-07-03T16:17:18.866073Z",
          "iopub.execute_input": "2024-07-03T16:17:18.866456Z",
          "iopub.status.idle": "2024-07-03T16:17:18.881611Z",
          "shell.execute_reply.started": "2024-07-03T16:17:18.866410Z",
          "shell.execute_reply": "2024-07-03T16:17:18.880453Z"
        },
        "trusted": true,
        "id": "bAYSRo8zCs3C"
      },
      "execution_count": null,
      "outputs": []
    },
    {
      "cell_type": "code",
      "source": [
        "X_train_df"
      ],
      "metadata": {
        "execution": {
          "iopub.status.busy": "2024-07-03T16:17:18.883417Z",
          "iopub.execute_input": "2024-07-03T16:17:18.884283Z",
          "iopub.status.idle": "2024-07-03T16:17:18.921132Z",
          "shell.execute_reply.started": "2024-07-03T16:17:18.884225Z",
          "shell.execute_reply": "2024-07-03T16:17:18.919676Z"
        },
        "trusted": true,
        "id": "R3zU2AVxCs3C"
      },
      "execution_count": null,
      "outputs": []
    },
    {
      "cell_type": "code",
      "source": [
        "feature_dependence = 'scaling__Spa'\n",
        "disp1 = PartialDependenceDisplay.from_estimator(clf_stacking, X_train_df.iloc[0:2000], [feature_dependence])\n",
        "plt.show()"
      ],
      "metadata": {
        "execution": {
          "iopub.status.busy": "2024-07-03T16:17:18.922647Z",
          "iopub.execute_input": "2024-07-03T16:17:18.923027Z",
          "iopub.status.idle": "2024-07-03T16:18:17.844929Z",
          "shell.execute_reply.started": "2024-07-03T16:17:18.922989Z",
          "shell.execute_reply": "2024-07-03T16:18:17.843667Z"
        },
        "trusted": true,
        "id": "P27Z8xYgCs3C"
      },
      "execution_count": null,
      "outputs": []
    },
    {
      "cell_type": "code",
      "source": [
        "# clf_stacking.predict_proba(X_train)"
      ],
      "metadata": {
        "execution": {
          "iopub.status.busy": "2024-07-03T16:18:17.846900Z",
          "iopub.execute_input": "2024-07-03T16:18:17.847429Z",
          "iopub.status.idle": "2024-07-03T16:18:17.853533Z",
          "shell.execute_reply.started": "2024-07-03T16:18:17.847367Z",
          "shell.execute_reply": "2024-07-03T16:18:17.852139Z"
        },
        "trusted": true,
        "id": "KQSAFo95Cs3D"
      },
      "execution_count": null,
      "outputs": []
    },
    {
      "cell_type": "code",
      "source": [
        "pip install shap"
      ],
      "metadata": {
        "execution": {
          "iopub.status.busy": "2024-07-03T16:03:17.940474Z",
          "iopub.execute_input": "2024-07-03T16:03:17.941026Z",
          "iopub.status.idle": "2024-07-03T16:03:33.292829Z",
          "shell.execute_reply.started": "2024-07-03T16:03:17.940981Z",
          "shell.execute_reply": "2024-07-03T16:03:33.289594Z"
        },
        "trusted": true,
        "id": "vvA_6kVVCs3D"
      },
      "execution_count": null,
      "outputs": []
    },
    {
      "cell_type": "code",
      "source": [
        "import shap"
      ],
      "metadata": {
        "execution": {
          "iopub.status.busy": "2024-07-03T16:03:33.296410Z",
          "iopub.execute_input": "2024-07-03T16:03:33.296948Z",
          "iopub.status.idle": "2024-07-03T16:03:38.645136Z",
          "shell.execute_reply.started": "2024-07-03T16:03:33.296903Z",
          "shell.execute_reply": "2024-07-03T16:03:38.643541Z"
        },
        "trusted": true,
        "id": "UFD4sW7LCs3D"
      },
      "execution_count": null,
      "outputs": []
    },
    {
      "cell_type": "code",
      "source": [
        "# {'xgboost':{'n_estimators':[100,250,500]}}\n",
        "# ('xgboost', xgb.XGBClassifier())"
      ],
      "metadata": {
        "execution": {
          "iopub.status.busy": "2024-07-03T16:03:38.647531Z",
          "iopub.execute_input": "2024-07-03T16:03:38.648779Z",
          "iopub.status.idle": "2024-07-03T16:03:38.656491Z",
          "shell.execute_reply.started": "2024-07-03T16:03:38.648708Z",
          "shell.execute_reply": "2024-07-03T16:03:38.654497Z"
        },
        "trusted": true,
        "id": "Wv2vgohrCs3D"
      },
      "execution_count": null,
      "outputs": []
    },
    {
      "cell_type": "code",
      "source": [
        "clf_search = RandomizedSearchCV(xgb.XGBClassifier(), {'n_estimators':[100,250,500]}, cv = 5).fit(X_train, y_train)\n",
        "XGBoost_clf = clf_search.best_estimator_"
      ],
      "metadata": {
        "execution": {
          "iopub.status.busy": "2024-07-03T16:03:38.660701Z",
          "iopub.execute_input": "2024-07-03T16:03:38.662795Z",
          "iopub.status.idle": "2024-07-03T16:04:18.721097Z",
          "shell.execute_reply.started": "2024-07-03T16:03:38.662724Z",
          "shell.execute_reply": "2024-07-03T16:04:18.718356Z"
        },
        "trusted": true,
        "id": "EVwmAQSnCs3E"
      },
      "execution_count": null,
      "outputs": []
    },
    {
      "cell_type": "code",
      "source": [
        "XGBoost_clf.score(X_train, y_train)"
      ],
      "metadata": {
        "execution": {
          "iopub.status.busy": "2024-07-03T16:04:18.722813Z",
          "iopub.execute_input": "2024-07-03T16:04:18.723232Z",
          "iopub.status.idle": "2024-07-03T16:04:18.749971Z",
          "shell.execute_reply.started": "2024-07-03T16:04:18.723195Z",
          "shell.execute_reply": "2024-07-03T16:04:18.748487Z"
        },
        "trusted": true,
        "id": "o2wlQ2PSCs3F"
      },
      "execution_count": null,
      "outputs": []
    },
    {
      "cell_type": "code",
      "source": [
        "XGBoost_clf.predict_proba(X_train)"
      ],
      "metadata": {
        "execution": {
          "iopub.status.busy": "2024-07-03T16:04:18.751284Z",
          "iopub.execute_input": "2024-07-03T16:04:18.751693Z",
          "iopub.status.idle": "2024-07-03T16:04:18.777775Z",
          "shell.execute_reply.started": "2024-07-03T16:04:18.751656Z",
          "shell.execute_reply": "2024-07-03T16:04:18.775910Z"
        },
        "trusted": true,
        "id": "N34WtrvLCs3G"
      },
      "execution_count": null,
      "outputs": []
    },
    {
      "cell_type": "code",
      "source": [
        "X_train_df = pd.DataFrame(X_train , columns = ct.get_feature_names_out() )"
      ],
      "metadata": {
        "execution": {
          "iopub.status.busy": "2024-07-03T16:04:18.779438Z",
          "iopub.execute_input": "2024-07-03T16:04:18.779838Z",
          "iopub.status.idle": "2024-07-03T16:04:18.786542Z",
          "shell.execute_reply.started": "2024-07-03T16:04:18.779801Z",
          "shell.execute_reply": "2024-07-03T16:04:18.784917Z"
        },
        "trusted": true,
        "id": "abslMAR8Cs3G"
      },
      "execution_count": null,
      "outputs": []
    },
    {
      "cell_type": "code",
      "source": [
        "X_train_df"
      ],
      "metadata": {
        "execution": {
          "iopub.status.busy": "2024-07-03T16:04:18.788532Z",
          "iopub.execute_input": "2024-07-03T16:04:18.789108Z",
          "iopub.status.idle": "2024-07-03T16:04:18.830543Z",
          "shell.execute_reply.started": "2024-07-03T16:04:18.789050Z",
          "shell.execute_reply": "2024-07-03T16:04:18.828818Z"
        },
        "trusted": true,
        "id": "LhDL_7X8Cs3J"
      },
      "execution_count": null,
      "outputs": []
    },
    {
      "cell_type": "code",
      "source": [
        "importance_xgb = permutation_importance(estimator = XGBoost_clf , X = X_train[0:2000], y = y_train[0:2000], n_repeats = 5)"
      ],
      "metadata": {
        "execution": {
          "iopub.status.busy": "2024-07-03T16:28:36.684262Z",
          "iopub.execute_input": "2024-07-03T16:28:36.684791Z",
          "iopub.status.idle": "2024-07-03T16:28:37.320891Z",
          "shell.execute_reply.started": "2024-07-03T16:28:36.684746Z",
          "shell.execute_reply": "2024-07-03T16:28:37.319714Z"
        },
        "trusted": true,
        "id": "ec9DoxaGCs3K"
      },
      "execution_count": null,
      "outputs": []
    },
    {
      "cell_type": "code",
      "source": [
        "plt.barh(ct.get_feature_names_out(), importance_xgb.importances_mean, xerr = importance_xgb.importances_std)\n",
        "# plt.xticks(rotation='vertical')\n",
        "None"
      ],
      "metadata": {
        "execution": {
          "iopub.status.busy": "2024-07-03T16:28:39.990276Z",
          "iopub.execute_input": "2024-07-03T16:28:39.990797Z",
          "iopub.status.idle": "2024-07-03T16:28:40.452973Z",
          "shell.execute_reply.started": "2024-07-03T16:28:39.990751Z",
          "shell.execute_reply": "2024-07-03T16:28:40.451461Z"
        },
        "trusted": true,
        "id": "6MLHLzfGCs3K"
      },
      "execution_count": null,
      "outputs": []
    },
    {
      "cell_type": "code",
      "source": [
        "explainer = shap.Explainer(XGBoost_clf)\n",
        "shap_values = explainer(X_train_df)"
      ],
      "metadata": {
        "execution": {
          "iopub.status.busy": "2024-07-03T16:04:18.833204Z",
          "iopub.execute_input": "2024-07-03T16:04:18.833932Z",
          "iopub.status.idle": "2024-07-03T16:04:20.897730Z",
          "shell.execute_reply.started": "2024-07-03T16:04:18.833861Z",
          "shell.execute_reply": "2024-07-03T16:04:20.896527Z"
        },
        "trusted": true,
        "id": "M6DJqOcTCs3K"
      },
      "execution_count": null,
      "outputs": []
    },
    {
      "cell_type": "code",
      "source": [
        "# explainer(X_train)"
      ],
      "metadata": {
        "execution": {
          "iopub.status.busy": "2024-07-03T16:42:08.747217Z",
          "iopub.execute_input": "2024-07-03T16:42:08.748494Z",
          "iopub.status.idle": "2024-07-03T16:42:08.753368Z",
          "shell.execute_reply.started": "2024-07-03T16:42:08.748428Z",
          "shell.execute_reply": "2024-07-03T16:42:08.751974Z"
        },
        "trusted": true,
        "id": "xwrYq6EaCs3L"
      },
      "execution_count": null,
      "outputs": []
    },
    {
      "cell_type": "code",
      "source": [
        "shap.plots.waterfall(shap_values[0])\n",
        "shap.initjs()\n",
        "shap.plots.force(shap_values[0])"
      ],
      "metadata": {
        "execution": {
          "iopub.status.busy": "2024-07-03T16:04:20.912352Z",
          "iopub.execute_input": "2024-07-03T16:04:20.913037Z",
          "iopub.status.idle": "2024-07-03T16:04:21.925753Z",
          "shell.execute_reply.started": "2024-07-03T16:04:20.912974Z",
          "shell.execute_reply": "2024-07-03T16:04:21.923610Z"
        },
        "trusted": true,
        "id": "KejtHl_PCs3L"
      },
      "execution_count": null,
      "outputs": []
    },
    {
      "cell_type": "code",
      "source": [
        "shap.plots.waterfall(shap_values[1])\n",
        "shap.initjs()\n",
        "shap.plots.force(shap_values[1])"
      ],
      "metadata": {
        "execution": {
          "iopub.status.busy": "2024-07-03T16:04:21.928720Z",
          "iopub.execute_input": "2024-07-03T16:04:21.930229Z",
          "iopub.status.idle": "2024-07-03T16:04:22.810519Z",
          "shell.execute_reply.started": "2024-07-03T16:04:21.930162Z",
          "shell.execute_reply": "2024-07-03T16:04:22.809186Z"
        },
        "trusted": true,
        "id": "-Sgi70L6Cs3L"
      },
      "execution_count": null,
      "outputs": []
    },
    {
      "cell_type": "code",
      "source": [
        "## multiple force plots rotated 90 degrees and stacked on top of each other\n",
        "## interactive plot\n",
        "shap.plots.force(shap_values[:500])"
      ],
      "metadata": {
        "execution": {
          "iopub.status.busy": "2024-07-03T16:04:22.812158Z",
          "iopub.execute_input": "2024-07-03T16:04:22.812714Z",
          "iopub.status.idle": "2024-07-03T16:04:23.248483Z",
          "shell.execute_reply.started": "2024-07-03T16:04:22.812659Z",
          "shell.execute_reply": "2024-07-03T16:04:23.247138Z"
        },
        "trusted": true,
        "id": "PKjcBUE9Cs3M"
      },
      "execution_count": null,
      "outputs": []
    },
    {
      "cell_type": "code",
      "source": [
        "# shap.plots.violin(shap_values.values, X_train_df)"
      ],
      "metadata": {
        "execution": {
          "iopub.status.busy": "2024-07-03T16:51:09.474010Z",
          "iopub.execute_input": "2024-07-03T16:51:09.474452Z",
          "iopub.status.idle": "2024-07-03T16:51:09.480887Z",
          "shell.execute_reply.started": "2024-07-03T16:51:09.474414Z",
          "shell.execute_reply": "2024-07-03T16:51:09.479380Z"
        },
        "trusted": true,
        "id": "e3nvT9TXCs3M"
      },
      "execution_count": null,
      "outputs": []
    },
    {
      "cell_type": "code",
      "source": [
        "shap.plots.beeswarm(shap_values)"
      ],
      "metadata": {
        "execution": {
          "iopub.status.busy": "2024-07-03T16:50:18.518926Z",
          "iopub.execute_input": "2024-07-03T16:50:18.519406Z",
          "iopub.status.idle": "2024-07-03T16:50:19.612332Z",
          "shell.execute_reply.started": "2024-07-03T16:50:18.519367Z",
          "shell.execute_reply": "2024-07-03T16:50:19.611012Z"
        },
        "trusted": true,
        "id": "rhKuabNQCs3N"
      },
      "execution_count": null,
      "outputs": []
    },
    {
      "cell_type": "code",
      "source": [
        "shap.plots.bar(shap_values)"
      ],
      "metadata": {
        "execution": {
          "iopub.status.busy": "2024-07-03T16:25:03.824248Z",
          "iopub.execute_input": "2024-07-03T16:25:03.824740Z",
          "iopub.status.idle": "2024-07-03T16:25:04.184720Z",
          "shell.execute_reply.started": "2024-07-03T16:25:03.824694Z",
          "shell.execute_reply": "2024-07-03T16:25:04.183409Z"
        },
        "trusted": true,
        "id": "7FLp4ewmCs3N"
      },
      "execution_count": null,
      "outputs": []
    },
    {
      "cell_type": "code",
      "source": [
        "# shap.decision_plot(explainer.expected_value, shap_values, features_display)\n",
        "shap.decision_plot(explainer.expected_value, shap_values.values[0], X_train_df)"
      ],
      "metadata": {
        "execution": {
          "iopub.status.busy": "2024-07-03T16:46:51.854650Z",
          "iopub.execute_input": "2024-07-03T16:46:51.855505Z",
          "iopub.status.idle": "2024-07-03T16:46:52.425131Z",
          "shell.execute_reply.started": "2024-07-03T16:46:51.855455Z",
          "shell.execute_reply": "2024-07-03T16:46:52.423901Z"
        },
        "trusted": true,
        "id": "W3bhABNZCs3O"
      },
      "execution_count": null,
      "outputs": []
    },
    {
      "cell_type": "code",
      "source": [
        "shap.decision_plot(explainer.expected_value, shap_values.values[0:20], X_train_df)"
      ],
      "metadata": {
        "execution": {
          "iopub.status.busy": "2024-07-03T16:47:41.665682Z",
          "iopub.execute_input": "2024-07-03T16:47:41.666154Z",
          "iopub.status.idle": "2024-07-03T16:47:42.144985Z",
          "shell.execute_reply.started": "2024-07-03T16:47:41.666113Z",
          "shell.execute_reply": "2024-07-03T16:47:42.143701Z"
        },
        "trusted": true,
        "id": "31uQx3G7Cs3P"
      },
      "execution_count": null,
      "outputs": []
    },
    {
      "cell_type": "code",
      "source": [
        "# help(shap.decision_plot)"
      ],
      "metadata": {
        "execution": {
          "iopub.status.busy": "2024-07-03T16:45:15.619912Z",
          "iopub.execute_input": "2024-07-03T16:45:15.620425Z",
          "iopub.status.idle": "2024-07-03T16:45:15.626384Z",
          "shell.execute_reply.started": "2024-07-03T16:45:15.620382Z",
          "shell.execute_reply": "2024-07-03T16:45:15.624746Z"
        },
        "trusted": true,
        "id": "yTpk-pRgCs3P"
      },
      "execution_count": null,
      "outputs": []
    },
    {
      "cell_type": "code",
      "source": [
        "shap_values_short = explainer(X_train_df[0:1000])"
      ],
      "metadata": {
        "trusted": true,
        "id": "hD3kMHCTCs3Q"
      },
      "execution_count": null,
      "outputs": []
    },
    {
      "cell_type": "code",
      "source": [
        "shap.plots.heatmap(shap_values_short)"
      ],
      "metadata": {
        "execution": {
          "iopub.status.busy": "2024-07-03T16:51:55.109648Z",
          "iopub.execute_input": "2024-07-03T16:51:55.110744Z"
        },
        "trusted": true,
        "id": "AyxJd4duCs3Q"
      },
      "execution_count": null,
      "outputs": []
    },
    {
      "cell_type": "markdown",
      "source": [
        "#### Try final estimator as xgboost"
      ],
      "metadata": {
        "id": "uUcEUk6ACs3Q"
      }
    },
    {
      "cell_type": "code",
      "source": [
        "# import xgboost as xgb"
      ],
      "metadata": {
        "execution": {
          "iopub.status.busy": "2024-07-02T19:53:09.267859Z",
          "iopub.execute_input": "2024-07-02T19:53:09.268643Z",
          "iopub.status.idle": "2024-07-02T19:53:09.275289Z",
          "shell.execute_reply.started": "2024-07-02T19:53:09.268586Z",
          "shell.execute_reply": "2024-07-02T19:53:09.273805Z"
        },
        "trusted": true,
        "id": "XEYYaK8WCs3R"
      },
      "execution_count": null,
      "outputs": []
    },
    {
      "cell_type": "code",
      "source": [
        "# help(xgb.XGBClassifier)"
      ],
      "metadata": {
        "execution": {
          "iopub.status.busy": "2024-07-02T19:53:09.277391Z",
          "iopub.execute_input": "2024-07-02T19:53:09.278053Z",
          "iopub.status.idle": "2024-07-02T19:53:09.285983Z",
          "shell.execute_reply.started": "2024-07-02T19:53:09.277984Z",
          "shell.execute_reply": "2024-07-02T19:53:09.284551Z"
        },
        "trusted": true,
        "id": "aK33KwSNCs3R"
      },
      "execution_count": null,
      "outputs": []
    },
    {
      "cell_type": "code",
      "source": [
        "# clf_stacking_xgb = StackingClassifier(estimators = estimators_stacking_para, final_estimator = xgb.XGBClassifier(), cv = 5)"
      ],
      "metadata": {
        "execution": {
          "iopub.status.busy": "2024-07-02T19:53:09.287469Z",
          "iopub.execute_input": "2024-07-02T19:53:09.288292Z",
          "iopub.status.idle": "2024-07-02T19:53:09.300903Z",
          "shell.execute_reply.started": "2024-07-02T19:53:09.288233Z",
          "shell.execute_reply": "2024-07-02T19:53:09.298938Z"
        },
        "trusted": true,
        "id": "bozia3STCs3R"
      },
      "execution_count": null,
      "outputs": []
    },
    {
      "cell_type": "code",
      "source": [
        "# clf_stacking_xgb.fit(X_train, y_train)"
      ],
      "metadata": {
        "execution": {
          "iopub.status.busy": "2024-07-02T19:53:09.302899Z",
          "iopub.execute_input": "2024-07-02T19:53:09.303561Z",
          "iopub.status.idle": "2024-07-02T19:53:09.316897Z",
          "shell.execute_reply.started": "2024-07-02T19:53:09.303510Z",
          "shell.execute_reply": "2024-07-02T19:53:09.315264Z"
        },
        "trusted": true,
        "id": "ZRp4fi2WCs3S"
      },
      "execution_count": null,
      "outputs": []
    },
    {
      "cell_type": "code",
      "source": [
        "# clf_stacking_xgb.score(X_train, y_train)"
      ],
      "metadata": {
        "execution": {
          "iopub.status.busy": "2024-07-02T19:53:09.319053Z",
          "iopub.execute_input": "2024-07-02T19:53:09.319661Z",
          "iopub.status.idle": "2024-07-02T19:53:09.331063Z",
          "shell.execute_reply.started": "2024-07-02T19:53:09.319610Z",
          "shell.execute_reply": "2024-07-02T19:53:09.329319Z"
        },
        "trusted": true,
        "id": "gcZbnEYjCs3S"
      },
      "execution_count": null,
      "outputs": []
    },
    {
      "cell_type": "code",
      "source": [
        "# pred_stacking_xgb = clf_stacking_xgb.predict(X_test)"
      ],
      "metadata": {
        "execution": {
          "iopub.status.busy": "2024-07-02T19:53:09.333043Z",
          "iopub.execute_input": "2024-07-02T19:53:09.333703Z",
          "iopub.status.idle": "2024-07-02T19:53:09.343925Z",
          "shell.execute_reply.started": "2024-07-02T19:53:09.333649Z",
          "shell.execute_reply": "2024-07-02T19:53:09.342259Z"
        },
        "trusted": true,
        "id": "A_bDJd1tCs3S"
      },
      "execution_count": null,
      "outputs": []
    },
    {
      "cell_type": "markdown",
      "source": [
        "# Generate a submit file\n"
      ],
      "metadata": {
        "id": "Px5VF6DdCs3T"
      }
    },
    {
      "cell_type": "code",
      "source": [
        "# # Store our passenger ID for easy access\n",
        "# PassengerId = test_df['PassengerId']"
      ],
      "metadata": {
        "execution": {
          "iopub.status.busy": "2023-05-26T16:30:33.728545Z",
          "iopub.execute_input": "2023-05-26T16:30:33.730321Z",
          "iopub.status.idle": "2023-05-26T16:30:33.738630Z",
          "shell.execute_reply.started": "2023-05-26T16:30:33.730253Z",
          "shell.execute_reply": "2023-05-26T16:30:33.736422Z"
        },
        "trusted": true,
        "id": "zXpsOs4kCs3T"
      },
      "execution_count": null,
      "outputs": []
    },
    {
      "cell_type": "code",
      "source": [
        "# # Generate Submission File\n",
        "# StackingSubmission = pd.DataFrame({ 'PassengerId': PassengerId,\n",
        "#                             'Survived': predictions })\n",
        "# StackingSubmission.to_csv(\"StackingSubmission.csv\", index=False"
      ],
      "metadata": {
        "execution": {
          "iopub.status.busy": "2023-05-26T16:30:33.741787Z",
          "iopub.execute_input": "2023-05-26T16:30:33.743468Z",
          "iopub.status.idle": "2023-05-26T16:30:33.751707Z",
          "shell.execute_reply.started": "2023-05-26T16:30:33.743413Z",
          "shell.execute_reply": "2023-05-26T16:30:33.749975Z"
        },
        "trusted": true,
        "id": "LHuHasWACs3T"
      },
      "execution_count": null,
      "outputs": []
    },
    {
      "cell_type": "code",
      "source": [
        "y_pred = pred_stacking\n",
        "\n",
        "submission_df = pd.DataFrame(columns=['PassengerId', 'Transported'])\n",
        "submission_df['PassengerId'] = PassengerId_test.values\n",
        "submission_df['Transported'] = y_pred\n",
        "submission_df.to_csv('submissions.csv', header=True, index=False)\n",
        "print(\"Your submission was successfully saved!\")\n",
        "submission_df.head(10)"
      ],
      "metadata": {
        "execution": {
          "iopub.status.busy": "2023-05-26T16:30:33.753371Z",
          "iopub.execute_input": "2023-05-26T16:30:33.753701Z",
          "iopub.status.idle": "2023-05-26T16:30:33.789732Z",
          "shell.execute_reply.started": "2023-05-26T16:30:33.753670Z",
          "shell.execute_reply": "2023-05-26T16:30:33.788335Z"
        },
        "trusted": true,
        "id": "rM5fr-TpCs3U"
      },
      "execution_count": null,
      "outputs": []
    },
    {
      "cell_type": "code",
      "source": [
        "## under 4% off from top of leaderboard\n",
        "## 0.79261, 0.82183"
      ],
      "metadata": {
        "execution": {
          "iopub.status.busy": "2024-11-06T15:45:35.402834Z",
          "iopub.execute_input": "2024-11-06T15:45:35.403292Z",
          "iopub.status.idle": "2024-11-06T15:45:35.409126Z",
          "shell.execute_reply.started": "2024-11-06T15:45:35.403246Z",
          "shell.execute_reply": "2024-11-06T15:45:35.407576Z"
        },
        "trusted": true,
        "id": "hJvRrs2GCs3U"
      },
      "execution_count": null,
      "outputs": []
    },
    {
      "cell_type": "markdown",
      "source": [
        "# End"
      ],
      "metadata": {
        "id": "qvmMzFV6Cs3U"
      }
    },
    {
      "cell_type": "code",
      "source": [],
      "metadata": {
        "id": "kUkPLSY6Cs3U"
      },
      "execution_count": null,
      "outputs": []
    }
  ]
}