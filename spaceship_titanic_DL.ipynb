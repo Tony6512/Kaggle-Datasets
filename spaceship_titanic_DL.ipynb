{
  "metadata": {
    "kernelspec": {
      "language": "python",
      "display_name": "Python 3",
      "name": "python3"
    },
    "language_info": {
      "name": "python",
      "version": "3.7.12",
      "mimetype": "text/x-python",
      "codemirror_mode": {
        "name": "ipython",
        "version": 3
      },
      "pygments_lexer": "ipython3",
      "nbconvert_exporter": "python",
      "file_extension": ".py"
    },
    "kaggle": {
      "accelerator": "none",
      "dataSources": [
        {
          "sourceId": 34377,
          "databundleVersionId": 3220602,
          "sourceType": "competition"
        }
      ],
      "dockerImageVersionId": 30407,
      "isInternetEnabled": true,
      "language": "python",
      "sourceType": "notebook",
      "isGpuEnabled": false
    },
    "colab": {
      "provenance": [],
      "include_colab_link": true
    }
  },
  "nbformat_minor": 0,
  "nbformat": 4,
  "cells": [
    {
      "cell_type": "markdown",
      "metadata": {
        "id": "view-in-github",
        "colab_type": "text"
      },
      "source": [
        "<a href=\"https://colab.research.google.com/github/Tony6512/Kaggle-Datasets/blob/main/spaceship_titanic_DL.ipynb\" target=\"_parent\"><img src=\"https://colab.research.google.com/assets/colab-badge.svg\" alt=\"Open In Colab\"/></a>"
      ]
    },
    {
      "cell_type": "code",
      "source": [
        "# This Python 3 environment comes with many helpful analytics libraries installed\n",
        "# It is defined by the kaggle/python Docker image: https://github.com/kaggle/docker-python\n",
        "# For example, here's several helpful packages to load\n",
        "\n",
        "import numpy as np # linear algebra\n",
        "import pandas as pd # data processing, CSV file I/O (e.g. pd.read_csv)\n",
        "\n",
        "# Input data files are available in the read-only \"../input/\" directory\n",
        "# For example, running this (by clicking run or pressing Shift+Enter) will list all files under the input directory\n",
        "\n",
        "import os\n",
        "for dirname, _, filenames in os.walk('/kaggle/input'):\n",
        "    for filename in filenames:\n",
        "        print(os.path.join(dirname, filename))\n",
        "\n",
        "# You can write up to 20GB to the current directory (/kaggle/working/) that gets preserved as output when you create a version using \"Save & Run All\"\n",
        "# You can also write temporary files to /kaggle/temp/, but they won't be saved outside of the current session"
      ],
      "metadata": {
        "_uuid": "8f2839f25d086af736a60e9eeb907d3b93b6e0e5",
        "_cell_guid": "b1076dfc-b9ad-4769-8c92-a6c4dae69d19",
        "execution": {
          "iopub.status.busy": "2023-05-30T15:01:00.124689Z",
          "iopub.execute_input": "2023-05-30T15:01:00.125104Z",
          "iopub.status.idle": "2023-05-30T15:01:00.167569Z",
          "shell.execute_reply.started": "2023-05-30T15:01:00.125063Z",
          "shell.execute_reply": "2023-05-30T15:01:00.165746Z"
        },
        "trusted": true,
        "id": "5w7GXcHXCdAs"
      },
      "execution_count": null,
      "outputs": []
    },
    {
      "cell_type": "markdown",
      "source": [
        "https://www.kaggle.com/competitions/spaceship-titanic"
      ],
      "metadata": {
        "id": "wcrqtQ-SCdBC"
      }
    },
    {
      "cell_type": "markdown",
      "source": [
        "# Intro / Get Data"
      ],
      "metadata": {
        "id": "DF3J-iSjCdBL"
      }
    },
    {
      "cell_type": "code",
      "source": [
        "# data analysis and wrangling\n",
        "import pandas as pd\n",
        "import numpy as np\n",
        "import random as rnd\n",
        "\n",
        "# visualization\n",
        "import seaborn as sns\n",
        "sns.set(style=\"darkgrid\")\n",
        "import matplotlib.pyplot as plt\n",
        "%matplotlib inline\n",
        "\n",
        "import warnings\n",
        "warnings.filterwarnings('ignore')\n",
        "\n",
        "# machine learning\n",
        "from sklearn.linear_model import LogisticRegression\n",
        "from sklearn.svm import SVC, LinearSVC\n",
        "from sklearn.ensemble import RandomForestClassifier\n",
        "from sklearn.neighbors import KNeighborsClassifier\n",
        "from sklearn.naive_bayes import GaussianNB\n",
        "from sklearn.linear_model import Perceptron\n",
        "from sklearn.linear_model import SGDClassifier\n",
        "from sklearn.tree import DecisionTreeClassifier\n",
        "\n",
        "from sklearn.model_selection import KFold\n",
        "from sklearn.ensemble import (RandomForestClassifier, AdaBoostClassifier,\n",
        "                              GradientBoostingClassifier, ExtraTreesClassifier)\n",
        "\n",
        "from sklearn.preprocessing import OneHotEncoder, LabelEncoder, StandardScaler, MinMaxScaler\n",
        "from sklearn.metrics import roc_curve, auc\n",
        "from sklearn.model_selection import StratifiedKFold\n",
        "from sklearn.compose import ColumnTransformer\n",
        "\n",
        "SEED = 0\n"
      ],
      "metadata": {
        "execution": {
          "iopub.status.busy": "2023-05-29T15:03:59.325857Z",
          "iopub.execute_input": "2023-05-29T15:03:59.326236Z",
          "iopub.status.idle": "2023-05-29T15:04:01.378010Z",
          "shell.execute_reply.started": "2023-05-29T15:03:59.326204Z",
          "shell.execute_reply": "2023-05-29T15:04:01.376413Z"
        },
        "trusted": true,
        "id": "_wIL2SmQCdBN"
      },
      "execution_count": null,
      "outputs": []
    },
    {
      "cell_type": "code",
      "source": [
        "df_train = pd.read_csv(\"/kaggle/input/spaceship-titanic/train.csv\")\n",
        "df_train.head()"
      ],
      "metadata": {
        "execution": {
          "iopub.status.busy": "2023-05-29T15:04:01.380960Z",
          "iopub.execute_input": "2023-05-29T15:04:01.381464Z",
          "iopub.status.idle": "2023-05-29T15:04:01.476385Z",
          "shell.execute_reply.started": "2023-05-29T15:04:01.381394Z",
          "shell.execute_reply": "2023-05-29T15:04:01.473964Z"
        },
        "trusted": true,
        "id": "SYWd_9uxCdBO"
      },
      "execution_count": null,
      "outputs": []
    },
    {
      "cell_type": "code",
      "source": [
        "df_test = pd.read_csv(\"/kaggle/input/spaceship-titanic/test.csv\")\n",
        "df_test.head()"
      ],
      "metadata": {
        "execution": {
          "iopub.status.busy": "2023-05-29T15:04:01.478314Z",
          "iopub.execute_input": "2023-05-29T15:04:01.478800Z",
          "iopub.status.idle": "2023-05-29T15:04:01.524017Z",
          "shell.execute_reply.started": "2023-05-29T15:04:01.478755Z",
          "shell.execute_reply": "2023-05-29T15:04:01.522042Z"
        },
        "trusted": true,
        "id": "iuHFroEUCdBP"
      },
      "execution_count": null,
      "outputs": []
    },
    {
      "cell_type": "code",
      "source": [
        "df_train.describe()"
      ],
      "metadata": {
        "execution": {
          "iopub.status.busy": "2023-05-29T15:04:01.525908Z",
          "iopub.execute_input": "2023-05-29T15:04:01.526440Z",
          "iopub.status.idle": "2023-05-29T15:04:01.572401Z",
          "shell.execute_reply.started": "2023-05-29T15:04:01.526390Z",
          "shell.execute_reply": "2023-05-29T15:04:01.571114Z"
        },
        "trusted": true,
        "id": "6RumebKHCdBQ"
      },
      "execution_count": null,
      "outputs": []
    },
    {
      "cell_type": "code",
      "source": [
        "# df_test.describe()"
      ],
      "metadata": {
        "execution": {
          "iopub.status.busy": "2023-05-29T15:04:01.575020Z",
          "iopub.execute_input": "2023-05-29T15:04:01.575536Z",
          "iopub.status.idle": "2023-05-29T15:04:01.579880Z",
          "shell.execute_reply.started": "2023-05-29T15:04:01.575497Z",
          "shell.execute_reply": "2023-05-29T15:04:01.578374Z"
        },
        "trusted": true,
        "id": "wc5uSC_RCdBS"
      },
      "execution_count": null,
      "outputs": []
    },
    {
      "cell_type": "markdown",
      "source": [
        "Let us seperate categorical features and continuous features."
      ],
      "metadata": {
        "id": "jzrR7avmCdBU"
      }
    },
    {
      "cell_type": "code",
      "source": [
        "cts_features = df_train.describe().columns\n",
        "cts_features"
      ],
      "metadata": {
        "execution": {
          "iopub.status.busy": "2023-05-29T15:04:01.581422Z",
          "iopub.execute_input": "2023-05-29T15:04:01.582031Z",
          "iopub.status.idle": "2023-05-29T15:04:01.614953Z",
          "shell.execute_reply.started": "2023-05-29T15:04:01.581991Z",
          "shell.execute_reply": "2023-05-29T15:04:01.613826Z"
        },
        "trusted": true,
        "id": "8e0jVJCwCdBY"
      },
      "execution_count": null,
      "outputs": []
    },
    {
      "cell_type": "code",
      "source": [
        "df_train.describe(exclude = [np.number])  ## non numeric"
      ],
      "metadata": {
        "execution": {
          "iopub.status.busy": "2023-05-29T15:04:01.616316Z",
          "iopub.execute_input": "2023-05-29T15:04:01.617396Z",
          "iopub.status.idle": "2023-05-29T15:04:01.660755Z",
          "shell.execute_reply.started": "2023-05-29T15:04:01.617358Z",
          "shell.execute_reply": "2023-05-29T15:04:01.659214Z"
        },
        "trusted": true,
        "id": "UEGr3n1SCdBZ"
      },
      "execution_count": null,
      "outputs": []
    },
    {
      "cell_type": "code",
      "source": [
        "cat_features = df_train.drop(['PassengerId', 'Transported'], axis = 1).describe(exclude = [np.number]).columns\n",
        "cat_features"
      ],
      "metadata": {
        "execution": {
          "iopub.status.busy": "2023-05-29T15:04:01.662404Z",
          "iopub.execute_input": "2023-05-29T15:04:01.662809Z",
          "iopub.status.idle": "2023-05-29T15:04:01.693058Z",
          "shell.execute_reply.started": "2023-05-29T15:04:01.662770Z",
          "shell.execute_reply": "2023-05-29T15:04:01.692039Z"
        },
        "trusted": true,
        "id": "9UO2k2RuCdBg"
      },
      "execution_count": null,
      "outputs": []
    },
    {
      "cell_type": "code",
      "source": [
        "# df_all = concat_df(df_train, df_test)\n",
        "df_train.name = 'Training Set'\n",
        "df_test.name = 'Test Set'\n",
        "# df_all.name = 'All Set'\n",
        "PassengerId_test = df_test['PassengerId'] ## for submission\n",
        "dfs = [df_train, df_test]\n",
        "\n",
        "print(f'Training X Shape = {df_train.shape}')\n",
        "print(f'Training y Shape = {df_train.shape[0]}')\n",
        "print(f'Test X Shape = {df_test.shape}')\n",
        "print(f'Test y Shape = {df_test.shape[0]}')\n",
        "print(df_train.columns)\n",
        "print(df_test.columns)"
      ],
      "metadata": {
        "execution": {
          "iopub.status.busy": "2023-05-29T15:04:01.694275Z",
          "iopub.execute_input": "2023-05-29T15:04:01.694586Z",
          "iopub.status.idle": "2023-05-29T15:04:01.701199Z",
          "shell.execute_reply.started": "2023-05-29T15:04:01.694559Z",
          "shell.execute_reply": "2023-05-29T15:04:01.700400Z"
        },
        "trusted": true,
        "id": "Y7oNZtaICdBh"
      },
      "execution_count": null,
      "outputs": []
    },
    {
      "cell_type": "code",
      "source": [
        "for df in dfs:\n",
        "    df.info()\n",
        "    print('-'*50)"
      ],
      "metadata": {
        "execution": {
          "iopub.status.busy": "2023-05-29T15:04:01.702059Z",
          "iopub.execute_input": "2023-05-29T15:04:01.702321Z",
          "iopub.status.idle": "2023-05-29T15:04:01.744041Z",
          "shell.execute_reply.started": "2023-05-29T15:04:01.702296Z",
          "shell.execute_reply": "2023-05-29T15:04:01.742721Z"
        },
        "trusted": true,
        "id": "ZrtziVMhCdBi"
      },
      "execution_count": null,
      "outputs": []
    },
    {
      "cell_type": "code",
      "source": [
        "def display_missing(df):\n",
        "    for col in df.columns.tolist():\n",
        "        print(f'{col} column missing values: {df[col].isnull().sum()}')\n",
        "    print('\\n')"
      ],
      "metadata": {
        "execution": {
          "iopub.status.busy": "2023-05-29T15:04:01.745615Z",
          "iopub.execute_input": "2023-05-29T15:04:01.746753Z",
          "iopub.status.idle": "2023-05-29T15:04:01.754613Z",
          "shell.execute_reply.started": "2023-05-29T15:04:01.746703Z",
          "shell.execute_reply": "2023-05-29T15:04:01.752738Z"
        },
        "trusted": true,
        "id": "XBwgKp-zCdBk"
      },
      "execution_count": null,
      "outputs": []
    },
    {
      "cell_type": "code",
      "source": [
        "for df in dfs:\n",
        "    print(f'{df.name}')\n",
        "    display_missing(df)"
      ],
      "metadata": {
        "execution": {
          "iopub.status.busy": "2023-05-29T15:04:01.756654Z",
          "iopub.execute_input": "2023-05-29T15:04:01.758013Z",
          "iopub.status.idle": "2023-05-29T15:04:01.780491Z",
          "shell.execute_reply.started": "2023-05-29T15:04:01.757957Z",
          "shell.execute_reply": "2023-05-29T15:04:01.778725Z"
        },
        "trusted": true,
        "id": "lnrCPevdCdBl"
      },
      "execution_count": null,
      "outputs": []
    },
    {
      "cell_type": "markdown",
      "source": [
        "# Visualize Data"
      ],
      "metadata": {
        "id": "Rp5PZPTjCdBl"
      }
    },
    {
      "cell_type": "code",
      "source": [
        "fig, axs = plt.subplots(nrows=2, figsize=(15, 15))\n",
        "\n",
        "sns.heatmap(df_train.corr(), ax=axs[0], annot=True, square=True, cmap='coolwarm', annot_kws={'size': 14})\n",
        "sns.heatmap(df_test.corr(), ax=axs[1], annot=True, square=True, cmap='coolwarm', annot_kws={'size': 14})\n",
        "plt.show()"
      ],
      "metadata": {
        "execution": {
          "iopub.status.busy": "2023-05-29T15:04:01.782272Z",
          "iopub.execute_input": "2023-05-29T15:04:01.782747Z",
          "iopub.status.idle": "2023-05-29T15:04:02.724493Z",
          "shell.execute_reply.started": "2023-05-29T15:04:01.782696Z",
          "shell.execute_reply": "2023-05-29T15:04:02.723535Z"
        },
        "trusted": true,
        "id": "epQZ6SzKCdBo"
      },
      "execution_count": null,
      "outputs": []
    },
    {
      "cell_type": "markdown",
      "source": [
        "Let us look at the target feature against some of the categorical and continuous features."
      ],
      "metadata": {
        "id": "YEgLCqzhCdBs"
      }
    },
    {
      "cell_type": "code",
      "source": [
        "sns.histplot(x='Age', hue='Transported', data=df_train, kde = True)\n",
        "None"
      ],
      "metadata": {
        "execution": {
          "iopub.status.busy": "2023-05-29T15:04:02.729129Z",
          "iopub.execute_input": "2023-05-29T15:04:02.729728Z",
          "iopub.status.idle": "2023-05-29T15:04:03.238523Z",
          "shell.execute_reply.started": "2023-05-29T15:04:02.729691Z",
          "shell.execute_reply": "2023-05-29T15:04:03.237032Z"
        },
        "trusted": true,
        "id": "j78_7pIrCdBt"
      },
      "execution_count": null,
      "outputs": []
    },
    {
      "cell_type": "code",
      "source": [
        "sns.kdeplot(x='Age', hue='Transported', data=df_train, shade = True)\n",
        "None"
      ],
      "metadata": {
        "execution": {
          "iopub.status.busy": "2023-05-29T15:04:03.239762Z",
          "iopub.execute_input": "2023-05-29T15:04:03.240074Z",
          "iopub.status.idle": "2023-05-29T15:04:03.494546Z",
          "shell.execute_reply.started": "2023-05-29T15:04:03.240044Z",
          "shell.execute_reply": "2023-05-29T15:04:03.492819Z"
        },
        "trusted": true,
        "id": "c7F9OD3uCdBt"
      },
      "execution_count": null,
      "outputs": []
    },
    {
      "cell_type": "code",
      "source": [
        "for feat in cts_features:\n",
        "    if feat != 'Age':\n",
        "        sns.histplot(x= feat, hue='Transported', data=df_train, bins = 10, multiple = 'dodge', shrink = 0.8)\n",
        "    else:\n",
        "        sns.histplot(x= feat, hue='Transported', data=df_train, kde = True)\n",
        "    plt.show()"
      ],
      "metadata": {
        "execution": {
          "iopub.status.busy": "2023-05-29T15:04:03.496194Z",
          "iopub.execute_input": "2023-05-29T15:04:03.496617Z",
          "iopub.status.idle": "2023-05-29T15:04:05.623352Z",
          "shell.execute_reply.started": "2023-05-29T15:04:03.496577Z",
          "shell.execute_reply": "2023-05-29T15:04:05.621758Z"
        },
        "trusted": true,
        "id": "6OKPXTw3CdBu"
      },
      "execution_count": null,
      "outputs": []
    },
    {
      "cell_type": "markdown",
      "source": [
        "We might want to bin most of the numerical data since the majority of it is just 0."
      ],
      "metadata": {
        "id": "UJZ6O7x1CdBx"
      }
    },
    {
      "cell_type": "code",
      "source": [
        "for feat in cts_features:\n",
        "    if feat == 'Age':\n",
        "        pass\n",
        "    else:\n",
        "        sns.scatterplot(data=df_train, x= feat, y = 'Transported' , hue= 'Transported')\n",
        "        plt.show()\n"
      ],
      "metadata": {
        "execution": {
          "iopub.status.busy": "2023-05-29T15:04:05.624672Z",
          "iopub.execute_input": "2023-05-29T15:04:05.625780Z",
          "iopub.status.idle": "2023-05-29T15:04:07.861671Z",
          "shell.execute_reply.started": "2023-05-29T15:04:05.625725Z",
          "shell.execute_reply": "2023-05-29T15:04:07.860172Z"
        },
        "trusted": true,
        "id": "z7wKppfwCdBy"
      },
      "execution_count": null,
      "outputs": []
    },
    {
      "cell_type": "code",
      "source": [
        "sns.countplot(x='Transported', data=df_train)\n",
        "None"
      ],
      "metadata": {
        "execution": {
          "iopub.status.busy": "2023-05-29T15:04:07.863101Z",
          "iopub.execute_input": "2023-05-29T15:04:07.863521Z",
          "iopub.status.idle": "2023-05-29T15:04:08.017113Z",
          "shell.execute_reply.started": "2023-05-29T15:04:07.863480Z",
          "shell.execute_reply": "2023-05-29T15:04:08.016144Z"
        },
        "trusted": true,
        "id": "-Xx3o3HZCdBy"
      },
      "execution_count": null,
      "outputs": []
    },
    {
      "cell_type": "code",
      "source": [
        "# cat_features\n",
        "for feat in ['HomePlanet', 'Destination', 'CryoSleep']:\n",
        "    sns.countplot(x= feat, hue='Transported', data=df_train)\n",
        "    plt.show()"
      ],
      "metadata": {
        "execution": {
          "iopub.status.busy": "2023-05-29T15:04:08.018347Z",
          "iopub.execute_input": "2023-05-29T15:04:08.019510Z",
          "iopub.status.idle": "2023-05-29T15:04:08.558267Z",
          "shell.execute_reply.started": "2023-05-29T15:04:08.019467Z",
          "shell.execute_reply": "2023-05-29T15:04:08.557170Z"
        },
        "trusted": true,
        "id": "UVZi0-CACdBy"
      },
      "execution_count": null,
      "outputs": []
    },
    {
      "cell_type": "markdown",
      "source": [
        "Many people who are not transported (to another dimension) are from Earth (home planet). There is a nice relation between cryosleep and transported."
      ],
      "metadata": {
        "id": "4f8nJYcjCdBz"
      }
    },
    {
      "cell_type": "code",
      "source": [],
      "metadata": {
        "id": "Mev4aaH3CdBz"
      },
      "execution_count": null,
      "outputs": []
    },
    {
      "cell_type": "markdown",
      "source": [
        "# Clean Data"
      ],
      "metadata": {
        "id": "7CWnV_raCdBz"
      }
    },
    {
      "cell_type": "markdown",
      "source": [
        "## Age"
      ],
      "metadata": {
        "id": "eJx_ypELCdB0"
      }
    },
    {
      "cell_type": "code",
      "source": [
        "sns.histplot(x='Age', data=df_train, kde = True)\n",
        "None"
      ],
      "metadata": {
        "execution": {
          "iopub.status.busy": "2023-05-29T15:04:08.559834Z",
          "iopub.execute_input": "2023-05-29T15:04:08.560632Z",
          "iopub.status.idle": "2023-05-29T15:04:08.889384Z",
          "shell.execute_reply.started": "2023-05-29T15:04:08.560590Z",
          "shell.execute_reply": "2023-05-29T15:04:08.887262Z"
        },
        "trusted": true,
        "id": "f_XVhPlpCdB0"
      },
      "execution_count": null,
      "outputs": []
    },
    {
      "cell_type": "code",
      "source": [
        "df_train['Age'].mean()"
      ],
      "metadata": {
        "execution": {
          "iopub.status.busy": "2023-05-29T15:04:08.891116Z",
          "iopub.execute_input": "2023-05-29T15:04:08.891599Z",
          "iopub.status.idle": "2023-05-29T15:04:08.901936Z",
          "shell.execute_reply.started": "2023-05-29T15:04:08.891551Z",
          "shell.execute_reply": "2023-05-29T15:04:08.900528Z"
        },
        "trusted": true,
        "id": "L5HRhkNwCdB1"
      },
      "execution_count": null,
      "outputs": []
    },
    {
      "cell_type": "code",
      "source": [
        "df_train['Age'].median()"
      ],
      "metadata": {
        "execution": {
          "iopub.status.busy": "2023-05-29T15:04:08.903897Z",
          "iopub.execute_input": "2023-05-29T15:04:08.904304Z",
          "iopub.status.idle": "2023-05-29T15:04:08.914977Z",
          "shell.execute_reply.started": "2023-05-29T15:04:08.904265Z",
          "shell.execute_reply": "2023-05-29T15:04:08.913859Z"
        },
        "trusted": true,
        "id": "zkTjGoJLCdB1"
      },
      "execution_count": null,
      "outputs": []
    },
    {
      "cell_type": "code",
      "source": [
        "## missing values are filled in by median\n",
        "for df in dfs:\n",
        "    df['Age'] = df['Age'].fillna( df['Age'].median())"
      ],
      "metadata": {
        "execution": {
          "iopub.status.busy": "2023-05-29T15:04:08.916083Z",
          "iopub.execute_input": "2023-05-29T15:04:08.916472Z",
          "iopub.status.idle": "2023-05-29T15:04:08.926883Z",
          "shell.execute_reply.started": "2023-05-29T15:04:08.916415Z",
          "shell.execute_reply": "2023-05-29T15:04:08.925268Z"
        },
        "trusted": true,
        "id": "6i_YbSR5CdB2"
      },
      "execution_count": null,
      "outputs": []
    },
    {
      "cell_type": "markdown",
      "source": [
        "## Other cts features"
      ],
      "metadata": {
        "id": "-n3HHz98CdB2"
      }
    },
    {
      "cell_type": "code",
      "source": [
        "## given that 'RoomService', 'FoodCourt', 'ShoppingMall', 'Spa', 'VRDeck' are mostly zero, that is the value we use to fill\n",
        "df_train.describe()"
      ],
      "metadata": {
        "execution": {
          "iopub.status.busy": "2023-05-29T15:04:08.928750Z",
          "iopub.execute_input": "2023-05-29T15:04:08.929128Z",
          "iopub.status.idle": "2023-05-29T15:04:08.964128Z",
          "shell.execute_reply.started": "2023-05-29T15:04:08.929092Z",
          "shell.execute_reply": "2023-05-29T15:04:08.962647Z"
        },
        "trusted": true,
        "id": "xaJkzLQRCdCA"
      },
      "execution_count": null,
      "outputs": []
    },
    {
      "cell_type": "markdown",
      "source": [
        "Most of the continuous data is 0, so filling in the median is equivalent to filling in 0."
      ],
      "metadata": {
        "id": "07a2_n_KCdCA"
      }
    },
    {
      "cell_type": "code",
      "source": [
        "## given that 'RoomService', 'FoodCourt', 'ShoppingMall', 'Spa', 'VRDeck' are mostly zero, that is the value we use to fill\n",
        "for df in dfs:\n",
        "    for feat in ['RoomService', 'FoodCourt', 'ShoppingMall', 'Spa', 'VRDeck']:\n",
        "        df[feat] = df[feat].fillna( df[feat].median())"
      ],
      "metadata": {
        "execution": {
          "iopub.status.busy": "2023-05-29T15:04:08.966021Z",
          "iopub.execute_input": "2023-05-29T15:04:08.966721Z",
          "iopub.status.idle": "2023-05-29T15:04:08.979496Z",
          "shell.execute_reply.started": "2023-05-29T15:04:08.966684Z",
          "shell.execute_reply": "2023-05-29T15:04:08.978048Z"
        },
        "trusted": true,
        "id": "fNCAPeqGCdCA"
      },
      "execution_count": null,
      "outputs": []
    },
    {
      "cell_type": "code",
      "source": [
        "## check features with missing values\n",
        "for df in dfs:\n",
        "    print(f'{df.name}')\n",
        "    display_missing(df)"
      ],
      "metadata": {
        "execution": {
          "iopub.status.busy": "2023-05-29T15:04:08.980890Z",
          "iopub.execute_input": "2023-05-29T15:04:08.982265Z",
          "iopub.status.idle": "2023-05-29T15:04:09.000719Z",
          "shell.execute_reply.started": "2023-05-29T15:04:08.982219Z",
          "shell.execute_reply": "2023-05-29T15:04:08.999141Z"
        },
        "trusted": true,
        "id": "GlFPrVNRCdCB"
      },
      "execution_count": null,
      "outputs": []
    },
    {
      "cell_type": "markdown",
      "source": [
        "## Categorical features"
      ],
      "metadata": {
        "id": "iOjUFcTQCdCR"
      }
    },
    {
      "cell_type": "code",
      "source": [
        "cat_features"
      ],
      "metadata": {
        "execution": {
          "iopub.status.busy": "2023-05-29T15:04:09.002686Z",
          "iopub.execute_input": "2023-05-29T15:04:09.003131Z",
          "iopub.status.idle": "2023-05-29T15:04:09.015441Z",
          "shell.execute_reply.started": "2023-05-29T15:04:09.003092Z",
          "shell.execute_reply": "2023-05-29T15:04:09.013651Z"
        },
        "trusted": true,
        "id": "3UHCu_keCdCS"
      },
      "execution_count": null,
      "outputs": []
    },
    {
      "cell_type": "code",
      "source": [
        "df_train.describe(exclude = [np.number])  ## non numeric"
      ],
      "metadata": {
        "execution": {
          "iopub.status.busy": "2023-05-29T15:04:09.017192Z",
          "iopub.execute_input": "2023-05-29T15:04:09.017573Z",
          "iopub.status.idle": "2023-05-29T15:04:09.066987Z",
          "shell.execute_reply.started": "2023-05-29T15:04:09.017537Z",
          "shell.execute_reply": "2023-05-29T15:04:09.065545Z"
        },
        "trusted": true,
        "id": "VI0j2QXvCdCS"
      },
      "execution_count": null,
      "outputs": []
    },
    {
      "cell_type": "code",
      "source": [
        "for df in dfs:\n",
        "    df['VIP'] = df['VIP'].fillna( df['VIP'].mode()[0])"
      ],
      "metadata": {
        "execution": {
          "iopub.status.busy": "2023-05-29T15:04:09.069225Z",
          "iopub.execute_input": "2023-05-29T15:04:09.070430Z",
          "iopub.status.idle": "2023-05-29T15:04:09.082732Z",
          "shell.execute_reply.started": "2023-05-29T15:04:09.070364Z",
          "shell.execute_reply": "2023-05-29T15:04:09.080538Z"
        },
        "trusted": true,
        "id": "hhiGRp57CdCS"
      },
      "execution_count": null,
      "outputs": []
    },
    {
      "cell_type": "code",
      "source": [
        "for df in dfs:\n",
        "    print(f'{df.name}')\n",
        "    display_missing(df)"
      ],
      "metadata": {
        "execution": {
          "iopub.status.busy": "2023-05-29T15:04:09.084751Z",
          "iopub.execute_input": "2023-05-29T15:04:09.085125Z",
          "iopub.status.idle": "2023-05-29T15:04:09.103428Z",
          "shell.execute_reply.started": "2023-05-29T15:04:09.085091Z",
          "shell.execute_reply": "2023-05-29T15:04:09.102241Z"
        },
        "trusted": true,
        "id": "fJ0RD98BCdCT"
      },
      "execution_count": null,
      "outputs": []
    },
    {
      "cell_type": "code",
      "source": [
        "sns.countplot(data = df_train, x = 'HomePlanet', hue = 'Destination')\n",
        "None"
      ],
      "metadata": {
        "execution": {
          "iopub.status.busy": "2023-05-29T15:04:09.104684Z",
          "iopub.execute_input": "2023-05-29T15:04:09.105518Z",
          "iopub.status.idle": "2023-05-29T15:04:09.335140Z",
          "shell.execute_reply.started": "2023-05-29T15:04:09.105478Z",
          "shell.execute_reply": "2023-05-29T15:04:09.334352Z"
        },
        "trusted": true,
        "id": "1fta0duuCdCT"
      },
      "execution_count": null,
      "outputs": []
    },
    {
      "cell_type": "code",
      "source": [
        "sns.countplot(data = df_train, x = 'HomePlanet', hue = 'CryoSleep')\n",
        "None"
      ],
      "metadata": {
        "execution": {
          "iopub.status.busy": "2023-05-29T15:04:09.336290Z",
          "iopub.execute_input": "2023-05-29T15:04:09.337541Z",
          "iopub.status.idle": "2023-05-29T15:04:09.561952Z",
          "shell.execute_reply.started": "2023-05-29T15:04:09.337432Z",
          "shell.execute_reply": "2023-05-29T15:04:09.560621Z"
        },
        "trusted": true,
        "id": "xuWFEJdNCdCU"
      },
      "execution_count": null,
      "outputs": []
    },
    {
      "cell_type": "code",
      "source": [
        "sns.countplot(data = df_train, hue = 'CryoSleep', x = 'Destination')\n",
        "None"
      ],
      "metadata": {
        "execution": {
          "iopub.status.busy": "2023-05-29T15:04:09.563476Z",
          "iopub.execute_input": "2023-05-29T15:04:09.564430Z",
          "iopub.status.idle": "2023-05-29T15:04:09.786079Z",
          "shell.execute_reply.started": "2023-05-29T15:04:09.564389Z",
          "shell.execute_reply": "2023-05-29T15:04:09.785026Z"
        },
        "trusted": true,
        "id": "xDeW42cTCdCU"
      },
      "execution_count": null,
      "outputs": []
    },
    {
      "cell_type": "code",
      "source": [
        "# sns.heatmap(data = df_train, annot = True)"
      ],
      "metadata": {
        "execution": {
          "iopub.status.busy": "2023-05-29T15:04:09.787596Z",
          "iopub.execute_input": "2023-05-29T15:04:09.787875Z",
          "iopub.status.idle": "2023-05-29T15:04:09.792227Z",
          "shell.execute_reply.started": "2023-05-29T15:04:09.787848Z",
          "shell.execute_reply": "2023-05-29T15:04:09.791080Z"
        },
        "trusted": true,
        "id": "pTUi9eleCdCU"
      },
      "execution_count": null,
      "outputs": []
    },
    {
      "cell_type": "code",
      "source": [
        "df_train.groupby(['HomePlanet', 'Destination']).count()"
      ],
      "metadata": {
        "execution": {
          "iopub.status.busy": "2023-05-29T15:04:09.793775Z",
          "iopub.execute_input": "2023-05-29T15:04:09.794040Z",
          "iopub.status.idle": "2023-05-29T15:04:09.826824Z",
          "shell.execute_reply.started": "2023-05-29T15:04:09.794015Z",
          "shell.execute_reply": "2023-05-29T15:04:09.825548Z"
        },
        "trusted": true,
        "id": "OXdbyFXyCdCV"
      },
      "execution_count": null,
      "outputs": []
    },
    {
      "cell_type": "code",
      "source": [
        "df_train.groupby(['HomePlanet', 'Destination']).CryoSleep.count()['Earth']['TRAPPIST-1e']"
      ],
      "metadata": {
        "execution": {
          "iopub.status.busy": "2023-05-29T15:04:09.828368Z",
          "iopub.execute_input": "2023-05-29T15:04:09.828813Z",
          "iopub.status.idle": "2023-05-29T15:04:09.843116Z",
          "shell.execute_reply.started": "2023-05-29T15:04:09.828773Z",
          "shell.execute_reply": "2023-05-29T15:04:09.841687Z"
        },
        "trusted": true,
        "id": "rWRdvzK1CdCV"
      },
      "execution_count": null,
      "outputs": []
    },
    {
      "cell_type": "code",
      "source": [
        "df_train.groupby(['HomePlanet', 'Destination', 'CryoSleep']).count()"
      ],
      "metadata": {
        "execution": {
          "iopub.status.busy": "2023-05-29T15:04:09.844396Z",
          "iopub.execute_input": "2023-05-29T15:04:09.844726Z",
          "iopub.status.idle": "2023-05-29T15:04:09.870438Z",
          "shell.execute_reply.started": "2023-05-29T15:04:09.844694Z",
          "shell.execute_reply": "2023-05-29T15:04:09.869151Z"
        },
        "trusted": true,
        "id": "DMR4LBycCdCV"
      },
      "execution_count": null,
      "outputs": []
    },
    {
      "cell_type": "code",
      "source": [
        "df_train.groupby(['HomePlanet', 'CryoSleep', 'Destination']).count()"
      ],
      "metadata": {
        "execution": {
          "iopub.status.busy": "2023-05-29T15:04:09.872213Z",
          "iopub.execute_input": "2023-05-29T15:04:09.872533Z",
          "iopub.status.idle": "2023-05-29T15:04:09.898323Z",
          "shell.execute_reply.started": "2023-05-29T15:04:09.872505Z",
          "shell.execute_reply": "2023-05-29T15:04:09.897054Z"
        },
        "trusted": true,
        "id": "Cr-hyoayCdCW"
      },
      "execution_count": null,
      "outputs": []
    },
    {
      "cell_type": "code",
      "source": [
        "sns.catplot(data = df_train, x = 'HomePlanet', hue = 'Destination', col = 'CryoSleep', kind = 'count')\n",
        "None"
      ],
      "metadata": {
        "execution": {
          "iopub.status.busy": "2023-05-29T15:04:09.900692Z",
          "iopub.execute_input": "2023-05-29T15:04:09.902310Z",
          "iopub.status.idle": "2023-05-29T15:04:10.695381Z",
          "shell.execute_reply.started": "2023-05-29T15:04:09.902261Z",
          "shell.execute_reply": "2023-05-29T15:04:10.694121Z"
        },
        "trusted": true,
        "id": "5pM4eskxCdCW"
      },
      "execution_count": null,
      "outputs": []
    },
    {
      "cell_type": "markdown",
      "source": [
        "### Attempt to fill in missing data by percentages later"
      ],
      "metadata": {
        "id": "q4CdgQtNCdCX"
      }
    },
    {
      "cell_type": "code",
      "source": [
        "## make distributions of situations and get percentages"
      ],
      "metadata": {
        "execution": {
          "iopub.status.busy": "2023-05-29T15:04:10.697393Z",
          "iopub.execute_input": "2023-05-29T15:04:10.697863Z",
          "iopub.status.idle": "2023-05-29T15:04:10.704130Z",
          "shell.execute_reply.started": "2023-05-29T15:04:10.697826Z",
          "shell.execute_reply": "2023-05-29T15:04:10.702288Z"
        },
        "trusted": true,
        "id": "Jn-ZMsHbCdCf"
      },
      "execution_count": null,
      "outputs": []
    },
    {
      "cell_type": "code",
      "source": [
        "df['HomePlanet'].unique()[0:3]"
      ],
      "metadata": {
        "execution": {
          "iopub.status.busy": "2023-05-29T15:04:10.711927Z",
          "iopub.execute_input": "2023-05-29T15:04:10.712717Z",
          "iopub.status.idle": "2023-05-29T15:04:10.719680Z",
          "shell.execute_reply.started": "2023-05-29T15:04:10.712680Z",
          "shell.execute_reply": "2023-05-29T15:04:10.718423Z"
        },
        "trusted": true,
        "id": "SF_BnRlwCdCg"
      },
      "execution_count": null,
      "outputs": []
    },
    {
      "cell_type": "code",
      "source": [
        "# for df in dfs:\n",
        "#     for home in df['HomePlanet'].unique()[0:3]:\n",
        "#         for destin df['Destination'].unique()[0:3]:\n",
        "#             null_count = df[]"
      ],
      "metadata": {
        "execution": {
          "iopub.status.busy": "2023-05-29T15:04:10.721988Z",
          "iopub.execute_input": "2023-05-29T15:04:10.722529Z",
          "iopub.status.idle": "2023-05-29T15:04:10.732301Z",
          "shell.execute_reply.started": "2023-05-29T15:04:10.722480Z",
          "shell.execute_reply": "2023-05-29T15:04:10.730817Z"
        },
        "trusted": true,
        "id": "nv7AnrN8CdCh"
      },
      "execution_count": null,
      "outputs": []
    },
    {
      "cell_type": "code",
      "source": [
        "df_train.groupby(['HomePlanet', 'Destination']).count()"
      ],
      "metadata": {
        "execution": {
          "iopub.status.busy": "2023-05-29T15:04:10.733771Z",
          "iopub.execute_input": "2023-05-29T15:04:10.734140Z",
          "iopub.status.idle": "2023-05-29T15:04:10.762971Z",
          "shell.execute_reply.started": "2023-05-29T15:04:10.734105Z",
          "shell.execute_reply": "2023-05-29T15:04:10.761160Z"
        },
        "trusted": true,
        "id": "NudCDUKdCdCh"
      },
      "execution_count": null,
      "outputs": []
    },
    {
      "cell_type": "code",
      "source": [
        "df_train.loc[(df_train.HomePlanet == 'Earth') & (df_train.Destination == 'TRAPPIST-1e')].CryoSleep"
      ],
      "metadata": {
        "execution": {
          "iopub.status.busy": "2023-05-29T15:04:10.764760Z",
          "iopub.execute_input": "2023-05-29T15:04:10.766028Z",
          "iopub.status.idle": "2023-05-29T15:04:10.781546Z",
          "shell.execute_reply.started": "2023-05-29T15:04:10.765950Z",
          "shell.execute_reply": "2023-05-29T15:04:10.779861Z"
        },
        "trusted": true,
        "id": "HZoy2ABPCdCi"
      },
      "execution_count": null,
      "outputs": []
    },
    {
      "cell_type": "code",
      "source": [
        "df_train.loc[(df_train.HomePlanet == 'Earth') & (df_train.Destination == 'TRAPPIST-1e') & (df_train.CryoSleep == False)]"
      ],
      "metadata": {
        "execution": {
          "iopub.status.busy": "2023-05-29T15:04:10.783145Z",
          "iopub.execute_input": "2023-05-29T15:04:10.783545Z",
          "iopub.status.idle": "2023-05-29T15:04:10.819882Z",
          "shell.execute_reply.started": "2023-05-29T15:04:10.783511Z",
          "shell.execute_reply": "2023-05-29T15:04:10.818254Z"
        },
        "trusted": true,
        "id": "w96vPEnkCdCi"
      },
      "execution_count": null,
      "outputs": []
    },
    {
      "cell_type": "code",
      "source": [
        "df_train.loc[(df_train.HomePlanet == 'Earth') & (df_train.Destination == 'TRAPPIST-1e') & (df_train.CryoSleep == False)].shape[0]"
      ],
      "metadata": {
        "execution": {
          "iopub.status.busy": "2023-05-29T15:04:10.821196Z",
          "iopub.execute_input": "2023-05-29T15:04:10.821934Z",
          "iopub.status.idle": "2023-05-29T15:04:10.837049Z",
          "shell.execute_reply.started": "2023-05-29T15:04:10.821896Z",
          "shell.execute_reply": "2023-05-29T15:04:10.835903Z"
        },
        "trusted": true,
        "id": "JAS1Q8nVCdCj"
      },
      "execution_count": null,
      "outputs": []
    },
    {
      "cell_type": "code",
      "source": [
        "df_train.loc[(df_train.HomePlanet == 'Earth') & (df_train.Destination == 'TRAPPIST-1e')].CryoSleep"
      ],
      "metadata": {
        "execution": {
          "iopub.status.busy": "2023-05-29T15:04:10.838696Z",
          "iopub.execute_input": "2023-05-29T15:04:10.839423Z",
          "iopub.status.idle": "2023-05-29T15:04:10.853823Z",
          "shell.execute_reply.started": "2023-05-29T15:04:10.839344Z",
          "shell.execute_reply": "2023-05-29T15:04:10.852807Z"
        },
        "trusted": true,
        "id": "3qkH7IrZCdCj"
      },
      "execution_count": null,
      "outputs": []
    },
    {
      "cell_type": "code",
      "source": [
        "def fill_in(df, Home, Dest, Cryo):\n",
        "    return df.loc[(df.HomePlanet == Home) & (df.Destination == Dest) & (df.CryoSleep == Cryo)].shape[0]"
      ],
      "metadata": {
        "execution": {
          "iopub.status.busy": "2023-05-29T15:04:10.855620Z",
          "iopub.execute_input": "2023-05-29T15:04:10.856497Z",
          "iopub.status.idle": "2023-05-29T15:04:10.866607Z",
          "shell.execute_reply.started": "2023-05-29T15:04:10.856429Z",
          "shell.execute_reply": "2023-05-29T15:04:10.865070Z"
        },
        "trusted": true,
        "id": "AP_cU6O2CdCj"
      },
      "execution_count": null,
      "outputs": []
    },
    {
      "cell_type": "code",
      "source": [
        "fill_in(df = df_train, Home = 'Earth', Dest = 'TRAPPIST-1e', Cryo = False)"
      ],
      "metadata": {
        "execution": {
          "iopub.status.busy": "2023-05-29T15:04:10.868031Z",
          "iopub.execute_input": "2023-05-29T15:04:10.868710Z",
          "iopub.status.idle": "2023-05-29T15:04:10.884740Z",
          "shell.execute_reply.started": "2023-05-29T15:04:10.868679Z",
          "shell.execute_reply": "2023-05-29T15:04:10.883810Z"
        },
        "trusted": true,
        "id": "kdd7zm31CdCk"
      },
      "execution_count": null,
      "outputs": []
    },
    {
      "cell_type": "markdown",
      "source": [
        "### Fill in missing data with mode (easier method)"
      ],
      "metadata": {
        "id": "9z3d-eKBCdCk"
      }
    },
    {
      "cell_type": "code",
      "source": [
        "for df in dfs:\n",
        "    for feat in ['HomePlanet', 'Destination', 'CryoSleep']:\n",
        "        df[feat] = df[feat].fillna(df[feat].mode()[0])"
      ],
      "metadata": {
        "execution": {
          "iopub.status.busy": "2023-05-29T15:04:10.885920Z",
          "iopub.execute_input": "2023-05-29T15:04:10.886526Z",
          "iopub.status.idle": "2023-05-29T15:04:10.909009Z",
          "shell.execute_reply.started": "2023-05-29T15:04:10.886493Z",
          "shell.execute_reply": "2023-05-29T15:04:10.907997Z"
        },
        "trusted": true,
        "id": "Us00I_WhCdCl"
      },
      "execution_count": null,
      "outputs": []
    },
    {
      "cell_type": "code",
      "source": [
        "for df in dfs: ## drop features\n",
        "    df.drop(['Name', 'Cabin'], inplace = True, axis=1)"
      ],
      "metadata": {
        "execution": {
          "iopub.status.busy": "2023-05-29T15:04:10.910903Z",
          "iopub.execute_input": "2023-05-29T15:04:10.911624Z",
          "iopub.status.idle": "2023-05-29T15:04:10.920325Z",
          "shell.execute_reply.started": "2023-05-29T15:04:10.911582Z",
          "shell.execute_reply": "2023-05-29T15:04:10.919390Z"
        },
        "trusted": true,
        "id": "pxAebwwECdCl"
      },
      "execution_count": null,
      "outputs": []
    },
    {
      "cell_type": "code",
      "source": [
        "for df in dfs: ## drop features\n",
        "    df.drop(['PassengerId'], inplace = True, axis=1)"
      ],
      "metadata": {
        "execution": {
          "iopub.status.busy": "2023-05-29T15:04:10.921776Z",
          "iopub.execute_input": "2023-05-29T15:04:10.922351Z",
          "iopub.status.idle": "2023-05-29T15:04:10.934257Z",
          "shell.execute_reply.started": "2023-05-29T15:04:10.922317Z",
          "shell.execute_reply": "2023-05-29T15:04:10.933049Z"
        },
        "trusted": true,
        "id": "G0hEMkRsCdCl"
      },
      "execution_count": null,
      "outputs": []
    },
    {
      "cell_type": "code",
      "source": [
        "for df in dfs:\n",
        "    print(f'{df.name}')\n",
        "    display_missing(df)"
      ],
      "metadata": {
        "execution": {
          "iopub.status.busy": "2023-05-29T15:04:10.935832Z",
          "iopub.execute_input": "2023-05-29T15:04:10.936151Z",
          "iopub.status.idle": "2023-05-29T15:04:10.958404Z",
          "shell.execute_reply.started": "2023-05-29T15:04:10.936120Z",
          "shell.execute_reply": "2023-05-29T15:04:10.956937Z"
        },
        "trusted": true,
        "id": "8pfs_eUKCdCm"
      },
      "execution_count": null,
      "outputs": []
    },
    {
      "cell_type": "markdown",
      "source": [
        "## Feature Transformation"
      ],
      "metadata": {
        "id": "GSb4yigqCdCm"
      }
    },
    {
      "cell_type": "code",
      "source": [
        "df_train.head(5)"
      ],
      "metadata": {
        "execution": {
          "iopub.status.busy": "2023-05-29T15:04:10.960280Z",
          "iopub.execute_input": "2023-05-29T15:04:10.961099Z",
          "iopub.status.idle": "2023-05-29T15:04:10.988043Z",
          "shell.execute_reply.started": "2023-05-29T15:04:10.961049Z",
          "shell.execute_reply": "2023-05-29T15:04:10.986863Z"
        },
        "trusted": true,
        "id": "qt35li90CdCn"
      },
      "execution_count": null,
      "outputs": []
    },
    {
      "cell_type": "code",
      "source": [
        "cts_features = df_train.describe().columns\n",
        "cts_features"
      ],
      "metadata": {
        "execution": {
          "iopub.status.busy": "2023-05-29T15:04:10.989384Z",
          "iopub.execute_input": "2023-05-29T15:04:10.990009Z",
          "iopub.status.idle": "2023-05-29T15:04:11.017380Z",
          "shell.execute_reply.started": "2023-05-29T15:04:10.989979Z",
          "shell.execute_reply": "2023-05-29T15:04:11.015350Z"
        },
        "trusted": true,
        "id": "RJx17aR5CdCn"
      },
      "execution_count": null,
      "outputs": []
    },
    {
      "cell_type": "code",
      "source": [
        "cat_features = df_train.drop(['Transported'], axis = 1).describe(exclude = [np.number]).columns\n",
        "cat_features"
      ],
      "metadata": {
        "execution": {
          "iopub.status.busy": "2023-05-29T15:04:11.018919Z",
          "iopub.execute_input": "2023-05-29T15:04:11.019226Z",
          "iopub.status.idle": "2023-05-29T15:04:11.037777Z",
          "shell.execute_reply.started": "2023-05-29T15:04:11.019199Z",
          "shell.execute_reply": "2023-05-29T15:04:11.036340Z"
        },
        "trusted": true,
        "id": "SL4G-b_BCdCo"
      },
      "execution_count": null,
      "outputs": []
    },
    {
      "cell_type": "code",
      "source": [
        "y_train = df_train['Transported'].values"
      ],
      "metadata": {
        "execution": {
          "iopub.status.busy": "2023-05-29T15:04:11.039635Z",
          "iopub.execute_input": "2023-05-29T15:04:11.039922Z",
          "iopub.status.idle": "2023-05-29T15:04:11.050981Z",
          "shell.execute_reply.started": "2023-05-29T15:04:11.039884Z",
          "shell.execute_reply": "2023-05-29T15:04:11.049619Z"
        },
        "trusted": true,
        "id": "SJ9lXPGbCdCo"
      },
      "execution_count": null,
      "outputs": []
    },
    {
      "cell_type": "code",
      "source": [
        "y_train"
      ],
      "metadata": {
        "execution": {
          "iopub.status.busy": "2023-05-29T15:04:11.052416Z",
          "iopub.execute_input": "2023-05-29T15:04:11.052761Z",
          "iopub.status.idle": "2023-05-29T15:04:11.068085Z",
          "shell.execute_reply.started": "2023-05-29T15:04:11.052732Z",
          "shell.execute_reply": "2023-05-29T15:04:11.066919Z"
        },
        "trusted": true,
        "id": "JTsnies3CdCw"
      },
      "execution_count": null,
      "outputs": []
    },
    {
      "cell_type": "code",
      "source": [
        "# X_train = df_train.drop(['Transported'], axis=1)\n",
        "# X_test = df_test.copy()"
      ],
      "metadata": {
        "execution": {
          "iopub.status.busy": "2023-05-29T15:04:11.069345Z",
          "iopub.execute_input": "2023-05-29T15:04:11.069721Z",
          "iopub.status.idle": "2023-05-29T15:04:11.082167Z",
          "shell.execute_reply.started": "2023-05-29T15:04:11.069676Z",
          "shell.execute_reply": "2023-05-29T15:04:11.080540Z"
        },
        "trusted": true,
        "id": "WbxWwaq4CdCw"
      },
      "execution_count": null,
      "outputs": []
    },
    {
      "cell_type": "code",
      "source": [
        "df_train.shape"
      ],
      "metadata": {
        "execution": {
          "iopub.status.busy": "2023-05-29T15:04:11.084212Z",
          "iopub.execute_input": "2023-05-29T15:04:11.085135Z",
          "iopub.status.idle": "2023-05-29T15:04:11.096886Z",
          "shell.execute_reply.started": "2023-05-29T15:04:11.085087Z",
          "shell.execute_reply": "2023-05-29T15:04:11.095801Z"
        },
        "trusted": true,
        "id": "vsczPFpBCdCx"
      },
      "execution_count": null,
      "outputs": []
    },
    {
      "cell_type": "code",
      "source": [
        "ct = ColumnTransformer(\n",
        "    [(\"scaling\", StandardScaler(), cts_features),\n",
        "     (\"onehot\", OneHotEncoder(), cat_features)])\n",
        "# ct = ColumnTransformer(\n",
        "#     [(\"scaling\", MinMaxScaler(), cts_features),\n",
        "#      (\"onehot\", OneHotEncoder(), cat_features)])"
      ],
      "metadata": {
        "execution": {
          "iopub.status.busy": "2023-05-29T15:04:11.098317Z",
          "iopub.execute_input": "2023-05-29T15:04:11.098671Z",
          "iopub.status.idle": "2023-05-29T15:04:11.109301Z",
          "shell.execute_reply.started": "2023-05-29T15:04:11.098642Z",
          "shell.execute_reply": "2023-05-29T15:04:11.108260Z"
        },
        "trusted": true,
        "id": "XXckA1peCdCz"
      },
      "execution_count": null,
      "outputs": []
    },
    {
      "cell_type": "code",
      "source": [
        "from sklearn.model_selection import train_test_split"
      ],
      "metadata": {
        "execution": {
          "iopub.status.busy": "2023-05-29T15:04:11.110634Z",
          "iopub.execute_input": "2023-05-29T15:04:11.110943Z",
          "iopub.status.idle": "2023-05-29T15:04:11.123365Z",
          "shell.execute_reply.started": "2023-05-29T15:04:11.110915Z",
          "shell.execute_reply": "2023-05-29T15:04:11.122114Z"
        },
        "trusted": true,
        "id": "k_iMpEpNCdCz"
      },
      "execution_count": null,
      "outputs": []
    },
    {
      "cell_type": "code",
      "source": [
        "X_train_full, y_train_full = df_train, y_train\n",
        "# X_train, X_val, y_train, y_val = train_test_split(X_train_full, y_train_full, shuffle = False)"
      ],
      "metadata": {
        "execution": {
          "iopub.status.busy": "2023-05-29T15:04:11.124876Z",
          "iopub.execute_input": "2023-05-29T15:04:11.125184Z",
          "iopub.status.idle": "2023-05-29T15:04:11.135273Z",
          "shell.execute_reply.started": "2023-05-29T15:04:11.125154Z",
          "shell.execute_reply": "2023-05-29T15:04:11.134473Z"
        },
        "trusted": true,
        "id": "A8gxLaIgCdC0"
      },
      "execution_count": null,
      "outputs": []
    },
    {
      "cell_type": "code",
      "source": [
        "# print(X_train_full.shape)\n",
        "# print(y_train_full.shape)\n",
        "# print(X_train.shape)\n",
        "# print(X_val.shape)\n",
        "# print(y_train.shape)\n",
        "# print(y_val.shape)"
      ],
      "metadata": {
        "execution": {
          "iopub.status.busy": "2023-05-29T15:04:11.136843Z",
          "iopub.execute_input": "2023-05-29T15:04:11.137167Z",
          "iopub.status.idle": "2023-05-29T15:04:11.148431Z",
          "shell.execute_reply.started": "2023-05-29T15:04:11.137137Z",
          "shell.execute_reply": "2023-05-29T15:04:11.147405Z"
        },
        "trusted": true,
        "id": "Fe-YDocGCdC0"
      },
      "execution_count": null,
      "outputs": []
    },
    {
      "cell_type": "code",
      "source": [
        "# X_train = ct.fit_transform(X_train.drop(['Transported'], axis=1))\n",
        "X_train_full = ct.fit_transform(X_train_full.drop(['Transported'], axis=1))"
      ],
      "metadata": {
        "execution": {
          "iopub.status.busy": "2023-05-29T15:04:11.149774Z",
          "iopub.execute_input": "2023-05-29T15:04:11.150192Z",
          "iopub.status.idle": "2023-05-29T15:04:11.178620Z",
          "shell.execute_reply.started": "2023-05-29T15:04:11.150156Z",
          "shell.execute_reply": "2023-05-29T15:04:11.177485Z"
        },
        "trusted": true,
        "id": "qwppy5D7CdC1"
      },
      "execution_count": null,
      "outputs": []
    },
    {
      "cell_type": "code",
      "source": [
        "ct.get_feature_names_out()"
      ],
      "metadata": {
        "execution": {
          "iopub.status.busy": "2023-05-29T15:04:11.181062Z",
          "iopub.execute_input": "2023-05-29T15:04:11.181486Z",
          "iopub.status.idle": "2023-05-29T15:04:11.189176Z",
          "shell.execute_reply.started": "2023-05-29T15:04:11.181424Z",
          "shell.execute_reply": "2023-05-29T15:04:11.187726Z"
        },
        "trusted": true,
        "id": "k53NqFpOCdC1"
      },
      "execution_count": null,
      "outputs": []
    },
    {
      "cell_type": "code",
      "source": [
        "# X_val = ct.transform(X_val.drop(['Transported'], axis=1))"
      ],
      "metadata": {
        "execution": {
          "iopub.status.busy": "2023-05-29T15:04:11.190765Z",
          "iopub.execute_input": "2023-05-29T15:04:11.191198Z",
          "iopub.status.idle": "2023-05-29T15:04:11.201384Z",
          "shell.execute_reply.started": "2023-05-29T15:04:11.191154Z",
          "shell.execute_reply": "2023-05-29T15:04:11.200189Z"
        },
        "trusted": true,
        "id": "Im-37KyKCdC2"
      },
      "execution_count": null,
      "outputs": []
    },
    {
      "cell_type": "code",
      "source": [
        "X_test = ct.transform(df_test)"
      ],
      "metadata": {
        "execution": {
          "iopub.status.busy": "2023-05-29T15:04:11.202532Z",
          "iopub.execute_input": "2023-05-29T15:04:11.202971Z",
          "iopub.status.idle": "2023-05-29T15:04:11.224001Z",
          "shell.execute_reply.started": "2023-05-29T15:04:11.202914Z",
          "shell.execute_reply": "2023-05-29T15:04:11.221860Z"
        },
        "trusted": true,
        "id": "utlKKnyXCdC2"
      },
      "execution_count": null,
      "outputs": []
    },
    {
      "cell_type": "code",
      "source": [
        "X_test.shape"
      ],
      "metadata": {
        "execution": {
          "iopub.status.busy": "2023-05-29T15:04:11.225737Z",
          "iopub.execute_input": "2023-05-29T15:04:11.226167Z",
          "iopub.status.idle": "2023-05-29T15:04:11.234513Z",
          "shell.execute_reply.started": "2023-05-29T15:04:11.226121Z",
          "shell.execute_reply": "2023-05-29T15:04:11.233127Z"
        },
        "trusted": true,
        "id": "jLl9Rr0NCdC2"
      },
      "execution_count": null,
      "outputs": []
    },
    {
      "cell_type": "markdown",
      "source": [
        "## Modeling (Neural Network)"
      ],
      "metadata": {
        "id": "0sCQgfhwCdC3"
      }
    },
    {
      "cell_type": "code",
      "source": [
        "import time"
      ],
      "metadata": {
        "execution": {
          "iopub.status.busy": "2023-05-29T15:04:11.235742Z",
          "iopub.execute_input": "2023-05-29T15:04:11.236132Z",
          "iopub.status.idle": "2023-05-29T15:04:11.248175Z",
          "shell.execute_reply.started": "2023-05-29T15:04:11.236096Z",
          "shell.execute_reply": "2023-05-29T15:04:11.246679Z"
        },
        "trusted": true,
        "id": "ffDJuQTfCdC4"
      },
      "execution_count": null,
      "outputs": []
    },
    {
      "cell_type": "code",
      "source": [
        "# tic = time.perf_counter()\n",
        "# toc = time.perf_counter()\n",
        "# print((\"Elapsed time: %.2f [sec]\" % ((toc-tic))))\n",
        "# print((\"Elapsed time: %.2f [min]\" % ((toc-tic)/60)))"
      ],
      "metadata": {
        "execution": {
          "iopub.status.busy": "2023-05-29T15:04:11.249886Z",
          "iopub.execute_input": "2023-05-29T15:04:11.250230Z",
          "iopub.status.idle": "2023-05-29T15:04:11.263656Z",
          "shell.execute_reply.started": "2023-05-29T15:04:11.250198Z",
          "shell.execute_reply": "2023-05-29T15:04:11.261584Z"
        },
        "trusted": true,
        "id": "TP0hDEZZCdC4"
      },
      "execution_count": null,
      "outputs": []
    },
    {
      "cell_type": "code",
      "source": [
        "import pandas as pd\n",
        "\n",
        "from sklearn.model_selection import train_test_split\n",
        "from sklearn.preprocessing import StandardScaler, OneHotEncoder\n",
        "from sklearn.impute import SimpleImputer\n",
        "from sklearn.pipeline import make_pipeline\n",
        "from sklearn.compose import make_column_transformer\n",
        "from sklearn.ensemble import BaggingClassifier\n",
        "\n",
        "from tensorflow import keras\n",
        "from tensorflow.keras import layers\n",
        "import keras_tuner"
      ],
      "metadata": {
        "execution": {
          "iopub.status.busy": "2023-05-29T15:04:11.265537Z",
          "iopub.execute_input": "2023-05-29T15:04:11.266239Z",
          "iopub.status.idle": "2023-05-29T15:04:21.525581Z",
          "shell.execute_reply.started": "2023-05-29T15:04:11.266199Z",
          "shell.execute_reply": "2023-05-29T15:04:21.523803Z"
        },
        "trusted": true,
        "id": "y3vAri66CdC4"
      },
      "execution_count": null,
      "outputs": []
    },
    {
      "cell_type": "code",
      "source": [
        "# def build_model(hp):\n",
        "#     \"\"\"\n",
        "#     sequential model with relu act. fct. and Batch norm.\n",
        "#     \"\"\"\n",
        "# #     input_shape = [X_train.shape[1]]\n",
        "#     model = keras.Sequential([\n",
        "# #         layers.BatchNormalization(input_shape = input_shape),\n",
        "#         layers.BatchNormalization(),\n",
        "\n",
        "#         layers.Dense(256, activation = 'relu', kernel_initializer = keras.initializers.HeNormal()),## elu or relu act fct\n",
        "#         layers.BatchNormalization(),\n",
        "#         layers.Dropout(0.3),\n",
        "\n",
        "#         layers.Dense(256, activation = 'relu', kernel_initializer = keras.initializers.HeNormal()),\n",
        "#         layers.BatchNormalization(),\n",
        "#         layers.Dropout(0.3),\n",
        "\n",
        "#         layers.Dense(1, activation = 'sigmoid')\n",
        "\n",
        "#     ])\n",
        "#     lr = hp.Float('lr', min_value = 1e-4, max_value = 1e-2, sampling = 'log')\n",
        "#     learning_sched = keras.optimizers.schedules.ExponentialDecay(\n",
        "#         initial_learning_rate = lr,\n",
        "#         decay_steps=100000,\n",
        "#         decay_rate=0.96,\n",
        "#         staircase=True)\n",
        "#     model.compile(\n",
        "#         optimizer=keras.optimizers.Nadam(learning_rate= learning_sched),#'Nadam',\n",
        "#         loss='binary_crossentropy',\n",
        "#         metrics=['binary_accuracy'],\n",
        "#     )\n",
        "\n",
        "#     return model\n",
        "# # build_model(keras_tuner.HyperParameters())\n",
        "# # model.summary()"
      ],
      "metadata": {
        "execution": {
          "iopub.status.busy": "2023-05-29T15:04:21.527204Z",
          "iopub.execute_input": "2023-05-29T15:04:21.527846Z",
          "iopub.status.idle": "2023-05-29T15:04:21.536547Z",
          "shell.execute_reply.started": "2023-05-29T15:04:21.527811Z",
          "shell.execute_reply": "2023-05-29T15:04:21.534579Z"
        },
        "trusted": true,
        "id": "ZZGk4zUtCdC5"
      },
      "execution_count": null,
      "outputs": []
    },
    {
      "cell_type": "code",
      "source": [
        "# def build_model(hp):\n",
        "#     \"\"\"\n",
        "#     sequential model w/ self-norm layers via selu act. fct. w/ alpha dropout\n",
        "#     \"\"\"\n",
        "# #     input_shape = [X_train.shape[1]]\n",
        "#     model = keras.Sequential([\n",
        "#         layers.BatchNormalization(),\n",
        "\n",
        "#         layers.Dense(256, activation = 'selu', kernel_initializer = keras.initializers.lecun_normal()),\n",
        "#         layers.AlphaDropout(0.3),\n",
        "\n",
        "#         layers.Dense(256, activation = 'selu', kernel_initializer = keras.initializers.lecun_normal()),\n",
        "#         layers.AlphaDropout(0.3),\n",
        "\n",
        "#         layers.Dense(1, activation = 'sigmoid')\n",
        "\n",
        "#     ])\n",
        "#     lr = hp.Float('lr', min_value = 1e-4, max_value = 1e-2, sampling = 'log')\n",
        "#     learning_sched = keras.optimizers.schedules.ExponentialDecay(\n",
        "#         initial_learning_rate = lr,\n",
        "#         decay_steps=100000,\n",
        "#         decay_rate=0.96,\n",
        "#         staircase=True)\n",
        "#     model.compile(\n",
        "#         optimizer=keras.optimizers.Nadam(learning_rate= learning_sched),#'Nadam',\n",
        "#         loss='binary_crossentropy',\n",
        "#         metrics=['binary_accuracy'],\n",
        "#     )\n",
        "\n",
        "#     return model\n",
        "# # build_model(keras_tuner.HyperParameters())\n",
        "# # model.summary()"
      ],
      "metadata": {
        "execution": {
          "iopub.status.busy": "2023-05-29T15:04:21.538070Z",
          "iopub.execute_input": "2023-05-29T15:04:21.538504Z",
          "iopub.status.idle": "2023-05-29T15:04:21.556082Z",
          "shell.execute_reply.started": "2023-05-29T15:04:21.538439Z",
          "shell.execute_reply": "2023-05-29T15:04:21.555147Z"
        },
        "trusted": true,
        "id": "KJ_2pQFrCdC_"
      },
      "execution_count": null,
      "outputs": []
    },
    {
      "cell_type": "code",
      "source": [
        "# def build_model(hp):\n",
        "#     \"\"\"\n",
        "#     functional (API) model that is wide (simple rules) and deep (complex rules). Note: cannot use selu b/c network contains skip\n",
        "#     connections\n",
        "#     \"\"\"\n",
        "#     input = keras.layers.Input(shape=X_train_full.shape[1])\n",
        "\n",
        "#     BN0 = layers.BatchNormalization()(input)\n",
        "\n",
        "#     D1 = layers.Dense(256, activation = 'relu', kernel_initializer = keras.initializers.HeNormal())(BN0)## elu or relu act fct\n",
        "#     BN1 = layers.BatchNormalization()(D1)\n",
        "#     DO1 = layers.Dropout(0.3)(BN1)\n",
        "\n",
        "#     D2 = layers.Dense(256, activation = 'relu', kernel_initializer = keras.initializers.HeNormal())(DO1)\n",
        "#     BN2 = layers.BatchNormalization()(D2)\n",
        "#     DO2 = layers.Dropout(0.3)(BN2)\n",
        "\n",
        "#     concat = keras.layers.Concatenate()([input, DO2])\n",
        "#     output = layers.Dense(1, activation = 'sigmoid')(concat)\n",
        "#     model = keras.models.Model(inputs=[input], outputs=[output])\n",
        "\n",
        "#     lr = hp.Float('lr', min_value = 1e-4, max_value = 1e-2, sampling = 'log')\n",
        "#     learning_sched = keras.optimizers.schedules.ExponentialDecay(\n",
        "#         initial_learning_rate = lr,\n",
        "#         decay_steps=100000,\n",
        "#         decay_rate=0.96,\n",
        "#         staircase=True)\n",
        "#     model.compile(\n",
        "#         optimizer=keras.optimizers.Nadam(learning_rate= learning_sched),#'Nadam',\n",
        "#         loss='binary_crossentropy',\n",
        "#         metrics=['binary_accuracy'],\n",
        "#     )\n",
        "\n",
        "#     return model\n",
        "# # build_model(keras_tuner.HyperParameters())\n",
        "# # model.summary()"
      ],
      "metadata": {
        "execution": {
          "iopub.status.busy": "2023-05-29T15:04:21.557176Z",
          "iopub.execute_input": "2023-05-29T15:04:21.558208Z",
          "iopub.status.idle": "2023-05-29T15:04:21.579530Z",
          "shell.execute_reply.started": "2023-05-29T15:04:21.558147Z",
          "shell.execute_reply": "2023-05-29T15:04:21.577234Z"
        },
        "trusted": true,
        "id": "hW2VSLx7CdDA"
      },
      "execution_count": null,
      "outputs": []
    },
    {
      "cell_type": "code",
      "source": [
        "def build_model(hp):\n",
        "    \"\"\"\n",
        "    functional (API) model that is wide (simple rules) and deep (complex rules). Note: cannot use selu b/c network contains skip\n",
        "    connections. More tuning hyperparameters.\n",
        "    \"\"\"\n",
        "    lr = hp.Float('lr', min_value = 1e-4, max_value = 1e-2, sampling = 'log')\n",
        "    units = hp.Int(\"units\", min_value=32, max_value=512, step=32, default = 64)\n",
        "    hidden_layers = hp.Int(\"layers\", min_value=1, max_value=4, step=1, default = 2)\n",
        "    dropout = hp.Float('do', min_value = 0.2, max_value = 0.5, step = 0.05, default = 0.3)\n",
        "\n",
        "    input = keras.layers.Input(shape=X_train_full.shape[1])\n",
        "    BN0 = layers.BatchNormalization()(input)\n",
        "    layer_names = [BN0, 'HL1', 'HL2', 'HL3', 'HL4']\n",
        "    for layer in range(1,hidden_layers+1):\n",
        "        layer_names[layer] = layers.Dense(units, activation = 'relu', kernel_initializer = keras.initializers.HeNormal())(layer_names[layer - 1])\n",
        "        BN = layers.BatchNormalization()(layer_names[layer])\n",
        "        layer_names[layer] = layers.Dropout(dropout)(BN)\n",
        "\n",
        "\n",
        "    concat = keras.layers.Concatenate()([input, layer_names[layer]])\n",
        "    output = layers.Dense(1, activation = 'sigmoid')(concat)\n",
        "    model = keras.models.Model(inputs=[input], outputs=[output])\n",
        "\n",
        "    learning_sched = keras.optimizers.schedules.ExponentialDecay(\n",
        "        initial_learning_rate = lr,\n",
        "        decay_steps=100000,\n",
        "        decay_rate=0.96,\n",
        "        staircase=True)\n",
        "    model.compile(\n",
        "        optimizer=keras.optimizers.Nadam(learning_rate= learning_sched),#'Nadam',\n",
        "        loss='binary_crossentropy',\n",
        "        metrics=['binary_accuracy'],\n",
        "    )\n",
        "\n",
        "    return model\n",
        "# build_model(keras_tuner.HyperParameters())\n",
        "# model.summary()"
      ],
      "metadata": {
        "execution": {
          "iopub.status.busy": "2023-05-29T17:47:19.846364Z",
          "iopub.execute_input": "2023-05-29T17:47:19.846797Z",
          "iopub.status.idle": "2023-05-29T17:47:19.860892Z",
          "shell.execute_reply.started": "2023-05-29T17:47:19.846759Z",
          "shell.execute_reply": "2023-05-29T17:47:19.859162Z"
        },
        "trusted": true,
        "id": "xwF_8PVSCdDA"
      },
      "execution_count": null,
      "outputs": []
    },
    {
      "cell_type": "code",
      "source": [
        "tuner = keras_tuner.BayesianOptimization(\n",
        "    hypermodel= build_model,\n",
        "    objective='val_binary_accuracy',\n",
        "    max_trials=20,\n",
        "    # if True, overwrite above directory if search is run again - i.e. don't resume\n",
        "    overwrite = True)"
      ],
      "metadata": {
        "execution": {
          "iopub.status.busy": "2023-05-29T17:47:21.070891Z",
          "iopub.execute_input": "2023-05-29T17:47:21.071287Z",
          "iopub.status.idle": "2023-05-29T17:47:21.166439Z",
          "shell.execute_reply.started": "2023-05-29T17:47:21.071252Z",
          "shell.execute_reply": "2023-05-29T17:47:21.165050Z"
        },
        "trusted": true,
        "id": "nQ_nyMxLCdDB"
      },
      "execution_count": null,
      "outputs": []
    },
    {
      "cell_type": "code",
      "source": [
        "tuner.search_space_summary()"
      ],
      "metadata": {
        "execution": {
          "iopub.status.busy": "2023-05-29T15:14:13.487039Z",
          "iopub.execute_input": "2023-05-29T15:14:13.487468Z",
          "iopub.status.idle": "2023-05-29T15:14:13.492830Z",
          "shell.execute_reply.started": "2023-05-29T15:14:13.487414Z",
          "shell.execute_reply": "2023-05-29T15:14:13.492030Z"
        },
        "trusted": true,
        "id": "nA0YlghmCdDB"
      },
      "execution_count": null,
      "outputs": []
    },
    {
      "cell_type": "code",
      "source": [
        "early_stopping = keras.callbacks.EarlyStopping(\n",
        "    monitor = 'val_loss', ## validation loss\n",
        "    patience=5,\n",
        "    min_delta=0.001,\n",
        "    restore_best_weights=True,\n",
        "    start_from_epoch = 20,\n",
        ")"
      ],
      "metadata": {
        "execution": {
          "iopub.status.busy": "2023-05-29T15:14:17.819779Z",
          "iopub.execute_input": "2023-05-29T15:14:17.820226Z",
          "iopub.status.idle": "2023-05-29T15:14:17.826840Z",
          "shell.execute_reply.started": "2023-05-29T15:14:17.820191Z",
          "shell.execute_reply": "2023-05-29T15:14:17.825547Z"
        },
        "trusted": true,
        "id": "pWwopmh5CdDC"
      },
      "execution_count": null,
      "outputs": []
    },
    {
      "cell_type": "code",
      "source": [
        "# tuner.search(x_train, y_train, epochs=2, validation_data=(x_val, y_val))\n",
        "tuner.search(X_train_full, y_train_full, validation_split=0.2, callbacks=[early_stopping])"
      ],
      "metadata": {
        "execution": {
          "iopub.status.busy": "2023-05-29T15:14:18.330323Z",
          "iopub.execute_input": "2023-05-29T15:14:18.330759Z",
          "iopub.status.idle": "2023-05-29T15:15:56.140692Z",
          "shell.execute_reply.started": "2023-05-29T15:14:18.330723Z",
          "shell.execute_reply": "2023-05-29T15:15:56.139243Z"
        },
        "trusted": true,
        "id": "mnzeZwYrCdDC"
      },
      "execution_count": null,
      "outputs": []
    },
    {
      "cell_type": "code",
      "source": [
        "# Get the top  models.\n",
        "models = tuner.get_best_models(num_models=5)\n",
        "# for model in models:\n",
        "#     model.build(input_shape = [None, X_train_full.shape[1]])\n",
        "#     model.summary()\n",
        "best_model = models[0]\n",
        "# Build the model.\n",
        "# Needed for `Sequential` without specified `input_shape`.\n",
        "# input_shape = [None, X_train_full.shape[1]]\n",
        "best_model.build(input_shape = [None, X_train_full.shape[1]])\n",
        "best_model.summary()"
      ],
      "metadata": {
        "execution": {
          "iopub.status.busy": "2023-05-29T15:15:56.142867Z",
          "iopub.execute_input": "2023-05-29T15:15:56.143202Z",
          "iopub.status.idle": "2023-05-29T15:15:58.261421Z",
          "shell.execute_reply.started": "2023-05-29T15:15:56.143171Z",
          "shell.execute_reply": "2023-05-29T15:15:58.259796Z"
        },
        "trusted": true,
        "id": "Whqugc8vCdDC"
      },
      "execution_count": null,
      "outputs": []
    },
    {
      "cell_type": "code",
      "source": [
        "tuner.results_summary()"
      ],
      "metadata": {
        "execution": {
          "iopub.status.busy": "2023-05-29T15:15:58.263089Z",
          "iopub.execute_input": "2023-05-29T15:15:58.263393Z",
          "iopub.status.idle": "2023-05-29T15:15:58.269045Z",
          "shell.execute_reply.started": "2023-05-29T15:15:58.263362Z",
          "shell.execute_reply": "2023-05-29T15:15:58.267721Z"
        },
        "trusted": true,
        "id": "aylofd00CdDD"
      },
      "execution_count": null,
      "outputs": []
    },
    {
      "cell_type": "code",
      "source": [
        "# Get the top 5 hyperparameters.\n",
        "best_hps = tuner.get_best_hyperparameters(5)\n",
        "# Build the model with the best hp.\n",
        "model = build_model(best_hps[0])\n",
        "# Fit with the entire dataset.\n",
        "# model.fit(X_train_full, y_train_full, epochs=1)\n",
        "# tensorboard_callback = keras.callbacks.TensorBoard(histogram_freq=1)\n",
        "history = model.fit(\n",
        "    X_train_full, y_train_full,\n",
        "#     validation_data=(X_val, y_val),\n",
        "    validation_split = 0.2,\n",
        "    batch_size=32,\n",
        "    epochs=100,\n",
        "    callbacks=[early_stopping]#, tensorboard_callback],\n",
        ")"
      ],
      "metadata": {
        "execution": {
          "iopub.status.busy": "2023-05-29T15:16:53.279064Z",
          "iopub.execute_input": "2023-05-29T15:16:53.279529Z",
          "iopub.status.idle": "2023-05-29T15:17:42.323963Z",
          "shell.execute_reply.started": "2023-05-29T15:16:53.279484Z",
          "shell.execute_reply": "2023-05-29T15:17:42.322653Z"
        },
        "trusted": true,
        "id": "2btkxx3sCdDD"
      },
      "execution_count": null,
      "outputs": []
    },
    {
      "cell_type": "code",
      "source": [
        "# %load_ext tensorboard\n",
        "# %reload_ext tensorboard\n",
        "# # %tensorboard --logdir logs\n",
        "# %tensorboard --logdir {logs_base_dir}  --host localhost"
      ],
      "metadata": {
        "execution": {
          "iopub.status.busy": "2023-05-26T14:20:06.522662Z",
          "iopub.status.idle": "2023-05-26T14:20:06.523377Z",
          "shell.execute_reply.started": "2023-05-26T14:20:06.523148Z",
          "shell.execute_reply": "2023-05-26T14:20:06.523173Z"
        },
        "trusted": true,
        "id": "zVgpjkQhCdDE"
      },
      "execution_count": null,
      "outputs": []
    },
    {
      "cell_type": "code",
      "source": [
        "# learning_sched = keras.optimizers.schedules.ExponentialDecay(\n",
        "#     initial_learning_rate = 0.001,\n",
        "#     decay_steps=100000,\n",
        "#     decay_rate=0.96,\n",
        "#     staircase=True)\n",
        "# model.compile(\n",
        "#     optimizer=keras.optimizers.Nadam(learning_rate= learning_sched),#'Nadam',\n",
        "#     loss='binary_crossentropy',\n",
        "#     metrics=['binary_accuracy'],\n",
        "# )"
      ],
      "metadata": {
        "execution": {
          "iopub.status.busy": "2023-05-26T14:20:06.525446Z",
          "iopub.status.idle": "2023-05-26T14:20:06.525964Z",
          "shell.execute_reply.started": "2023-05-26T14:20:06.525736Z",
          "shell.execute_reply": "2023-05-26T14:20:06.525761Z"
        },
        "trusted": true,
        "id": "cUDnd5zLCdDE"
      },
      "execution_count": null,
      "outputs": []
    },
    {
      "cell_type": "code",
      "source": [
        "# print(X_train_full.shape)\n",
        "# print(y_train_full.shape)\n",
        "# print(X_train.shape)\n",
        "# print(X_val.shape)\n",
        "# print(y_train.shape)\n",
        "# print(y_val.shape)"
      ],
      "metadata": {
        "execution": {
          "iopub.status.busy": "2023-05-26T14:20:06.527274Z",
          "iopub.status.idle": "2023-05-26T14:20:06.527862Z",
          "shell.execute_reply.started": "2023-05-26T14:20:06.527479Z",
          "shell.execute_reply": "2023-05-26T14:20:06.527500Z"
        },
        "trusted": true,
        "id": "kWC4sUkjCdDF"
      },
      "execution_count": null,
      "outputs": []
    },
    {
      "cell_type": "code",
      "source": [
        "# early_stopping = keras.callbacks.EarlyStopping(\n",
        "#     monitor = 'val_loss', ## validation loss\n",
        "#     patience=5,\n",
        "#     min_delta=0.01,\n",
        "#     restore_best_weights=True,\n",
        "#     start_from_epoch = 30,\n",
        "# )\n",
        "\n",
        "# history = model.fit(\n",
        "#     X_train, y_train,\n",
        "#     validation_data=(X_val, y_val),\n",
        "#     batch_size=32,\n",
        "#     epochs=100,\n",
        "#     callbacks=[early_stopping],\n",
        "# )"
      ],
      "metadata": {
        "execution": {
          "iopub.status.busy": "2023-05-26T14:20:06.529167Z",
          "iopub.status.idle": "2023-05-26T14:20:06.529919Z",
          "shell.execute_reply.started": "2023-05-26T14:20:06.529674Z",
          "shell.execute_reply": "2023-05-26T14:20:06.529702Z"
        },
        "trusted": true,
        "id": "Fcmod2QtCdDG"
      },
      "execution_count": null,
      "outputs": []
    },
    {
      "cell_type": "code",
      "source": [
        "# history.history"
      ],
      "metadata": {
        "execution": {
          "iopub.status.busy": "2023-05-29T16:15:18.578905Z",
          "iopub.execute_input": "2023-05-29T16:15:18.579297Z",
          "iopub.status.idle": "2023-05-29T16:15:18.585829Z",
          "shell.execute_reply.started": "2023-05-29T16:15:18.579262Z",
          "shell.execute_reply": "2023-05-29T16:15:18.583864Z"
        },
        "trusted": true,
        "id": "91lmCjk3CdDG"
      },
      "execution_count": null,
      "outputs": []
    },
    {
      "cell_type": "code",
      "source": [
        "## regularization only on training data => makes training lc larger than val lc\n",
        "history_df = pd.DataFrame(history.history)\n",
        "history_df.loc[:, ['loss', 'val_loss']].plot(title=\"Cross-entropy\")\n",
        "history_df.loc[:, ['binary_accuracy', 'val_binary_accuracy']].plot(title=\"Accuracy\")\n",
        "# history_df.loc[:, ['loss']].plot(title=\"Cross-entropy\")\n",
        "# history_df.loc[:, ['binary_accuracy']].plot(title=\"Accuracy\")"
      ],
      "metadata": {
        "execution": {
          "iopub.status.busy": "2023-05-29T15:32:52.300604Z",
          "iopub.execute_input": "2023-05-29T15:32:52.301622Z",
          "iopub.status.idle": "2023-05-29T15:32:52.815386Z",
          "shell.execute_reply.started": "2023-05-29T15:32:52.301590Z",
          "shell.execute_reply": "2023-05-29T15:32:52.813963Z"
        },
        "trusted": true,
        "id": "D9phfRSjCdDH"
      },
      "execution_count": null,
      "outputs": []
    },
    {
      "cell_type": "code",
      "source": [
        "pred_NN = (model.predict(X_test) > 0.5) ## makes values True or False"
      ],
      "metadata": {
        "execution": {
          "iopub.status.busy": "2023-05-29T16:21:21.759133Z",
          "iopub.execute_input": "2023-05-29T16:21:21.761060Z",
          "iopub.status.idle": "2023-05-29T16:21:22.687596Z",
          "shell.execute_reply.started": "2023-05-29T16:21:21.760881Z",
          "shell.execute_reply": "2023-05-29T16:21:22.683774Z"
        },
        "trusted": true,
        "id": "bqCz3u0ZCdDH"
      },
      "execution_count": null,
      "outputs": []
    },
    {
      "cell_type": "code",
      "source": [
        "# ## saving and loading the model (work for sequencial and functional)\n",
        "# model.save(\"my_keras_model.h5\")\n",
        "# model = keras.models.load_model(\"my_keras_model.h5\")"
      ],
      "metadata": {
        "execution": {
          "iopub.status.busy": "2023-05-26T14:20:06.539088Z",
          "iopub.status.idle": "2023-05-26T14:20:06.539586Z",
          "shell.execute_reply.started": "2023-05-26T14:20:06.539357Z",
          "shell.execute_reply": "2023-05-26T14:20:06.539381Z"
        },
        "trusted": true,
        "id": "J9P9WElNCdDI"
      },
      "execution_count": null,
      "outputs": []
    },
    {
      "cell_type": "markdown",
      "source": [
        "# Stacking Method"
      ],
      "metadata": {
        "id": "hgBEwFpECdDI"
      }
    },
    {
      "cell_type": "code",
      "source": [
        "## building multiple (simple) neural networks for first layer and using hypertuned NN above for meta-learner"
      ],
      "metadata": {
        "execution": {
          "iopub.status.busy": "2023-05-29T17:14:39.079700Z",
          "iopub.execute_input": "2023-05-29T17:14:39.080219Z",
          "iopub.status.idle": "2023-05-29T17:14:39.086175Z",
          "shell.execute_reply.started": "2023-05-29T17:14:39.080181Z",
          "shell.execute_reply": "2023-05-29T17:14:39.085082Z"
        },
        "trusted": true,
        "id": "tytAfGRTCdDI"
      },
      "execution_count": null,
      "outputs": []
    },
    {
      "cell_type": "code",
      "source": [
        "def build_model_layer1(lr = 1e-3, units = 256, hidden_layers = 2, dropout = 0.3):\n",
        "    \"\"\"\n",
        "    functional (API) model that is wide (simple rules) and deep (complex rules). Note: cannot use selu b/c network contains skip\n",
        "    connections. More tuning hyperparameters. used to build multiple models quickly w/o hypertuning for stacking ensemble\n",
        "    \"\"\"\n",
        "#     lr = hp.Float('lr', min_value = 1e-4, max_value = 1e-2, sampling = 'log')\n",
        "#     units = hp.Int(\"units\", min_value=32, max_value=512, step=32, default = 64)\n",
        "#     hidden_layers = hp.Int(\"layers\", min_value=1, max_value=4, step=1, default = 2)\n",
        "#     dropout = hp.Float('do', min_value = 0.2, max_value = 0.5, step = 0.05, default = 0.3)\n",
        "\n",
        "    input = keras.layers.Input(shape=X_train_full.shape[1])\n",
        "    BN0 = layers.BatchNormalization()(input)\n",
        "    layer_names = [BN0, 'HL1', 'HL2', 'HL3', 'HL4']\n",
        "    for layer in range(1,hidden_layers+1):\n",
        "        layer_names[layer] = layers.Dense(units, activation = 'relu', kernel_initializer = keras.initializers.HeNormal())(layer_names[layer - 1])\n",
        "        BN = layers.BatchNormalization()(layer_names[layer])\n",
        "        layer_names[layer] = layers.Dropout(dropout)(BN)\n",
        "\n",
        "\n",
        "    concat = keras.layers.Concatenate()([input, layer_names[layer]])\n",
        "    output = layers.Dense(1, activation = 'sigmoid')(concat)\n",
        "    model = keras.models.Model(inputs=[input], outputs=[output])\n",
        "\n",
        "    learning_sched = keras.optimizers.schedules.ExponentialDecay(\n",
        "        initial_learning_rate = lr,\n",
        "        decay_steps=100000,\n",
        "        decay_rate=0.96,\n",
        "        staircase=True)\n",
        "    model.compile(\n",
        "        optimizer=keras.optimizers.Nadam(learning_rate= learning_sched),#'Nadam',\n",
        "        loss='binary_crossentropy',\n",
        "        metrics=['binary_accuracy'],\n",
        "    )\n",
        "\n",
        "    return model\n",
        "# build_model(keras_tuner.HyperParameters())\n",
        "# model.summary()"
      ],
      "metadata": {
        "execution": {
          "iopub.status.busy": "2023-05-29T17:14:39.478907Z",
          "iopub.execute_input": "2023-05-29T17:14:39.479310Z",
          "iopub.status.idle": "2023-05-29T17:14:39.492192Z",
          "shell.execute_reply.started": "2023-05-29T17:14:39.479276Z",
          "shell.execute_reply": "2023-05-29T17:14:39.490544Z"
        },
        "trusted": true,
        "id": "rwBZPdggCdDJ"
      },
      "execution_count": null,
      "outputs": []
    },
    {
      "cell_type": "code",
      "source": [
        "def aggregate(y1, y2):\n",
        "    X = None\n",
        "    if y1 is None:\n",
        "        X = y2\n",
        "    if y2 is None:\n",
        "        X = y1\n",
        "    if X is None:\n",
        "        X = np.concatenate((y1,y2), axis = 1)\n",
        "    return X"
      ],
      "metadata": {
        "execution": {
          "iopub.status.busy": "2023-05-29T17:14:50.895319Z",
          "iopub.execute_input": "2023-05-29T17:14:50.895686Z",
          "iopub.status.idle": "2023-05-29T17:14:50.903642Z",
          "shell.execute_reply.started": "2023-05-29T17:14:50.895659Z",
          "shell.execute_reply": "2023-05-29T17:14:50.901759Z"
        },
        "trusted": true,
        "id": "B_WOJX_8CdDJ"
      },
      "execution_count": null,
      "outputs": []
    },
    {
      "cell_type": "code",
      "source": [
        "def prepare_layer2(num_of_models = 3):\n",
        "    all_models = [0]*num_of_models\n",
        "    X_layer2 = None\n",
        "    for i in range(num_of_models):\n",
        "        model = build_model_layer1(lr = rnd.uniform(1e-4, 1e-2), units = rnd.randrange(32, 512, 32), hidden_layers = rnd.randrange(2, 5, 1), dropout = rnd.uniform(0.2,0.5))\n",
        "\n",
        "        history = model.fit(\n",
        "            X_train_full, y_train_full,\n",
        "        #     validation_data=(X_val, y_val),\n",
        "            validation_split = 0.2,\n",
        "            batch_size=32,\n",
        "            epochs=100,\n",
        "            callbacks=[early_stopping]#, tensorboard_callback],\n",
        "        )\n",
        "        all_models[i] = model\n",
        "        y_pred = model.predict(X_train_full)\n",
        "        X_layer2 = aggregate(X_layer2, y_pred)\n",
        "    return X_layer2, all_models\n"
      ],
      "metadata": {
        "execution": {
          "iopub.status.busy": "2023-05-29T17:14:52.235694Z",
          "iopub.execute_input": "2023-05-29T17:14:52.236101Z",
          "iopub.status.idle": "2023-05-29T17:14:52.244415Z",
          "shell.execute_reply.started": "2023-05-29T17:14:52.236065Z",
          "shell.execute_reply": "2023-05-29T17:14:52.243134Z"
        },
        "trusted": true,
        "id": "RON9RDixCdDM"
      },
      "execution_count": null,
      "outputs": []
    },
    {
      "cell_type": "code",
      "source": [
        "X_layer2, all_models = prepare_layer2()"
      ],
      "metadata": {
        "execution": {
          "iopub.status.busy": "2023-05-29T17:21:12.571011Z",
          "iopub.execute_input": "2023-05-29T17:21:12.571472Z",
          "iopub.status.idle": "2023-05-29T17:25:50.373192Z",
          "shell.execute_reply.started": "2023-05-29T17:21:12.571407Z",
          "shell.execute_reply": "2023-05-29T17:25:50.372035Z"
        },
        "trusted": true,
        "id": "mowjq8NVCdDN"
      },
      "execution_count": null,
      "outputs": []
    },
    {
      "cell_type": "code",
      "source": [
        "scaler = StandardScaler()\n",
        "X_process_layer2  = scaler.fit_transform(pd.DataFrame(X_layer2))"
      ],
      "metadata": {
        "execution": {
          "iopub.status.busy": "2023-05-29T18:08:23.421884Z",
          "iopub.execute_input": "2023-05-29T18:08:23.422241Z",
          "iopub.status.idle": "2023-05-29T18:08:23.433205Z",
          "shell.execute_reply.started": "2023-05-29T18:08:23.422210Z",
          "shell.execute_reply": "2023-05-29T18:08:23.432213Z"
        },
        "trusted": true,
        "id": "83uTOKAbCdDN"
      },
      "execution_count": null,
      "outputs": []
    },
    {
      "cell_type": "code",
      "source": [
        "# X_process_layer2 = preprocess_layer2(pd.DataFrame(X_layer2), training = True)"
      ],
      "metadata": {
        "execution": {
          "iopub.status.busy": "2023-05-29T18:02:49.308980Z",
          "iopub.execute_input": "2023-05-29T18:02:49.309629Z",
          "iopub.status.idle": "2023-05-29T18:02:49.325793Z",
          "shell.execute_reply.started": "2023-05-29T18:02:49.309593Z",
          "shell.execute_reply": "2023-05-29T18:02:49.324114Z"
        },
        "trusted": true,
        "id": "8nRH0Wz9CdDO"
      },
      "execution_count": null,
      "outputs": []
    },
    {
      "cell_type": "code",
      "source": [
        "def build_model():\n",
        "    \"\"\"\n",
        "    sequential model with relu act. fct. and Batch norm.\n",
        "    \"\"\"\n",
        "#     input_shape = [X_train.shape[1]]\n",
        "    model = keras.Sequential([\n",
        "#         layers.BatchNormalization(input_shape = input_shape),\n",
        "        layers.BatchNormalization(),\n",
        "\n",
        "        layers.Dense(256, activation = 'relu', kernel_initializer = keras.initializers.HeNormal()),## elu or relu act fct\n",
        "        layers.BatchNormalization(),\n",
        "        layers.Dropout(0.3),\n",
        "\n",
        "        layers.Dense(256, activation = 'relu', kernel_initializer = keras.initializers.HeNormal()),\n",
        "        layers.BatchNormalization(),\n",
        "        layers.Dropout(0.3),\n",
        "\n",
        "        layers.Dense(1, activation = 'sigmoid')\n",
        "\n",
        "    ])\n",
        "#     lr = hp.Float('lr', min_value = 1e-4, max_value = 1e-2, sampling = 'log')\n",
        "    learning_sched = keras.optimizers.schedules.ExponentialDecay(\n",
        "        initial_learning_rate = 1e-3,\n",
        "        decay_steps=100000,\n",
        "        decay_rate=0.96,\n",
        "        staircase=True)\n",
        "    model.compile(\n",
        "        optimizer=keras.optimizers.Nadam(learning_rate= learning_sched),#'Nadam',\n",
        "        loss='binary_crossentropy',\n",
        "        metrics=['binary_accuracy'],\n",
        "    )\n",
        "\n",
        "    return model\n",
        "# build_model(keras_tuner.HyperParameters())\n",
        "# model.summary()"
      ],
      "metadata": {
        "execution": {
          "iopub.status.busy": "2023-05-29T18:08:30.123658Z",
          "iopub.execute_input": "2023-05-29T18:08:30.124038Z",
          "iopub.status.idle": "2023-05-29T18:08:30.132551Z",
          "shell.execute_reply.started": "2023-05-29T18:08:30.124003Z",
          "shell.execute_reply": "2023-05-29T18:08:30.131439Z"
        },
        "trusted": true,
        "id": "y7NJGXOsCdDO"
      },
      "execution_count": null,
      "outputs": []
    },
    {
      "cell_type": "code",
      "source": [
        "best_model = build_model()\n",
        "# Build the model.\n",
        "# Needed for `Sequential` without specified `input_shape`.\n",
        "# input_shape = [None, X_train_full.shape[1]]\n",
        "best_model.build(input_shape = [None, X_process_layer2.shape[1]])\n",
        "best_model.summary()"
      ],
      "metadata": {
        "execution": {
          "iopub.status.busy": "2023-05-29T18:08:30.561801Z",
          "iopub.execute_input": "2023-05-29T18:08:30.562940Z",
          "iopub.status.idle": "2023-05-29T18:08:30.684655Z",
          "shell.execute_reply.started": "2023-05-29T18:08:30.562880Z",
          "shell.execute_reply": "2023-05-29T18:08:30.683478Z"
        },
        "trusted": true,
        "id": "u4GshIXACdDP"
      },
      "execution_count": null,
      "outputs": []
    },
    {
      "cell_type": "code",
      "source": [
        "history = best_model.fit(\n",
        "    X_process_layer2, y_train_full,\n",
        "#     validation_data=(X_val, y_val),\n",
        "    validation_split = 0.2,\n",
        "    batch_size=32,\n",
        "    epochs=100,\n",
        "    callbacks=[early_stopping]#, tensorboard_callback],\n",
        ")"
      ],
      "metadata": {
        "execution": {
          "iopub.status.busy": "2023-05-29T18:08:36.904408Z",
          "iopub.execute_input": "2023-05-29T18:08:36.904912Z",
          "iopub.status.idle": "2023-05-29T18:09:11.756689Z",
          "shell.execute_reply.started": "2023-05-29T18:08:36.904865Z",
          "shell.execute_reply": "2023-05-29T18:09:11.755394Z"
        },
        "trusted": true,
        "id": "vxkwoVgpCdDP"
      },
      "execution_count": null,
      "outputs": []
    },
    {
      "cell_type": "code",
      "source": [
        "## regularization only on training data => makes training lc larger than val lc\n",
        "history_df = pd.DataFrame(history.history)\n",
        "history_df.loc[:, ['loss', 'val_loss']].plot(title=\"Cross-entropy\")\n",
        "history_df.loc[:, ['binary_accuracy', 'val_binary_accuracy']].plot(title=\"Accuracy\")\n",
        "# history_df.loc[:, ['loss']].plot(title=\"Cross-entropy\")\n",
        "# history_df.loc[:, ['binary_accuracy']].plot(title=\"Accuracy\")"
      ],
      "metadata": {
        "execution": {
          "iopub.status.busy": "2023-05-29T18:09:11.759069Z",
          "iopub.execute_input": "2023-05-29T18:09:11.759519Z",
          "iopub.status.idle": "2023-05-29T18:09:12.219127Z",
          "shell.execute_reply.started": "2023-05-29T18:09:11.759473Z",
          "shell.execute_reply": "2023-05-29T18:09:12.217994Z"
        },
        "trusted": true,
        "id": "ow-NU0plCdDQ"
      },
      "execution_count": null,
      "outputs": []
    },
    {
      "cell_type": "code",
      "source": [
        "# def predict_test(X_test)\n",
        "X_test_layer2 = None\n",
        "for mod in all_models:\n",
        "    y_pred = mod.predict(X_test)\n",
        "    X_test_layer2 = aggregate(X_test_layer2, y_pred)\n",
        "\n",
        "X_test_layer2 = scaler.transform(pd.DataFrame(X_test_layer2))"
      ],
      "metadata": {
        "execution": {
          "iopub.status.busy": "2023-05-29T18:09:12.220962Z",
          "iopub.execute_input": "2023-05-29T18:09:12.221325Z",
          "iopub.status.idle": "2023-05-29T18:09:13.430438Z",
          "shell.execute_reply.started": "2023-05-29T18:09:12.221290Z",
          "shell.execute_reply": "2023-05-29T18:09:13.429685Z"
        },
        "trusted": true,
        "id": "MzyEYkw7CdDQ"
      },
      "execution_count": null,
      "outputs": []
    },
    {
      "cell_type": "code",
      "source": [
        "pred_NN = (best_model.predict(X_test_layer2) > 0.5) ## makes values True or False"
      ],
      "metadata": {
        "execution": {
          "iopub.status.busy": "2023-05-29T18:09:40.164971Z",
          "iopub.execute_input": "2023-05-29T18:09:40.165356Z",
          "iopub.status.idle": "2023-05-29T18:09:40.554340Z",
          "shell.execute_reply.started": "2023-05-29T18:09:40.165325Z",
          "shell.execute_reply": "2023-05-29T18:09:40.553205Z"
        },
        "trusted": true,
        "id": "8G3qvI7mCdDQ"
      },
      "execution_count": null,
      "outputs": []
    },
    {
      "cell_type": "markdown",
      "source": [
        "# Generate a submit file\n"
      ],
      "metadata": {
        "id": "Z91TvFzLCdDR"
      }
    },
    {
      "cell_type": "code",
      "source": [
        "y_pred = pred_NN\n",
        "\n",
        "submission_df = pd.DataFrame(columns=['PassengerId', 'Transported'])\n",
        "submission_df['PassengerId'] = PassengerId_test.values\n",
        "submission_df['Transported'] = y_pred\n",
        "submission_df.to_csv('submissions.csv', header=True, index=False)\n",
        "print(\"Your submission was successfully saved!\")\n",
        "submission_df.head(10)"
      ],
      "metadata": {
        "execution": {
          "iopub.status.busy": "2023-05-26T14:43:36.073664Z",
          "iopub.execute_input": "2023-05-26T14:43:36.074187Z",
          "iopub.status.idle": "2023-05-26T14:43:36.114872Z",
          "shell.execute_reply.started": "2023-05-26T14:43:36.074140Z",
          "shell.execute_reply": "2023-05-26T14:43:36.113607Z"
        },
        "trusted": true,
        "id": "NWFMsHTaCdDR"
      },
      "execution_count": null,
      "outputs": []
    },
    {
      "cell_type": "code",
      "source": [
        "## under 4% off from top spot on leaderboard\n",
        "## 0.79191, 0.82182"
      ],
      "metadata": {
        "execution": {
          "iopub.status.busy": "2024-11-06T15:48:47.821786Z",
          "iopub.execute_input": "2024-11-06T15:48:47.822646Z",
          "iopub.status.idle": "2024-11-06T15:48:47.847069Z",
          "shell.execute_reply.started": "2024-11-06T15:48:47.822602Z",
          "shell.execute_reply": "2024-11-06T15:48:47.845764Z"
        },
        "trusted": true,
        "id": "ZlUKBdgaCdDS"
      },
      "execution_count": null,
      "outputs": []
    },
    {
      "cell_type": "markdown",
      "source": [
        "# End"
      ],
      "metadata": {
        "id": "kGjBuB68CdDS"
      }
    },
    {
      "cell_type": "code",
      "source": [],
      "metadata": {
        "id": "PrttNaH4CdDT"
      },
      "execution_count": null,
      "outputs": []
    }
  ]
}